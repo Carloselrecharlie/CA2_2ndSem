{
 "cells": [
  {
   "cell_type": "code",
   "execution_count": 1,
   "id": "7ea7399f",
   "metadata": {},
   "outputs": [],
   "source": [
    "import datetime\n",
    "import tarfile\n",
    "import json\n",
    "import bz2\n",
    "import pandas as pd\n",
    "import numpy as np\n",
    "import matplotlib.pyplot as plt\n",
    "%matplotlib inline"
   ]
  },
  {
   "cell_type": "markdown",
   "id": "7fe933cf",
   "metadata": {},
   "source": [
    "## Filtering tweets from monthly .tar files"
   ]
  },
  {
   "cell_type": "code",
   "execution_count": 2,
   "id": "0b38e724",
   "metadata": {
    "scrolled": true
   },
   "outputs": [],
   "source": [
    "#keywords to filter the tweets\n",
    "keywords=['gmo','gmos','gm food','gm foods','transgenic', 'transgenics','genetically-modified','genetically modified']\n",
    "\n",
    "# initializing array which will hold the filtered tweets\n",
    "filteredTweets=[]\n",
    "\n",
    "\n",
    "# opening the tar file\n",
    "with tarfile.open('data/TweetDS.tar', 'r') as tar:\n",
    "    \n",
    "    # iterating through all files and directories\n",
    "    for member in tar.getmembers():\n",
    "        \n",
    "        #skipping directories\n",
    "        if member.isdir():\n",
    "            continue\n",
    "        \n",
    "        #looking for the target files json.bz2\n",
    "        if member.name.endswith('.json.bz2'):\n",
    "            \n",
    "            # extracting each file\n",
    "            file = tar.extractfile(member)\n",
    "         \n",
    "            #reading in and decompressing the file\n",
    "            noBz2 = bz2.decompress(file.read()).decode('utf-8')\n",
    "            \n",
    "            # handling each tweet to find the match\n",
    "            for line in noBz2.splitlines():\n",
    "                \n",
    "                #each line is one tweet in json format, therefore loading line by line\n",
    "                tweet = json.loads(line)\n",
    "\n",
    "                # making sure the tweet has the fields 'text' and 'created_at'. If not they'll be skipped\n",
    "                if 'text' not in tweet or 'created_at' not in tweet or tweet['user']['lang'] != 'en':\n",
    "                    continue\n",
    "\n",
    "                # Skipping retweets\n",
    "                if tweet['text'].startswith('RT') and tweet.get('retweeted_status') is not None:\n",
    "                    continue\n",
    "                \n",
    "                # storing fields if present\n",
    "                tweetTxt = tweet['text']\n",
    "                created_at = tweet['created_at']\n",
    "\n",
    "                # Searching matches in text, splitting by words, lower case like keywords\n",
    "                if any(keyword in tweetTxt.lower().split() for keyword in keywords):                \n",
    "                    # Add the matching tweet to the list\n",
    "                    filteredTweets.append({\n",
    "                        'text': tweetTxt,\n",
    "                        'created_at': created_at\n",
    "                    })\n",
    "                    \n",
    "\n",
    "                    \n",
    "#writting the fields from matching tweets to a json output file\n",
    "with open('myTweets.json', 'w') as output:\n",
    "    json.dump(filteredTweets, output)"
   ]
  },
  {
   "cell_type": "code",
   "execution_count": 3,
   "id": "82bedd10",
   "metadata": {},
   "outputs": [],
   "source": [
    "from pyspark.sql.types import *\n",
    "from pyspark.sql.functions import udf, desc, min, max, date_format, expr, hour, month, dayofweek, count\n",
    "from pyspark.sql import functions as F #module that includes a variety of functions like to extract features"
   ]
  },
  {
   "cell_type": "code",
   "execution_count": 4,
   "id": "7f403b5d",
   "metadata": {},
   "outputs": [
    {
     "data": {
      "text/html": [
       "\n",
       "        <div>\n",
       "            <p><b>SparkContext</b></p>\n",
       "\n",
       "            <p><a href=\"http://cacu-VirtualBox.mshome.net:4043\">Spark UI</a></p>\n",
       "\n",
       "            <dl>\n",
       "              <dt>Version</dt>\n",
       "                <dd><code>v3.2.3</code></dd>\n",
       "              <dt>Master</dt>\n",
       "                <dd><code>local[*]</code></dd>\n",
       "              <dt>AppName</dt>\n",
       "                <dd><code>PySparkShell</code></dd>\n",
       "            </dl>\n",
       "        </div>\n",
       "        "
      ],
      "text/plain": [
       "<SparkContext master=local[*] appName=PySparkShell>"
      ]
     },
     "execution_count": 4,
     "metadata": {},
     "output_type": "execute_result"
    }
   ],
   "source": [
    "sc"
   ]
  },
  {
   "cell_type": "markdown",
   "id": "909ee41f",
   "metadata": {},
   "source": [
    "### Loading data files to pyspark"
   ]
  },
  {
   "cell_type": "code",
   "execution_count": 5,
   "id": "5f5ad2bc",
   "metadata": {
    "scrolled": true
   },
   "outputs": [
    {
     "name": "stderr",
     "output_type": "stream",
     "text": [
      "                                                                                \r"
     ]
    },
    {
     "name": "stdout",
     "output_type": "stream",
     "text": [
      "root\n",
      " |-- created_at: timestamp (nullable = true)\n",
      " |-- text: string (nullable = true)\n",
      "\n"
     ]
    },
    {
     "name": "stderr",
     "output_type": "stream",
     "text": [
      "\r",
      "[Stage 1:>                                                          (0 + 1) / 1]\r"
     ]
    },
    {
     "name": "stdout",
     "output_type": "stream",
     "text": [
      "+-------------------+--------------------+\n",
      "|         created_at|                text|\n",
      "+-------------------+--------------------+\n",
      "|2012-01-02 20:09:42|USDA has settled ...|\n",
      "|2012-01-03 02:41:36|Sounds INSANE. GM...|\n",
      "|2012-01-03 06:57:08|Petition: Tell th...|\n",
      "|2012-01-03 12:30:19|Mandatory GMO foo...|\n",
      "|2012-01-03 14:11:44|http://t.co/TI9oL...|\n",
      "|2012-01-03 16:10:27|Want to learn mor...|\n",
      "|2012-01-03 17:53:55|Safety assessment...|\n",
      "|2012-01-03 18:30:38|GMO labeling effo...|\n",
      "|2012-01-03 20:04:57|Leaked: US to Sta...|\n",
      "|2012-01-04 00:22:12|Leaked: US to Sta...|\n",
      "|2012-01-04 13:37:46|@IPIMCIMCIM  GMOs...|\n",
      "|2012-01-05 02:42:31|@Kaybaebaeeee gmo...|\n",
      "|2012-01-05 06:10:28|Apel ws. legislac...|\n",
      "|2012-01-05 09:36:54|Woman files class...|\n",
      "|2012-01-05 16:14:15|Leaked: US to Sta...|\n",
      "|2012-01-05 17:42:20|@harjxo GMO twidd...|\n",
      "|2012-01-05 19:42:18|@songbirdtiff Yup...|\n",
      "|2012-01-05 21:07:46|Label GMO food ca...|\n",
      "|2012-01-06 00:21:13|Transgenic Trees ...|\n",
      "|2012-01-06 01:31:14|Woman Sues Frito-...|\n",
      "+-------------------+--------------------+\n",
      "only showing top 20 rows\n",
      "\n"
     ]
    },
    {
     "name": "stderr",
     "output_type": "stream",
     "text": [
      "\r",
      "                                                                                \r"
     ]
    }
   ],
   "source": [
    "#funtion to parce the date string\n",
    "def parseDate(date_str):\n",
    "    return datetime.datetime.strptime(date_str, '%a %b %d %H:%M:%S %z %Y') # strptime() method creates a datetime object from a string\n",
    "\n",
    "#user-defined function so that it can be used with spark. Returns timestamp object from the string provided \n",
    "parse_date_udf= udf(parseDate, TimestampType())\n",
    "\n",
    "#reading in all the monthly json files\n",
    "tweetsDf= spark.read.json('hdfs://localhost:9000/user1/tweet*.json')\n",
    "\n",
    "# applying udf to column\n",
    "tweetsDf= tweetsDf.withColumn('created_at', parse_date_udf(tweetsDf['created_at']))\n",
    "\n",
    "#sorting by timestamp\n",
    "tweetsDf= tweetsDf.orderBy('created_at')\n",
    "\n",
    "tweetsDf.printSchema();tweetsDf.show()"
   ]
  },
  {
   "cell_type": "markdown",
   "id": "5ae5bd59",
   "metadata": {},
   "source": [
    "### Checking RDD, word count and hashtags"
   ]
  },
  {
   "cell_type": "code",
   "execution_count": 6,
   "id": "302df7cf",
   "metadata": {},
   "outputs": [],
   "source": [
    "#from pyspark.sql import SparkSession"
   ]
  },
  {
   "cell_type": "code",
   "execution_count": 7,
   "id": "b667e5e5",
   "metadata": {},
   "outputs": [],
   "source": [
    "#spark = SparkSession.builder.getOrCreate()"
   ]
  },
  {
   "cell_type": "code",
   "execution_count": 8,
   "id": "6fd6bdbc",
   "metadata": {},
   "outputs": [],
   "source": [
    "#converting df to an RDD\n",
    "tweetsRdd = tweetsDf.rdd"
   ]
  },
  {
   "cell_type": "code",
   "execution_count": 9,
   "id": "cd904e6a",
   "metadata": {},
   "outputs": [
    {
     "name": "stdout",
     "output_type": "stream",
     "text": [
      "3981\n"
     ]
    },
    {
     "name": "stderr",
     "output_type": "stream",
     "text": [
      "\r",
      "[Stage 5:>                                                          (0 + 1) / 1]\r",
      "\r",
      "                                                                                \r"
     ]
    }
   ],
   "source": [
    "# number of rows (tweets) in the RDD\n",
    "print(tweetsRdd.count())"
   ]
  },
  {
   "cell_type": "code",
   "execution_count": 10,
   "id": "3711b58e",
   "metadata": {},
   "outputs": [
    {
     "name": "stdout",
     "output_type": "stream",
     "text": [
      "Row(created_at=datetime.datetime(2012, 1, 2, 20, 9, 42), text='USDA has settled upon a superb solution: let the GMO industry conduct its own environmental impact tests. http://t.co/Ed5BbDRb')\n",
      "Row(created_at=datetime.datetime(2012, 1, 3, 2, 41, 36), text='Sounds INSANE. GMO mosquitoes to be released in Florida?? http://t.co/vuBBMAUm')\n",
      "Row(created_at=datetime.datetime(2012, 1, 3, 6, 57, 8), text=\"Petition: Tell the White House to say NO to Dow's Agent Orange GMO corn http://t.co/XvT6zuoS via @HealthRanger\")\n",
      "Row(created_at=datetime.datetime(2012, 1, 3, 12, 30, 19), text='Mandatory GMO food labeling implies risks where there are none http://t.co/e69RqhNI')\n",
      "Row(created_at=datetime.datetime(2012, 1, 3, 14, 11, 44), text='http://t.co/TI9oLRKd \" Does GMO mean God Move over?\"')\n"
     ]
    }
   ],
   "source": [
    "#first 5 rows of the RDD\n",
    "for tweet in tweetsRdd.take(5):\n",
    "    print(tweet)"
   ]
  },
  {
   "cell_type": "code",
   "execution_count": 30,
   "id": "40b8a5a8",
   "metadata": {
    "scrolled": true
   },
   "outputs": [
    {
     "data": {
      "image/png": "[encoded data removed]",
      "text/plain": [
       "<Figure size 432x288 with 1 Axes>"
      ]
     },
     "metadata": {
      "needs_background": "light"
     },
     "output_type": "display_data"
    }
   ],
   "source": [
    "#counting the number of words in each tweet by splitting text\n",
    "wordCounts= tweetsRdd.map(lambda row: len(row.text.split())).collect()\n",
    "\n",
    "#plotting the histogram\n",
    "plt.hist(wordCounts, bins=15, edgecolor='white')\n",
    "plt.xlabel('Number of words')\n",
    "plt.ylabel('Frequency')\n",
    "plt.title('Fig. 1 - Word Count Histogram')\n",
    "plt.show()"
   ]
  },
  {
   "cell_type": "code",
   "execution_count": 36,
   "id": "c58b2d1d",
   "metadata": {},
   "outputs": [
    {
     "data": {
      "text/plain": [
       "15.198944988696308"
      ]
     },
     "execution_count": 36,
     "metadata": {},
     "output_type": "execute_result"
    }
   ],
   "source": [
    "#average number of words per tweet\n",
    "sum(wordCounts)/len(wordCounts)"
   ]
  },
  {
   "cell_type": "code",
   "execution_count": 39,
   "id": "65253fc3",
   "metadata": {},
   "outputs": [
    {
     "data": {
      "text/plain": [
       "5.306445242108765"
      ]
     },
     "execution_count": 39,
     "metadata": {},
     "output_type": "execute_result"
    }
   ],
   "source": [
    "#standar deviation\n",
    "np.std(wordCounts)"
   ]
  },
  {
   "cell_type": "code",
   "execution_count": 40,
   "id": "222e9a8b",
   "metadata": {},
   "outputs": [],
   "source": [
    "#extracting hashtags from the tweets, splitting text with single space, considering words which start with #\n",
    "hashtagsRdd = tweetsRdd.flatMap(lambda tweet: tweet[1].split(\" \")).filter(lambda word: word.startswith(\"#\"))\n",
    "\n",
    "# counting totals per hashtag\n",
    "hashtagsTotal= hashtagsRdd.map(lambda hashtag: (hashtag, 1)).reduceByKey(lambda a, b: a + b)"
   ]
  },
  {
   "cell_type": "code",
   "execution_count": null,
   "id": "fd19de9f",
   "metadata": {},
   "outputs": [],
   "source": []
  },
  {
   "cell_type": "code",
   "execution_count": 41,
   "id": "00e2c6dc",
   "metadata": {},
   "outputs": [],
   "source": [
    "#top 20 hashtags\n",
    "topHashtags= hashtagsTotal.takeOrdered(20, key=lambda x: -x[1])"
   ]
  },
  {
   "cell_type": "code",
   "execution_count": 44,
   "id": "42d4e704",
   "metadata": {},
   "outputs": [
    {
     "data": {
      "image/png": "[encoded data removed]",
      "text/plain": [
       "<Figure size 432x288 with 1 Axes>"
      ]
     },
     "metadata": {
      "needs_background": "light"
     },
     "output_type": "display_data"
    }
   ],
   "source": [
    "# extracting values to plot\n",
    "hashtags= [hashtag for (hashtag, count) in topHashtags]\n",
    "counts= [count for (hashtag, count) in topHashtags]\n",
    "\n",
    "# Plot the top hashtags\n",
    "plt.barh(hashtags, counts)\n",
    "plt.xlabel('Count')\n",
    "plt.ylabel('Hashtag')\n",
    "plt.title('Fig. 2 - Top 20 Hashtags')\n",
    "#plt.figure(figsize=(20, 20))#setting size of plot\n",
    "plt.gca().invert_yaxis()\n",
    "plt.show()"
   ]
  },
  {
   "cell_type": "markdown",
   "id": "2c244ead",
   "metadata": {},
   "source": [
    "## Duplicates"
   ]
  },
  {
   "cell_type": "code",
   "execution_count": 13,
   "id": "26a2f393",
   "metadata": {
    "scrolled": true
   },
   "outputs": [
    {
     "name": "stdout",
     "output_type": "stream",
     "text": [
      "+--------------------+-----+\n",
      "|                text|count|\n",
      "+--------------------+-----+\n",
      "|People power caus...|    2|\n",
      "|We are helping cu...|    2|\n",
      "|At Disney World's...|    2|\n",
      "|#USDA to Give #Mo...|    2|\n",
      "|good going Boulde...|    2|\n",
      "|STOP MONSANTO FRO...|    2|\n",
      "|#Hungary Destroys...|    2|\n",
      "|                 GMO|    2|\n",
      "|Just played: GMO ...|    3|\n",
      "|Mommy, what does ...|    2|\n",
      "|Healthy Budget: G...|    5|\n",
      "|Tell .@BarackObam...|    2|\n",
      "|GMO updates,Femal...|    2|\n",
      "|Healthy Budget: G...|    4|\n",
      "|Pesticide Use Ram...|    2|\n",
      "+--------------------+-----+\n",
      "\n"
     ]
    }
   ],
   "source": [
    "#grouping by text and counting them\n",
    "duplicates= tweetsDf.groupBy('text').count()\n",
    "\n",
    "# filtering the rows with count >= 2 \n",
    "duplicates= duplicates.filter(duplicates['count'] > 1)\n",
    "\n",
    "duplicates.show()"
   ]
  },
  {
   "cell_type": "code",
   "execution_count": 14,
   "id": "2e95e260",
   "metadata": {
    "scrolled": true
   },
   "outputs": [
    {
     "name": "stdout",
     "output_type": "stream",
     "text": [
      "+--------------------------------------------------------------------------------------------------------------------------------------------+\n",
      "|text                                                                                                                                        |\n",
      "+--------------------------------------------------------------------------------------------------------------------------------------------+\n",
      "|People power causes GMO firm to move from Europe to the US. http://t.co/TSaxGffw #GMOs #geneticallymodified #health                         |\n",
      "|We are helping customers and team members get informed about GMOs via our in-store info centers. Visit one in our stores today.             |\n",
      "|At Disney World's exhibit, teaching children about GMO agriculture is a \"fun activity\" http://t.co/EOKSqbGh @TrueFoodAust @TransitionSyd    |\n",
      "|#USDA to Give #Monsanto’s New GMO Crops Special ‘Speed Approval’: If you thought Monsanto’s lack of testing on their... http://t.co/OzPr4jmL|\n",
      "|good going Boulder! “@farminthehood: Boulder, Colorado Bans Growing of GMO Crops http://t.co/oalyk8kT”                                      |\n",
      "|STOP MONSANTO FROM POISONING HAWAI'I: ~HAWAII GMO JUSTICE COALITION PRESENTS: http://t.co/BcZXU6oC Kamehameha Schools Evict...              |\n",
      "|#Hungary Destroys All #Monsanto GMO Corn Fields | True Activist http://t.co/9ClvFcjz Good!                                                  |\n",
      "|GMO                                                                                                                                         |\n",
      "|Just played: GMO Feat Beth Gibbons - JJ DOOM - KEY TO THE KUFFS - CLEAN(unknown)                                                            |\n",
      "|Mommy, what does GMO mean? Coming soon, Happy's Greenhouse! Trailer at: http://t.co/P7EEhQO6                                                |\n",
      "|Healthy Budget: Growing with Non GMO Seed for Home Garden http://t.co/eJXmLWMt\\n #Organic                                                   |\n",
      "|Tell .@BarackObama and the FDA to ban GMO salmon http//bit.ly/noGMOsalmon @food_democracy Please RT #stopFrankenfish                        |\n",
      "|GMO updates,Female Endocrine/Hormone Seminar, +NEW CNHP class - Greetings ! We are getting closer to the... http://t.co/gsKw2J8G            |\n",
      "|Healthy Budget: Growing with Non GMO Seed for Home Garden http://t.co/eJXrjwVD                                                              |\n",
      "|Pesticide Use Ramps Up As GMO Crop Tech Starts Backfiring\\n\\n.http://t.co/QTMTq5tD                                                          |\n",
      "+--------------------------------------------------------------------------------------------------------------------------------------------+\n",
      "\n"
     ]
    }
   ],
   "source": [
    "#viewing duplicates fully\n",
    "duplicates.select('text').show(truncate=False)"
   ]
  },
  {
   "cell_type": "code",
   "execution_count": 15,
   "id": "0fc7f21b",
   "metadata": {},
   "outputs": [
    {
     "data": {
      "text/plain": [
       "3981"
      ]
     },
     "execution_count": 15,
     "metadata": {},
     "output_type": "execute_result"
    }
   ],
   "source": [
    "tweetsDf.count()"
   ]
  },
  {
   "cell_type": "code",
   "execution_count": 16,
   "id": "21109eaa",
   "metadata": {},
   "outputs": [],
   "source": [
    "#dropping duplicates, keeping the oldest only\n",
    "tweetsDf= tweetsDf.dropDuplicates(subset=['text'])"
   ]
  },
  {
   "cell_type": "code",
   "execution_count": 17,
   "id": "4ffe0f61",
   "metadata": {},
   "outputs": [
    {
     "data": {
      "text/plain": [
       "3960"
      ]
     },
     "execution_count": 17,
     "metadata": {},
     "output_type": "execute_result"
    }
   ],
   "source": [
    "tweetsDf.count()"
   ]
  },
  {
   "cell_type": "code",
   "execution_count": 18,
   "id": "57dd3449",
   "metadata": {},
   "outputs": [
    {
     "name": "stdout",
     "output_type": "stream",
     "text": [
      " Between\n",
      " 2012-01-02 \n",
      " and\n",
      " 2013-03-01 \n",
      "\n"
     ]
    }
   ],
   "source": [
    "# oldest and latest dates in df\n",
    "oldestDate= tweetsDf.select(min('created_at')).first()[0].date()\n",
    "latestDate= tweetsDf.select(max('created_at')).first()[0].date()\n",
    "\n",
    "print(' Between\\n',oldestDate,'\\n and\\n',latestDate,'\\n')"
   ]
  },
  {
   "cell_type": "code",
   "execution_count": 19,
   "id": "60c6c1eb",
   "metadata": {},
   "outputs": [
    {
     "name": "stdout",
     "output_type": "stream",
     "text": [
      "+-------------------+-----+\n",
      "|         created_at|count|\n",
      "+-------------------+-----+\n",
      "|2012-11-15 04:15:07|    3|\n",
      "|2012-11-05 07:56:09|    2|\n",
      "|2012-09-25 03:20:02|    2|\n",
      "|2012-05-12 14:49:03|    2|\n",
      "|2012-10-11 07:00:16|    2|\n",
      "|2013-01-30 00:36:15|    2|\n",
      "|2012-11-10 15:17:56|    1|\n",
      "|2012-01-21 00:31:13|    1|\n",
      "|2012-06-02 05:22:09|    1|\n",
      "|2012-10-23 08:55:17|    1|\n",
      "|2012-10-04 16:30:34|    1|\n",
      "|2012-01-15 07:33:10|    1|\n",
      "|2012-02-09 16:52:34|    1|\n",
      "|2012-09-19 18:04:04|    1|\n",
      "|2012-11-26 18:55:10|    1|\n",
      "|2012-02-03 06:43:08|    1|\n",
      "|2012-07-06 13:15:52|    1|\n",
      "|2012-10-07 18:37:40|    1|\n",
      "|2012-06-22 14:34:02|    1|\n",
      "|2013-01-23 22:30:42|    1|\n",
      "+-------------------+-----+\n",
      "only showing top 20 rows\n",
      "\n"
     ]
    }
   ],
   "source": [
    "#timestamps with greatest count of tweets. Extracting timestamps with module 'functions' and aggregating counts, which are shown in a new column, descendent ordered  \n",
    "tweetsDf.groupBy('created_at').agg(F.count('*').alias('count')).orderBy(F.desc('count')).show()"
   ]
  },
  {
   "cell_type": "code",
   "execution_count": 20,
   "id": "7d4c8635",
   "metadata": {
    "scrolled": true
   },
   "outputs": [
    {
     "name": "stdout",
     "output_type": "stream",
     "text": [
      "+----------+----+------+-----+\n",
      "|      date|hour|minute|count|\n",
      "+----------+----+------+-----+\n",
      "|2012-11-07|  14|    11|    7|\n",
      "|2012-11-06|  19|    11|    6|\n",
      "|2013-02-16|  16|    02|    6|\n",
      "|2012-08-23|  19|    08|    6|\n",
      "|2012-11-06|  16|    11|    6|\n",
      "|2012-09-15|  22|    09|    6|\n",
      "|2012-09-13|  03|    09|    6|\n",
      "|2012-04-03|  04|    04|    5|\n",
      "|2012-10-03|  19|    10|    5|\n",
      "|2012-09-19|  21|    09|    5|\n",
      "|2012-09-28|  15|    09|    5|\n",
      "|2012-09-29|  17|    09|    5|\n",
      "|2012-10-18|  03|    10|    5|\n",
      "|2012-09-23|  17|    09|    5|\n",
      "|2012-09-28|  17|    09|    5|\n",
      "|2012-11-07|  17|    11|    4|\n",
      "|2012-11-03|  01|    11|    4|\n",
      "|2013-01-13|  16|    01|    4|\n",
      "|2012-08-17|  19|    08|    4|\n",
      "|2012-11-08|  17|    11|    4|\n",
      "+----------+----+------+-----+\n",
      "only showing top 20 rows\n",
      "\n"
     ]
    }
   ],
   "source": [
    "#same as above but excluding seconds, using date_format and extracting date, hours and minutes only\n",
    "tweetsDf.groupBy(\n",
    "    F.date_format('created_at', 'yyyy-MM-dd').alias('date'),\n",
    "    F.date_format('created_at', 'HH').alias('hour'),\n",
    "    F.date_format('created_at', 'MM').alias('minute')\n",
    ").agg(F.count('*').alias('count')).orderBy(F.desc('count')).show() #aggregating counts of timestamps (tweets) producing a new column"
   ]
  },
  {
   "cell_type": "code",
   "execution_count": 21,
   "id": "bcdd9b50",
   "metadata": {
    "scrolled": true
   },
   "outputs": [
    {
     "name": "stdout",
     "output_type": "stream",
     "text": [
      "+----------+----+-----+\n",
      "|      date|hour|count|\n",
      "+----------+----+-----+\n",
      "|2012-11-07|  14|    7|\n",
      "|2012-09-13|  03|    6|\n",
      "|2012-08-23|  19|    6|\n",
      "|2012-11-06|  19|    6|\n",
      "|2012-11-06|  16|    6|\n",
      "|2012-09-15|  22|    6|\n",
      "|2013-02-16|  16|    6|\n",
      "|2012-09-23|  17|    5|\n",
      "|2012-09-28|  15|    5|\n",
      "|2012-09-29|  17|    5|\n",
      "|2012-09-28|  17|    5|\n",
      "|2012-04-03|  04|    5|\n",
      "|2012-10-03|  19|    5|\n",
      "|2012-10-18|  03|    5|\n",
      "|2012-09-19|  21|    5|\n",
      "|2012-08-18|  20|    4|\n",
      "|2012-03-17|  14|    4|\n",
      "|2012-02-16|  22|    4|\n",
      "|2012-10-06|  15|    4|\n",
      "|2012-10-06|  16|    4|\n",
      "+----------+----+-----+\n",
      "only showing top 20 rows\n",
      "\n"
     ]
    }
   ],
   "source": [
    "#same as above but also excluding minutes, using date_format and extracting date and hours only\n",
    "tweetsDf.groupBy(\n",
    "    F.date_format('created_at', 'yyyy-MM-dd').alias('date'),\n",
    "    F.date_format('created_at', 'HH').alias('hour')\n",
    ").agg(F.count('*').alias('count')).orderBy(F.desc('count')).show() #aggregating counts of timestamps (tweets) producing a new column"
   ]
  },
  {
   "cell_type": "markdown",
   "id": "3c27f6e3",
   "metadata": {},
   "source": [
    "### Dates without tweets (~missing dates)"
   ]
  },
  {
   "cell_type": "code",
   "execution_count": 22,
   "id": "6840fea6",
   "metadata": {
    "scrolled": true
   },
   "outputs": [
    {
     "name": "stdout",
     "output_type": "stream",
     "text": [
      " Between\n",
      " 2012-01-02 \n",
      " and\n",
      " 2013-03-01 \n",
      "\n",
      " there are missing dates-> 5\n",
      "+----------+\n",
      "|      date|\n",
      "+----------+\n",
      "|2012-02-05|\n",
      "|2012-12-28|\n",
      "|2012-12-29|\n",
      "|2012-12-30|\n",
      "|2012-12-31|\n",
      "+----------+\n",
      "\n"
     ]
    }
   ],
   "source": [
    "print(' Between\\n',oldestDate,'\\n and\\n',latestDate,'\\n')\n",
    "\n",
    "#converting dates to Unix timestamps -> int() cannot be datetime.date\n",
    "oldestDate= int(oldestDate.strftime(\"%s\"))\n",
    "latestDate= int(latestDate.strftime(\"%s\"))\n",
    "\n",
    "#generating the list of dates. 86400 s/day\n",
    "timeRange= spark.range(start=oldestDate, end=latestDate, step=86400).selectExpr(\"to_date(from_unixtime(id)) as date\")\n",
    "\n",
    "\n",
    "\n",
    "#Listing missing dates with anti-join between the date range and the 'created_at' column. \n",
    "missingDates= timeRange.join(tweetsDf, timeRange.date == tweetsDf.created_at.cast(DateType()), 'leftanti') # leftanti selects the rows from the left df that do not have a matching key from the right df\n",
    "\n",
    "\n",
    "print(\" there are missing dates->\",missingDates.count());missingDates.show()"
   ]
  },
  {
   "cell_type": "markdown",
   "id": "dd23dff8",
   "metadata": {},
   "source": [
    "#### Checking number of natural hours per day that hold tweets"
   ]
  },
  {
   "cell_type": "code",
   "execution_count": 23,
   "id": "a06cf627",
   "metadata": {},
   "outputs": [
    {
     "name": "stdout",
     "output_type": "stream",
     "text": [
      "+----------+---------------+\n",
      "|      date|uniqueHourCount|\n",
      "+----------+---------------+\n",
      "|2012-09-26|             20|\n",
      "|2012-09-24|             18|\n",
      "|2012-10-05|             17|\n",
      "|2012-09-28|             17|\n",
      "|2012-09-20|             17|\n",
      "|2012-10-03|             17|\n",
      "|2012-10-21|             16|\n",
      "|2012-11-07|             16|\n",
      "|2012-09-27|             16|\n",
      "|2012-10-27|             16|\n",
      "|2012-11-28|             15|\n",
      "|2012-10-09|             15|\n",
      "|2012-11-06|             15|\n",
      "|2012-10-11|             15|\n",
      "|2012-10-24|             15|\n",
      "|2012-09-21|             14|\n",
      "|2012-11-14|             14|\n",
      "|2012-06-24|             14|\n",
      "|2012-10-16|             14|\n",
      "|2012-09-23|             14|\n",
      "+----------+---------------+\n",
      "only showing top 20 rows\n",
      "\n"
     ]
    }
   ],
   "source": [
    "#grouping by date and count unique hours. Extranting features with module 'functions'. Counts the unique hours per day and aggregates the totals in a new column\n",
    "hourlyPerDay = tweetsDf.groupBy(F.to_date('created_at').alias('date')).agg(F.countDistinct(F.hour('created_at')).alias('uniqueHourCount'))\n",
    "\n",
    "hourlyPerDay.orderBy(desc('uniqueHourCount')).show() # ORDENADOS DESCENDENTEMENTE PARA VER LO Q SERIA LA MEJOR PARTE, QUE EN REALIDAD EVIDENCIA QUE NO ES BUENA, AUNQ EL NUMERO DE TWEETS NO ES ALTO DE PRIMERAS"
   ]
  },
  {
   "cell_type": "code",
   "execution_count": 24,
   "id": "b4499713",
   "metadata": {
    "scrolled": true
   },
   "outputs": [
    {
     "data": {
      "text/html": [
       "<div>\n",
       "<style scoped>\n",
       "    .dataframe tbody tr th:only-of-type {\n",
       "        vertical-align: middle;\n",
       "    }\n",
       "\n",
       "    .dataframe tbody tr th {\n",
       "        vertical-align: top;\n",
       "    }\n",
       "\n",
       "    .dataframe thead th {\n",
       "        text-align: right;\n",
       "    }\n",
       "</style>\n",
       "<table border=\"1\" class=\"dataframe\">\n",
       "  <thead>\n",
       "    <tr style=\"text-align: right;\">\n",
       "      <th></th>\n",
       "      <th>uniqueHourCount</th>\n",
       "    </tr>\n",
       "  </thead>\n",
       "  <tbody>\n",
       "    <tr>\n",
       "      <th>count</th>\n",
       "      <td>420.000000</td>\n",
       "    </tr>\n",
       "    <tr>\n",
       "      <th>mean</th>\n",
       "      <td>7.176190</td>\n",
       "    </tr>\n",
       "    <tr>\n",
       "      <th>std</th>\n",
       "      <td>3.415171</td>\n",
       "    </tr>\n",
       "    <tr>\n",
       "      <th>min</th>\n",
       "      <td>1.000000</td>\n",
       "    </tr>\n",
       "    <tr>\n",
       "      <th>25%</th>\n",
       "      <td>5.000000</td>\n",
       "    </tr>\n",
       "    <tr>\n",
       "      <th>50%</th>\n",
       "      <td>7.000000</td>\n",
       "    </tr>\n",
       "    <tr>\n",
       "      <th>75%</th>\n",
       "      <td>9.000000</td>\n",
       "    </tr>\n",
       "    <tr>\n",
       "      <th>max</th>\n",
       "      <td>20.000000</td>\n",
       "    </tr>\n",
       "  </tbody>\n",
       "</table>\n",
       "</div>"
      ],
      "text/plain": [
       "       uniqueHourCount\n",
       "count       420.000000\n",
       "mean          7.176190\n",
       "std           3.415171\n",
       "min           1.000000\n",
       "25%           5.000000\n",
       "50%           7.000000\n",
       "75%           9.000000\n",
       "max          20.000000"
      ]
     },
     "execution_count": 24,
     "metadata": {},
     "output_type": "execute_result"
    }
   ],
   "source": [
    "#checking percentiles\n",
    "hourlyPerDay.toPandas().describe(percentiles=[0.25, 0.5, 0.75])"
   ]
  },
  {
   "cell_type": "code",
   "execution_count": 45,
   "id": "ae54cada",
   "metadata": {},
   "outputs": [
    {
     "data": {
      "image/png": "[encoded data removed]",
      "text/plain": [
       "<Figure size 432x288 with 1 Axes>"
      ]
     },
     "metadata": {
      "needs_background": "light"
     },
     "output_type": "display_data"
    }
   ],
   "source": [
    "#transforming to pandas for the histogram \n",
    "plt.hist(hourlyPerDay.toPandas()['uniqueHourCount'], bins=10, edgecolor='white')\n",
    "\n",
    "#Arranging axis labels, ticks, title\n",
    "plt.xlabel('Number of natural hours per day contaning tweets')\n",
    "plt.ylabel('Frequency')\n",
    "plt.xticks(np.arange(2,21,2))\n",
    "plt.title('Fig. 3 - Histogram of counts of unique hours with tweets per day')\n",
    "\n",
    "plt.show()"
   ]
  },
  {
   "cell_type": "code",
   "execution_count": null,
   "id": "5da15bd7",
   "metadata": {},
   "outputs": [],
   "source": []
  },
  {
   "cell_type": "markdown",
   "id": "08f02638",
   "metadata": {},
   "source": [
    "## Basic plots"
   ]
  },
  {
   "cell_type": "code",
   "execution_count": null,
   "id": "ee7bb071",
   "metadata": {},
   "outputs": [],
   "source": []
  },
  {
   "cell_type": "code",
   "execution_count": 46,
   "id": "2d2fc0fd",
   "metadata": {},
   "outputs": [
    {
     "data": {
      "image/png": "[encoded data removed]",
      "text/plain": [
       "<Figure size 504x288 with 1 Axes>"
      ]
     },
     "metadata": {
      "needs_background": "light"
     },
     "output_type": "display_data"
    }
   ],
   "source": [
    "#extracting each of the days of the week\n",
    "tweetsDf= tweetsDf.withColumn('day_of_week', dayofweek('created_at'))\n",
    "\n",
    "# counting number of tweets by day of the week by adding a new column\n",
    "tweetCounts= tweetsDf.groupBy('day_of_week').agg(count('*').alias('count'))\n",
    "\n",
    "\n",
    "dayLabels= ['Monday', 'Tuesday', 'Wednesday', 'Thursday', 'Friday', 'Saturday', 'Sunday']\n",
    "\n",
    "plt.figure(figsize=(7, 4))#setting size of plot\n",
    "plt.bar(tweetCounts.toPandas()['day_of_week'], tweetCounts.toPandas()['count'])#need to convert to pandas\n",
    "\n",
    "#Arranging axis labels, ticks, title\n",
    "plt.xlabel('Day of the week')\n",
    "plt.ylabel('Count of tweets')\n",
    "plt.title('Fig. 4 - Histogram of tweets per day of the week')\n",
    "plt.xticks(range(1, 8), dayLabels, rotation=45)\n",
    "plt.show()"
   ]
  },
  {
   "cell_type": "code",
   "execution_count": 47,
   "id": "b7a95289",
   "metadata": {},
   "outputs": [
    {
     "data": {
      "image/png": "[encoded data removed]",
      "text/plain": [
       "<Figure size 648x360 with 1 Axes>"
      ]
     },
     "metadata": {
      "needs_background": "light"
     },
     "output_type": "display_data"
    }
   ],
   "source": [
    "# extracting months\n",
    "tweetsDf= tweetsDf.withColumn('month', month('created_at'))\n",
    "\n",
    "#same as before adding a new column with counts\n",
    "tweetCounts= tweetsDf.groupBy('month').agg(count('*').alias('count'))\n",
    "\n",
    "\n",
    "\n",
    "monthLabels= ['January', 'February', 'March', 'April', 'May', 'June', 'July', 'August', 'September', 'October', 'November', 'December']\n",
    "\n",
    "\n",
    "plt.figure(figsize=(9, 5))\n",
    "plt.bar(tweetCounts.toPandas()['month'], tweetCounts.toPandas()['count'])\n",
    "plt.xlabel('Month')\n",
    "plt.ylabel('Count of tweets')\n",
    "plt.title('Fig. 5 - Histogram per month')\n",
    "plt.xticks(range(1, 13), monthLabels,rotation=45)\n",
    "plt.tight_layout()\n",
    "plt.show()"
   ]
  },
  {
   "cell_type": "code",
   "execution_count": 48,
   "id": "1225a455",
   "metadata": {
    "scrolled": false
   },
   "outputs": [
    {
     "data": {
      "image/png": "[encoded data removed]",
      "text/plain": [
       "<Figure size 1080x432 with 1 Axes>"
      ]
     },
     "metadata": {
      "needs_background": "light"
     },
     "output_type": "display_data"
    }
   ],
   "source": [
    "#extracting each of the 24 hours of a day\n",
    "tweetsDf= tweetsDf.withColumn('hour_of_day', hour('created_at'))\n",
    "\n",
    "#adding column with counts\n",
    "tweetCounts= tweetsDf.groupBy('hour_of_day').agg(count('*').alias('count'))\n",
    "\n",
    "\n",
    "plt.figure(figsize=(15, 6))\n",
    "plt.bar(tweetCounts.toPandas()['hour_of_day'], tweetCounts.toPandas()['count'])\n",
    "plt.xlabel('Hour of the day')\n",
    "plt.ylabel('Count of tweets')\n",
    "plt.title('Fig. 6 - Histogram per hour of the day')\n",
    "plt.xticks(range(24))\n",
    "plt.tight_layout()\n",
    "plt.show()"
   ]
  },
  {
   "cell_type": "code",
   "execution_count": null,
   "id": "64f4891b",
   "metadata": {},
   "outputs": [],
   "source": []
  },
  {
   "cell_type": "code",
   "execution_count": null,
   "id": "b3ac1fd7",
   "metadata": {},
   "outputs": [],
   "source": []
  },
  {
   "cell_type": "code",
   "execution_count": null,
   "id": "0c8cc729",
   "metadata": {
    "colab": {
     "base_uri": "https://localhost:8080/"
    },
    "id": "-sSRIdY1HZCS",
    "outputId": "ab15e23e-0924-42bb-c694-f4ddb58df4ef"
   },
   "outputs": [],
   "source": [
    "import pandas as pd\n",
    "import numpy as np\n",
    "import seaborn as sns\n",
    "import re\n",
    "import string\n",
    "from string import punctuation\n",
    "import nltk\n",
    "from nltk.corpus import stopwords\n",
    "nltk.download('stopwords')\n",
    "\n",
    "\n",
    "import matplotlib.pyplot as plt\n",
    "from sklearn.model_selection import train_test_split\n",
    "from sklearn.feature_extraction.text import CountVectorizer\n",
    "from sklearn.feature_extraction.text import TfidfTransformer\n",
    "\n",
    "import tensorflow as tf\n",
    "from tensorflow.keras.models import Sequential\n",
    "from tensorflow.keras.layers import Dense, Activation, Dropout\n",
    "from tensorflow.keras.callbacks import EarlyStopping"
   ]
  },
  {
   "cell_type": "code",
   "execution_count": null,
   "id": "29536cb4",
   "metadata": {},
   "outputs": [],
   "source": [
    "!pip install nltk"
   ]
  },
  {
   "cell_type": "code",
   "execution_count": null,
   "id": "e32dd7de",
   "metadata": {},
   "outputs": [],
   "source": []
  }
 ],
 "metadata": {
  "kernelspec": {
   "display_name": "Python 3 (ipykernel)",
   "language": "python",
   "name": "python3"
  },
  "language_info": {
   "codemirror_mode": {
    "name": "ipython",
    "version": 3
   },
   "file_extension": ".py",
   "mimetype": "text/x-python",
   "name": "python",
   "nbconvert_exporter": "python",
   "pygments_lexer": "ipython3",
   "version": "3.10.6"
  }
 },
 "nbformat": 4,
 "nbformat_minor": 5
}
