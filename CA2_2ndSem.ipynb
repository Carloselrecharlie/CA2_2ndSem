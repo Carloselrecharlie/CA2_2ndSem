{
 "cells": [
  {
   "cell_type": "code",
   "execution_count": 123,
   "id": "7ea7399f",
   "metadata": {},
   "outputs": [],
   "source": [
    "import datetime\n",
    "import tarfile\n",
    "import json\n",
    "import bz2\n",
    "import pandas as pd\n",
    "import numpy as np\n",
    "import matplotlib.pyplot as plt\n",
    "%matplotlib inline"
   ]
  },
  {
   "cell_type": "markdown",
   "id": "7fe933cf",
   "metadata": {},
   "source": [
    "## Filtering tweets from monthly .tar files"
   ]
  },
  {
   "cell_type": "code",
   "execution_count": 2,
   "id": "0b38e724",
   "metadata": {
    "scrolled": true
   },
   "outputs": [],
   "source": [
    "#keywords to filter the tweets\n",
    "keywords=['gmo','gmos','gm food','gm foods','transgenic', 'transgenics','genetically-modified','genetically modified']\n",
    "\n",
    "# initializing array which will hold the filtered tweets\n",
    "filteredTweets=[]\n",
    "\n",
    "\n",
    "# opening the tar file\n",
    "with tarfile.open('data/TweetsDS.tar', 'r') as tar:\n",
    "    \n",
    "    # iterating through all files and directories\n",
    "    for member in tar.getmembers():\n",
    "        \n",
    "        #skipping directories\n",
    "        if member.isdir():\n",
    "            continue\n",
    "        \n",
    "        #looking for the target files json.bz2\n",
    "        if member.name.endswith('.json.bz2'):\n",
    "            \n",
    "            # extracting each file\n",
    "            file = tar.extractfile(member)\n",
    "         \n",
    "            #reading in and decompressing the file\n",
    "            noBz2 = bz2.decompress(file.read()).decode('utf-8')\n",
    "            \n",
    "            # handling each tweet to find the match\n",
    "            for line in noBz2.splitlines():\n",
    "                \n",
    "                #each line is one tweet in json format, therefore loading line by line\n",
    "                tweet = json.loads(line)\n",
    "\n",
    "                # making sure the tweet has the fields 'text' and 'created_at'. If not they'll be skipped\n",
    "                if 'text' not in tweet or 'created_at' not in tweet or tweet['user']['lang'] != 'en':\n",
    "                    continue\n",
    "\n",
    "                # Skipping retweets\n",
    "                if tweet['text'].startswith('RT') and tweet.get('retweeted_status') is not None:\n",
    "                    continue\n",
    "                \n",
    "                # storing fields if present\n",
    "                tweetTxt = tweet['text']\n",
    "                created_at = tweet['created_at']\n",
    "\n",
    "                # Searching matches in text, splitting by words, lower case like keywords\n",
    "                if any(keyword in tweetTxt.lower().split() for keyword in keywords):                \n",
    "                    # Add the matching tweet to the list\n",
    "                    filteredTweets.append({\n",
    "                        'text': tweetTxt,\n",
    "                        'created_at': created_at\n",
    "                    })\n",
    "                    \n",
    "\n",
    "                    \n",
    "#writting the fields from matching tweets to a json output file\n",
    "with open('myTweets.json', 'w') as output:\n",
    "    json.dump(filteredTweets, output)"
   ]
  },
  {
   "cell_type": "code",
   "execution_count": 117,
   "id": "82bedd10",
   "metadata": {},
   "outputs": [],
   "source": [
    "from pyspark.sql.types import *\n",
    "from pyspark.sql.functions import udf, desc\n",
    "from pyspark.sql.types import TimestampType\n",
    "from pyspark.sql import functions as F"
   ]
  },
  {
   "cell_type": "code",
   "execution_count": 4,
   "id": "7f403b5d",
   "metadata": {},
   "outputs": [
    {
     "data": {
      "text/html": [
       "\n",
       "        <div>\n",
       "            <p><b>SparkContext</b></p>\n",
       "\n",
       "            <p><a href=\"http://cacu-VirtualBox.mshome.net:4041\">Spark UI</a></p>\n",
       "\n",
       "            <dl>\n",
       "              <dt>Version</dt>\n",
       "                <dd><code>v3.2.3</code></dd>\n",
       "              <dt>Master</dt>\n",
       "                <dd><code>local[*]</code></dd>\n",
       "              <dt>AppName</dt>\n",
       "                <dd><code>PySparkShell</code></dd>\n",
       "            </dl>\n",
       "        </div>\n",
       "        "
      ],
      "text/plain": [
       "<SparkContext master=local[*] appName=PySparkShell>"
      ]
     },
     "execution_count": 4,
     "metadata": {},
     "output_type": "execute_result"
    }
   ],
   "source": [
    "sc"
   ]
  },
  {
   "cell_type": "markdown",
   "id": "909ee41f",
   "metadata": {},
   "source": [
    "### Loading data files to pyspark"
   ]
  },
  {
   "cell_type": "code",
   "execution_count": 69,
   "id": "5f5ad2bc",
   "metadata": {
    "scrolled": true
   },
   "outputs": [
    {
     "name": "stdout",
     "output_type": "stream",
     "text": [
      "root\n",
      " |-- created_at: timestamp (nullable = true)\n",
      " |-- text: string (nullable = true)\n",
      "\n",
      "+-------------------+--------------------+\n",
      "|         created_at|                text|\n",
      "+-------------------+--------------------+\n",
      "|2012-01-02 20:09:42|USDA has settled ...|\n",
      "|2012-01-03 02:41:36|Sounds INSANE. GM...|\n",
      "|2012-01-03 06:57:08|Petition: Tell th...|\n",
      "|2012-01-03 12:30:19|Mandatory GMO foo...|\n",
      "|2012-01-03 14:11:44|http://t.co/TI9oL...|\n",
      "|2012-01-03 16:10:27|Want to learn mor...|\n",
      "|2012-01-03 17:53:55|Safety assessment...|\n",
      "|2012-01-03 18:30:38|GMO labeling effo...|\n",
      "|2012-01-03 20:04:57|Leaked: US to Sta...|\n",
      "|2012-01-04 00:22:12|Leaked: US to Sta...|\n",
      "|2012-01-04 13:37:46|@IPIMCIMCIM  GMOs...|\n",
      "|2012-01-05 02:42:31|@Kaybaebaeeee gmo...|\n",
      "|2012-01-05 06:10:28|Apel ws. legislac...|\n",
      "|2012-01-05 09:36:54|Woman files class...|\n",
      "|2012-01-05 16:14:15|Leaked: US to Sta...|\n",
      "|2012-01-05 17:42:20|@harjxo GMO twidd...|\n",
      "|2012-01-05 19:42:18|@songbirdtiff Yup...|\n",
      "|2012-01-05 21:07:46|Label GMO food ca...|\n",
      "|2012-01-06 00:21:13|Transgenic Trees ...|\n",
      "|2012-01-06 01:31:14|Woman Sues Frito-...|\n",
      "+-------------------+--------------------+\n",
      "only showing top 20 rows\n",
      "\n"
     ]
    }
   ],
   "source": [
    "#funtion to convert to time stamp with udf\n",
    "def parseDate(date_str):\n",
    "    return datetime.datetime.strptime(date_str, '%a %b %d %H:%M:%S %z %Y')\n",
    "\n",
    "parse_date_udf= udf(parseDate, TimestampType())\n",
    "\n",
    "#reading in the monthly json files\n",
    "tweets= spark.read.json('hdfs://localhost:9000/user1/tweet*.json')\n",
    "\n",
    "# applying udf to column\n",
    "tweets= tweets.withColumn('created_at', parse_date_udf(tweets['created_at']))\n",
    "\n",
    "#sorting by timestamp\n",
    "tweets= tweets.orderBy('created_at')\n",
    "\n",
    "tweets.printSchema();tweets.show()"
   ]
  },
  {
   "cell_type": "code",
   "execution_count": 70,
   "id": "e926704d",
   "metadata": {},
   "outputs": [
    {
     "data": {
      "text/plain": [
       "3981"
      ]
     },
     "execution_count": 70,
     "metadata": {},
     "output_type": "execute_result"
    }
   ],
   "source": [
    "# number of rows\n",
    "tweets.count()"
   ]
  },
  {
   "cell_type": "code",
   "execution_count": 71,
   "id": "df84cb4c",
   "metadata": {},
   "outputs": [
    {
     "data": {
      "text/plain": [
       "[Row(created_at=datetime.datetime(2012, 1, 2, 20, 9, 42), text='USDA has settled upon a superb solution: let the GMO industry conduct its own environmental impact tests. http://t.co/Ed5BbDRb')]"
      ]
     },
     "execution_count": 71,
     "metadata": {},
     "output_type": "execute_result"
    }
   ],
   "source": [
    "#sample\n",
    "tweets.take(1)"
   ]
  },
  {
   "cell_type": "markdown",
   "id": "2c244ead",
   "metadata": {},
   "source": [
    "## Duplicates"
   ]
  },
  {
   "cell_type": "code",
   "execution_count": 73,
   "id": "26a2f393",
   "metadata": {
    "scrolled": true
   },
   "outputs": [
    {
     "name": "stdout",
     "output_type": "stream",
     "text": [
      "+--------------------+-----+\n",
      "|                text|count|\n",
      "+--------------------+-----+\n",
      "|People power caus...|    2|\n",
      "|We are helping cu...|    2|\n",
      "|At Disney World's...|    2|\n",
      "|#USDA to Give #Mo...|    2|\n",
      "|good going Boulde...|    2|\n",
      "|STOP MONSANTO FRO...|    2|\n",
      "|#Hungary Destroys...|    2|\n",
      "|                 GMO|    2|\n",
      "|Just played: GMO ...|    3|\n",
      "|Mommy, what does ...|    2|\n",
      "|Healthy Budget: G...|    5|\n",
      "|Tell .@BarackObam...|    2|\n",
      "|GMO updates,Femal...|    2|\n",
      "|Healthy Budget: G...|    4|\n",
      "|Pesticide Use Ram...|    2|\n",
      "+--------------------+-----+\n",
      "\n"
     ]
    }
   ],
   "source": [
    "#grouping by text and counting them\n",
    "duplicates= tweets.groupBy('text').count()\n",
    "\n",
    "# filtering the rows with count >= 2 \n",
    "duplicates= duplicates.filter(duplicates['count'] > 1)\n",
    "\n",
    "duplicates.show()"
   ]
  },
  {
   "cell_type": "code",
   "execution_count": 74,
   "id": "2e95e260",
   "metadata": {
    "scrolled": true
   },
   "outputs": [
    {
     "name": "stdout",
     "output_type": "stream",
     "text": [
      "+--------------------------------------------------------------------------------------------------------------------------------------------+\n",
      "|text                                                                                                                                        |\n",
      "+--------------------------------------------------------------------------------------------------------------------------------------------+\n",
      "|People power causes GMO firm to move from Europe to the US. http://t.co/TSaxGffw #GMOs #geneticallymodified #health                         |\n",
      "|We are helping customers and team members get informed about GMOs via our in-store info centers. Visit one in our stores today.             |\n",
      "|At Disney World's exhibit, teaching children about GMO agriculture is a \"fun activity\" http://t.co/EOKSqbGh @TrueFoodAust @TransitionSyd    |\n",
      "|#USDA to Give #Monsanto’s New GMO Crops Special ‘Speed Approval’: If you thought Monsanto’s lack of testing on their... http://t.co/OzPr4jmL|\n",
      "|good going Boulder! “@farminthehood: Boulder, Colorado Bans Growing of GMO Crops http://t.co/oalyk8kT”                                      |\n",
      "|STOP MONSANTO FROM POISONING HAWAI'I: ~HAWAII GMO JUSTICE COALITION PRESENTS: http://t.co/BcZXU6oC Kamehameha Schools Evict...              |\n",
      "|#Hungary Destroys All #Monsanto GMO Corn Fields | True Activist http://t.co/9ClvFcjz Good!                                                  |\n",
      "|GMO                                                                                                                                         |\n",
      "|Just played: GMO Feat Beth Gibbons - JJ DOOM - KEY TO THE KUFFS - CLEAN(unknown)                                                            |\n",
      "|Mommy, what does GMO mean? Coming soon, Happy's Greenhouse! Trailer at: http://t.co/P7EEhQO6                                                |\n",
      "|Healthy Budget: Growing with Non GMO Seed for Home Garden http://t.co/eJXmLWMt\\n #Organic                                                   |\n",
      "|Tell .@BarackObama and the FDA to ban GMO salmon http//bit.ly/noGMOsalmon @food_democracy Please RT #stopFrankenfish                        |\n",
      "|GMO updates,Female Endocrine/Hormone Seminar, +NEW CNHP class - Greetings ! We are getting closer to the... http://t.co/gsKw2J8G            |\n",
      "|Healthy Budget: Growing with Non GMO Seed for Home Garden http://t.co/eJXrjwVD                                                              |\n",
      "|Pesticide Use Ramps Up As GMO Crop Tech Starts Backfiring\\n\\n.http://t.co/QTMTq5tD                                                          |\n",
      "+--------------------------------------------------------------------------------------------------------------------------------------------+\n",
      "\n"
     ]
    }
   ],
   "source": [
    "#viewing duplicates fully\n",
    "duplicates.select('text').show(truncate=False)"
   ]
  },
  {
   "cell_type": "code",
   "execution_count": 75,
   "id": "0fc7f21b",
   "metadata": {},
   "outputs": [
    {
     "data": {
      "text/plain": [
       "3981"
      ]
     },
     "execution_count": 75,
     "metadata": {},
     "output_type": "execute_result"
    }
   ],
   "source": [
    "tweets.count()"
   ]
  },
  {
   "cell_type": "code",
   "execution_count": 76,
   "id": "21109eaa",
   "metadata": {},
   "outputs": [],
   "source": [
    "#dropping duplicates, keeping the oldest only\n",
    "tweets= tweets.dropDuplicates(subset=['text'])"
   ]
  },
  {
   "cell_type": "code",
   "execution_count": 77,
   "id": "4ffe0f61",
   "metadata": {},
   "outputs": [
    {
     "data": {
      "text/plain": [
       "3960"
      ]
     },
     "execution_count": 77,
     "metadata": {},
     "output_type": "execute_result"
    }
   ],
   "source": [
    "tweets.count()"
   ]
  },
  {
   "cell_type": "code",
   "execution_count": null,
   "id": "57dd3449",
   "metadata": {},
   "outputs": [],
   "source": []
  },
  {
   "cell_type": "markdown",
   "id": "3c27f6e3",
   "metadata": {},
   "source": [
    "### Dates without tweets (~missing dates)"
   ]
  },
  {
   "cell_type": "code",
   "execution_count": 78,
   "id": "009c4acb",
   "metadata": {},
   "outputs": [],
   "source": [
    "from pyspark.sql.functions import min, max, date_format, expr, hour\n",
    "from pyspark.sql.types import DateType"
   ]
  },
  {
   "cell_type": "code",
   "execution_count": 103,
   "id": "6840fea6",
   "metadata": {
    "scrolled": true
   },
   "outputs": [
    {
     "name": "stdout",
     "output_type": "stream",
     "text": [
      " Between\n",
      " 2012-01-02 \n",
      " and\n",
      " 2013-03-01 \n",
      "\n",
      " there are missing dates-> 5\n",
      "+----------+\n",
      "|      date|\n",
      "+----------+\n",
      "|2012-02-05|\n",
      "|2012-12-28|\n",
      "|2012-12-29|\n",
      "|2012-12-30|\n",
      "|2012-12-31|\n",
      "+----------+\n",
      "\n"
     ]
    }
   ],
   "source": [
    "# oldest and latest dates in df\n",
    "oldestDate= tweets.select(min('created_at')).first()[0].date()\n",
    "latestDate= tweets.select(max('created_at')).first()[0].date()\n",
    "\n",
    "print(' Between\\n',oldestDate,'\\n and\\n',latestDate,'\\n')\n",
    "\n",
    "\n",
    "#converting dates to Unix timestamps -> int() cannot be datetime.date\n",
    "oldestDate= int(oldestDate.strftime(\"%s\"))\n",
    "latestDate= int(latestDate.strftime(\"%s\"))\n",
    "\n",
    "#generating the list of dates. 86400 s/day\n",
    "timeRange= spark.range(start=oldestDate, end=latestDate, step=86400).selectExpr(\"to_date(from_unixtime(id)) as date\")\n",
    "\n",
    "\n",
    "\n",
    "#Listing missing dates with anti-join between the date range and the 'created_at' column. \n",
    "missingDates= timeRange.join(tweets, timeRange.date == tweets.created_at.cast(DateType()), 'leftanti') # leftanti selects the rows from the left df that do not have a matching key from the right df\n",
    "\n",
    "\n",
    "print(\" there are missing dates->\",missingDates.count());missingDates.show()"
   ]
  },
  {
   "cell_type": "code",
   "execution_count": 36,
   "id": "987cf6ae",
   "metadata": {},
   "outputs": [],
   "source": [
    "##count per minute\n",
    "# minutesDiff= int(spark.sql(f\"SELECT CEIL((UNIX_TIMESTAMP('{maxDate}') - UNIX_TIMESTAMP('{minDate}')) / 60) AS minutesDiff\").first()[0])\n",
    "\n",
    "# timeRange= spark.range(0, minutesDiff, 1).select(expr(f\"timestamp_add('{minDate}', interval id minutes) AS timestamp\"))\n",
    "\n",
    "\n",
    "\n",
    "# tweetsPerMinute= timeRange.join(tweets, expr(\"date_trunc('minute', timestamp) = date_trunc('minute', created_at)\"), \"leftouter\") \\\n",
    "#                           .groupBy(\"timestamp\") \\\n",
    "#                           .agg(count(col(\"created_at\")).alias(\"tweet_count\")) \\\n",
    "#                           .orderBy(col(\"tweet_count\").desc())\n",
    "\n",
    "\n",
    "# tweetsPerMinute.show(truncate=False)\n"
   ]
  },
  {
   "cell_type": "code",
   "execution_count": null,
   "id": "c4a18d1d",
   "metadata": {},
   "outputs": [],
   "source": []
  },
  {
   "cell_type": "markdown",
   "id": "dd23dff8",
   "metadata": {},
   "source": [
    "#### Checking number of natural hours per day without tweets"
   ]
  },
  {
   "cell_type": "code",
   "execution_count": 118,
   "id": "a06cf627",
   "metadata": {},
   "outputs": [
    {
     "name": "stdout",
     "output_type": "stream",
     "text": [
      "+----------+---------------+\n",
      "|      date|uniqueHourCount|\n",
      "+----------+---------------+\n",
      "|2012-09-26|             20|\n",
      "|2012-09-24|             18|\n",
      "|2012-10-05|             17|\n",
      "|2012-09-28|             17|\n",
      "|2012-09-20|             17|\n",
      "|2012-10-03|             17|\n",
      "|2012-10-21|             16|\n",
      "|2012-11-07|             16|\n",
      "|2012-09-27|             16|\n",
      "|2012-10-27|             16|\n",
      "|2012-11-28|             15|\n",
      "|2012-10-09|             15|\n",
      "|2012-11-06|             15|\n",
      "|2012-10-11|             15|\n",
      "|2012-10-24|             15|\n",
      "|2012-09-21|             14|\n",
      "|2012-11-14|             14|\n",
      "|2012-06-24|             14|\n",
      "|2012-10-16|             14|\n",
      "|2012-09-23|             14|\n",
      "+----------+---------------+\n",
      "only showing top 20 rows\n",
      "\n"
     ]
    }
   ],
   "source": [
    "#grouping by date and count unique hours. Extranting features with module 'functions'\n",
    "hourlyPerDay = tweets.groupBy(F.to_date('created_at').alias('date')).agg(F.countDistinct(F.hour('created_at')).alias('uniqueHourCount'))\n",
    "\n",
    "hourlyPerDay.orderBy(desc('uniqueHourCount')).show() # ORDENADOS DESCENDENTEMENTE PARA VER LO Q SERIA LA MEJOR PARTE, QUE EN REALIDAD EVIDENCIA QUE NO ES BUENA, AUNQ EL NUMERO DE TWEETS NO ES ALTO DE PRIMERAS"
   ]
  },
  {
   "cell_type": "code",
   "execution_count": 133,
   "id": "b4499713",
   "metadata": {
    "scrolled": true
   },
   "outputs": [
    {
     "data": {
      "text/html": [
       "<div>\n",
       "<style scoped>\n",
       "    .dataframe tbody tr th:only-of-type {\n",
       "        vertical-align: middle;\n",
       "    }\n",
       "\n",
       "    .dataframe tbody tr th {\n",
       "        vertical-align: top;\n",
       "    }\n",
       "\n",
       "    .dataframe thead th {\n",
       "        text-align: right;\n",
       "    }\n",
       "</style>\n",
       "<table border=\"1\" class=\"dataframe\">\n",
       "  <thead>\n",
       "    <tr style=\"text-align: right;\">\n",
       "      <th></th>\n",
       "      <th>uniqueHourCount</th>\n",
       "    </tr>\n",
       "  </thead>\n",
       "  <tbody>\n",
       "    <tr>\n",
       "      <th>count</th>\n",
       "      <td>420.000000</td>\n",
       "    </tr>\n",
       "    <tr>\n",
       "      <th>mean</th>\n",
       "      <td>7.176190</td>\n",
       "    </tr>\n",
       "    <tr>\n",
       "      <th>std</th>\n",
       "      <td>3.415171</td>\n",
       "    </tr>\n",
       "    <tr>\n",
       "      <th>min</th>\n",
       "      <td>1.000000</td>\n",
       "    </tr>\n",
       "    <tr>\n",
       "      <th>25%</th>\n",
       "      <td>5.000000</td>\n",
       "    </tr>\n",
       "    <tr>\n",
       "      <th>50%</th>\n",
       "      <td>7.000000</td>\n",
       "    </tr>\n",
       "    <tr>\n",
       "      <th>75%</th>\n",
       "      <td>9.000000</td>\n",
       "    </tr>\n",
       "    <tr>\n",
       "      <th>max</th>\n",
       "      <td>20.000000</td>\n",
       "    </tr>\n",
       "  </tbody>\n",
       "</table>\n",
       "</div>"
      ],
      "text/plain": [
       "       uniqueHourCount\n",
       "count       420.000000\n",
       "mean          7.176190\n",
       "std           3.415171\n",
       "min           1.000000\n",
       "25%           5.000000\n",
       "50%           7.000000\n",
       "75%           9.000000\n",
       "max          20.000000"
      ]
     },
     "execution_count": 133,
     "metadata": {},
     "output_type": "execute_result"
    }
   ],
   "source": [
    "#checking percentiles\n",
    "hourlyPerDay.toPandas().describe(percentiles=[0.25, 0.5, 0.75])"
   ]
  },
  {
   "cell_type": "code",
   "execution_count": 145,
   "id": "ae54cada",
   "metadata": {},
   "outputs": [
    {
     "data": {
      "image/png": "[encoded data removed]",
      "text/plain": [
       "<Figure size 432x288 with 1 Axes>"
      ]
     },
     "metadata": {
      "needs_background": "light"
     },
     "output_type": "display_data"
    }
   ],
   "source": [
    "#transforming to pandas for the histogram \n",
    "plt.hist(hourlyPerDay.toPandas()['uniqueHourCount'], bins=10, edgecolor='white')\n",
    "\n",
    "#Arranging axis labels, ticks, title\n",
    "plt.xlabel('Number of natural hours per day contaning tweets')\n",
    "plt.ylabel('Frequency')\n",
    "plt.xticks(np.arange(2,21,2))\n",
    "plt.title('Fig. 1 - Histogram of counts of unique hours')\n",
    "\n",
    "plt.show()"
   ]
  },
  {
   "cell_type": "code",
   "execution_count": null,
   "id": "5da15bd7",
   "metadata": {},
   "outputs": [],
   "source": []
  },
  {
   "cell_type": "code",
   "execution_count": null,
   "id": "60c6c1eb",
   "metadata": {},
   "outputs": [],
   "source": []
  },
  {
   "cell_type": "markdown",
   "id": "08f02638",
   "metadata": {},
   "source": [
    "## Basic plots"
   ]
  },
  {
   "cell_type": "code",
   "execution_count": 134,
   "id": "ee7bb071",
   "metadata": {},
   "outputs": [],
   "source": [
    "from pyspark.sql.functions import dayofweek, month, hour, count"
   ]
  },
  {
   "cell_type": "code",
   "execution_count": 144,
   "id": "2d2fc0fd",
   "metadata": {},
   "outputs": [
    {
     "data": {
      "image/png": "[encoded data removed]",
      "text/plain": [
       "<Figure size 504x288 with 1 Axes>"
      ]
     },
     "metadata": {
      "needs_background": "light"
     },
     "output_type": "display_data"
    }
   ],
   "source": [
    "#extracting each of the days of the week\n",
    "tweets= tweets.withColumn('day_of_week', dayofweek('created_at'))\n",
    "\n",
    "# counting number of tweets by day of the week by adding a new column\n",
    "tweetCounts= tweets.groupBy('day_of_week').agg(count('*').alias('count'))\n",
    "\n",
    "\n",
    "dayLabels= ['Monday', 'Tuesday', 'Wednesday', 'Thursday', 'Friday', 'Saturday', 'Sunday']\n",
    "\n",
    "plt.figure(figsize=(7, 4))#setting size of plot\n",
    "plt.bar(tweetCounts.toPandas()['day_of_week'], tweetCounts.toPandas()['count'])#need to convert to pandas\n",
    "\n",
    "#Arranging axis labels, ticks, title\n",
    "plt.xlabel('Day of the week')\n",
    "plt.ylabel('Count of tweets')\n",
    "plt.title('Fig. 2 - Histogram of tweets per day of the week')\n",
    "plt.xticks(range(1, 8), dayLabels, rotation=45)\n",
    "plt.show()"
   ]
  },
  {
   "cell_type": "code",
   "execution_count": 146,
   "id": "b7a95289",
   "metadata": {},
   "outputs": [
    {
     "data": {
      "image/png": "[encoded data removed]",
      "text/plain": [
       "<Figure size 648x360 with 1 Axes>"
      ]
     },
     "metadata": {
      "needs_background": "light"
     },
     "output_type": "display_data"
    }
   ],
   "source": [
    "# extracting months\n",
    "tweets= tweets.withColumn('month', month('created_at'))\n",
    "\n",
    "#same as before adding a new column with counts\n",
    "tweetCounts= tweets.groupBy('month').agg(count('*').alias('count'))\n",
    "\n",
    "\n",
    "\n",
    "monthLabels= ['January', 'February', 'March', 'April', 'May', 'June', 'July', 'August', 'September', 'October', 'November', 'December']\n",
    "\n",
    "\n",
    "plt.figure(figsize=(9, 5))\n",
    "plt.bar(tweetCounts.toPandas()['month'], tweetCounts.toPandas()['count'])\n",
    "plt.xlabel('Month')\n",
    "plt.ylabel('Count of tweets')\n",
    "plt.title('Fig. 3 - Histogram per month')\n",
    "plt.xticks(range(1, 13), monthLabels,rotation=45)\n",
    "plt.tight_layout()\n",
    "plt.show()"
   ]
  },
  {
   "cell_type": "code",
   "execution_count": 148,
   "id": "1225a455",
   "metadata": {
    "scrolled": false
   },
   "outputs": [
    {
     "data": {
      "image/png": "[encoded data removed]",
      "text/plain": [
       "<Figure size 1080x432 with 1 Axes>"
      ]
     },
     "metadata": {
      "needs_background": "light"
     },
     "output_type": "display_data"
    }
   ],
   "source": [
    "#extracting each of the 24 hours of a day\n",
    "tweets= tweets.withColumn('hour_of_day', hour('created_at'))\n",
    "\n",
    "#adding column with counts\n",
    "tweetCounts= tweets.groupBy('hour_of_day').agg(count('*').alias('count'))\n",
    "\n",
    "\n",
    "plt.figure(figsize=(15, 6))\n",
    "plt.bar(tweetCounts.toPandas()['hour_of_day'], tweetCounts.toPandas()['count'])\n",
    "plt.xlabel('Hour of the day')\n",
    "plt.ylabel('Count of tweets')\n",
    "plt.title('Fig. 4 - Histogram per hour of the day')\n",
    "plt.xticks(range(24))\n",
    "plt.tight_layout()\n",
    "plt.show()"
   ]
  },
  {
   "cell_type": "code",
   "execution_count": null,
   "id": "4b01a89c",
   "metadata": {},
   "outputs": [],
   "source": []
  },
  {
   "cell_type": "code",
   "execution_count": null,
   "id": "086076ef",
   "metadata": {},
   "outputs": [],
   "source": []
  },
  {
   "cell_type": "code",
   "execution_count": null,
   "id": "64f4891b",
   "metadata": {},
   "outputs": [],
   "source": []
  },
  {
   "cell_type": "code",
   "execution_count": null,
   "id": "0c8cc729",
   "metadata": {
    "colab": {
     "base_uri": "https://localhost:8080/"
    },
    "id": "-sSRIdY1HZCS",
    "outputId": "ab15e23e-0924-42bb-c694-f4ddb58df4ef"
   },
   "outputs": [],
   "source": [
    "import pandas as pd\n",
    "import numpy as np\n",
    "import seaborn as sns\n",
    "import re\n",
    "import string\n",
    "from string import punctuation\n",
    "import nltk\n",
    "from nltk.corpus import stopwords\n",
    "nltk.download('stopwords')\n",
    "\n",
    "\n",
    "import matplotlib.pyplot as plt\n",
    "from sklearn.model_selection import train_test_split\n",
    "from sklearn.feature_extraction.text import CountVectorizer\n",
    "from sklearn.feature_extraction.text import TfidfTransformer\n",
    "\n",
    "import tensorflow as tf\n",
    "from tensorflow.keras.models import Sequential\n",
    "from tensorflow.keras.layers import Dense, Activation, Dropout\n",
    "from tensorflow.keras.callbacks import EarlyStopping"
   ]
  },
  {
   "cell_type": "code",
   "execution_count": null,
   "id": "29536cb4",
   "metadata": {},
   "outputs": [],
   "source": [
    "!pip install nltk"
   ]
  },
  {
   "cell_type": "code",
   "execution_count": null,
   "id": "e32dd7de",
   "metadata": {},
   "outputs": [],
   "source": []
  }
 ],
 "metadata": {
  "kernelspec": {
   "display_name": "Python 3 (ipykernel)",
   "language": "python",
   "name": "python3"
  },
  "language_info": {
   "codemirror_mode": {
    "name": "ipython",
    "version": 3
   },
   "file_extension": ".py",
   "mimetype": "text/x-python",
   "name": "python",
   "nbconvert_exporter": "python",
   "pygments_lexer": "ipython3",
   "version": "3.10.6"
  }
 },
 "nbformat": 4,
 "nbformat_minor": 5
}
