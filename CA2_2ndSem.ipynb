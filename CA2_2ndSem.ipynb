{
 "cells": [
  {
   "cell_type": "code",
   "execution_count": null,
   "id": "85c0ca74",
   "metadata": {},
   "outputs": [],
   "source": []
  },
  {
   "cell_type": "code",
   "execution_count": 1,
   "id": "40c023c4",
   "metadata": {},
   "outputs": [],
   "source": [
    "import datetime\n",
    "import tarfile\n",
    "import json\n",
    "import bz2\n",
    "import re\n",
    "import pandas as pd\n",
    "import numpy as np\n",
    "import matplotlib.pyplot as plt\n",
    "%matplotlib inline"
   ]
  },
  {
   "cell_type": "markdown",
   "id": "abf12fe7",
   "metadata": {},
   "source": [
    "## Filtering tweets from monthly .tar files"
   ]
  },
  {
   "cell_type": "code",
   "execution_count": 2,
   "id": "7c9ab32c",
   "metadata": {
    "scrolled": true
   },
   "outputs": [],
   "source": [
    "#keywords to filter the tweets\n",
    "keywords=['gmo','gmos','gm food','gm foods','transgenic', 'transgenics','genetically-modified','genetically modified']\n",
    "\n",
    "# initializing array which will hold the filtered tweets\n",
    "filteredTweets=[]\n",
    "\n",
    "\n",
    "# opening the tar file\n",
    "with tarfile.open('data/TweetDS.tar', 'r') as tar:\n",
    "    \n",
    "    # iterating through all files and directories\n",
    "    for member in tar.getmembers():\n",
    "        \n",
    "        #skipping directories\n",
    "        if member.isdir():\n",
    "            continue\n",
    "        \n",
    "        #looking for the target files json.bz2\n",
    "        if member.name.endswith('.json.bz2'):\n",
    "            \n",
    "            # extracting each file\n",
    "            file = tar.extractfile(member)\n",
    "         \n",
    "            #reading in and decompressing the file\n",
    "            noBz2 = bz2.decompress(file.read()).decode('utf-8')\n",
    "            \n",
    "            # handling each tweet to find the match\n",
    "            for line in noBz2.splitlines():\n",
    "                \n",
    "                #each line is one tweet in json format, therefore loading line by line\n",
    "                tweet = json.loads(line)\n",
    "\n",
    "                # making sure the tweet has the fields 'text' and 'created_at'. If not they'll be skipped\n",
    "                if 'text' not in tweet or 'created_at' not in tweet or tweet['user']['lang'] != 'en':\n",
    "                    continue\n",
    "\n",
    "                # Skipping retweets\n",
    "                if tweet['text'].startswith('RT') and tweet.get('retweeted_status') is not None:\n",
    "                    continue\n",
    "                \n",
    "                # storing fields if present\n",
    "                tweetTxt = tweet['text']\n",
    "                created_at = tweet['created_at']\n",
    "\n",
    "                # Searching matches in text, splitting by words, lower case like keywords\n",
    "                if any(keyword in tweetTxt.lower().split() for keyword in keywords):                \n",
    "                    # Add the matching tweet to the list\n",
    "                    filteredTweets.append({\n",
    "                        'text': tweetTxt,\n",
    "                        'created_at': created_at\n",
    "                    })\n",
    "                    \n",
    "\n",
    "                    \n",
    "#writting the fields from matching tweets to a json output file\n",
    "with open('myTweets.json', 'w') as output:\n",
    "    json.dump(filteredTweets, output)"
   ]
  },
  {
   "cell_type": "code",
   "execution_count": 3,
   "id": "c1dbd904",
   "metadata": {},
   "outputs": [],
   "source": [
    "from pyspark.sql.types import *\n",
    "from pyspark.sql.functions import udf, desc, min, max, date_format, expr, hour, month, dayofweek, count\n",
    "from pyspark.sql import functions as F #module that includes a variety of functions like to extract features"
   ]
  },
  {
   "cell_type": "code",
   "execution_count": 4,
   "id": "ca5c7687",
   "metadata": {},
   "outputs": [
    {
     "data": {
      "text/html": [
       "\n",
       "        <div>\n",
       "            <p><b>SparkContext</b></p>\n",
       "\n",
       "            <p><a href=\"http://cacu-VirtualBox.mshome.net:4040\">Spark UI</a></p>\n",
       "\n",
       "            <dl>\n",
       "              <dt>Version</dt>\n",
       "                <dd><code>v3.2.3</code></dd>\n",
       "              <dt>Master</dt>\n",
       "                <dd><code>local[*]</code></dd>\n",
       "              <dt>AppName</dt>\n",
       "                <dd><code>PySparkShell</code></dd>\n",
       "            </dl>\n",
       "        </div>\n",
       "        "
      ],
      "text/plain": [
       "<SparkContext master=local[*] appName=PySparkShell>"
      ]
     },
     "execution_count": 4,
     "metadata": {},
     "output_type": "execute_result"
    }
   ],
   "source": [
    "sc"
   ]
  },
  {
   "cell_type": "markdown",
   "id": "b9da09ed",
   "metadata": {},
   "source": [
    "### Loading json data files to pyspark"
   ]
  },
  {
   "cell_type": "code",
   "execution_count": 5,
   "id": "f228a044",
   "metadata": {
    "scrolled": true
   },
   "outputs": [
    {
     "name": "stderr",
     "output_type": "stream",
     "text": [
      "                                                                                \r"
     ]
    },
    {
     "name": "stdout",
     "output_type": "stream",
     "text": [
      "root\n",
      " |-- created_at: timestamp (nullable = true)\n",
      " |-- text: string (nullable = true)\n",
      "\n"
     ]
    },
    {
     "name": "stderr",
     "output_type": "stream",
     "text": [
      "\r",
      "[Stage 1:>                                                          (0 + 1) / 1]\r"
     ]
    },
    {
     "name": "stdout",
     "output_type": "stream",
     "text": [
      "+-------------------+--------------------+\n",
      "|         created_at|                text|\n",
      "+-------------------+--------------------+\n",
      "|2012-01-02 20:09:42|USDA has settled ...|\n",
      "|2012-01-03 02:41:36|Sounds INSANE. GM...|\n",
      "|2012-01-03 06:57:08|Petition: Tell th...|\n",
      "|2012-01-03 12:30:19|Mandatory GMO foo...|\n",
      "|2012-01-03 14:11:44|http://t.co/TI9oL...|\n",
      "|2012-01-03 16:10:27|Want to learn mor...|\n",
      "|2012-01-03 17:53:55|Safety assessment...|\n",
      "|2012-01-03 18:30:38|GMO labeling effo...|\n",
      "|2012-01-03 20:04:57|Leaked: US to Sta...|\n",
      "|2012-01-04 00:22:12|Leaked: US to Sta...|\n",
      "|2012-01-04 13:37:46|@IPIMCIMCIM  GMOs...|\n",
      "|2012-01-05 02:42:31|@Kaybaebaeeee gmo...|\n",
      "|2012-01-05 06:10:28|Apel ws. legislac...|\n",
      "|2012-01-05 09:36:54|Woman files class...|\n",
      "|2012-01-05 16:14:15|Leaked: US to Sta...|\n",
      "|2012-01-05 17:42:20|@harjxo GMO twidd...|\n",
      "|2012-01-05 19:42:18|@songbirdtiff Yup...|\n",
      "|2012-01-05 21:07:46|Label GMO food ca...|\n",
      "|2012-01-06 00:21:13|Transgenic Trees ...|\n",
      "|2012-01-06 01:31:14|Woman Sues Frito-...|\n",
      "+-------------------+--------------------+\n",
      "only showing top 20 rows\n",
      "\n"
     ]
    },
    {
     "name": "stderr",
     "output_type": "stream",
     "text": [
      "\r",
      "                                                                                \r"
     ]
    }
   ],
   "source": [
    "#funtion to parce the date string\n",
    "def parseDate(date_str):\n",
    "    return datetime.datetime.strptime(date_str, '%a %b %d %H:%M:%S %z %Y') # strptime() method creates a datetime object from a string\n",
    "\n",
    "#user-defined function so that it can be used with spark. Returns timestamp object from the string provided \n",
    "parse_date_udf= udf(parseDate, TimestampType())\n",
    "\n",
    "#reading in all the monthly json files\n",
    "tweetsDf= spark.read.json('hdfs://localhost:9000/user1/tweet*.json')\n",
    "\n",
    "# applying udf to column\n",
    "tweetsDf= tweetsDf.withColumn('created_at', parse_date_udf(tweetsDf['created_at']))\n",
    "\n",
    "#sorting by timestamp\n",
    "tweetsDf= tweetsDf.orderBy('created_at')\n",
    "\n",
    "tweetsDf.printSchema();tweetsDf.show()"
   ]
  },
  {
   "cell_type": "markdown",
   "id": "e861f5ae",
   "metadata": {},
   "source": [
    "### EDA\n",
    "\n",
    "Checking RDD, word count and hashtags"
   ]
  },
  {
   "cell_type": "code",
   "execution_count": 6,
   "id": "08f0ca9b",
   "metadata": {},
   "outputs": [],
   "source": [
    "#from pyspark.sql import SparkSession"
   ]
  },
  {
   "cell_type": "code",
   "execution_count": 7,
   "id": "67c5423c",
   "metadata": {},
   "outputs": [],
   "source": [
    "#spark = SparkSession.builder.getOrCreate()"
   ]
  },
  {
   "cell_type": "code",
   "execution_count": 8,
   "id": "6473de51",
   "metadata": {
    "scrolled": true
   },
   "outputs": [],
   "source": [
    "#converting df to an RDD\n",
    "tweetsRdd = tweetsDf.rdd"
   ]
  },
  {
   "cell_type": "code",
   "execution_count": 9,
   "id": "da04640f",
   "metadata": {},
   "outputs": [
    {
     "name": "stderr",
     "output_type": "stream",
     "text": [
      "\r",
      "[Stage 5:>                                                          (0 + 1) / 1]\r",
      "\r",
      "                                                                                \r"
     ]
    },
    {
     "data": {
      "text/plain": [
       "3981"
      ]
     },
     "execution_count": 9,
     "metadata": {},
     "output_type": "execute_result"
    }
   ],
   "source": [
    "# number of rows (tweets) in the RDD\n",
    "tweetsRdd.count()"
   ]
  },
  {
   "cell_type": "markdown",
   "id": "97a61274",
   "metadata": {},
   "source": [
    "### Not in English"
   ]
  },
  {
   "cell_type": "code",
   "execution_count": 10,
   "id": "840ceb2e",
   "metadata": {},
   "outputs": [],
   "source": [
    "#!pip install langdetect"
   ]
  },
  {
   "cell_type": "code",
   "execution_count": 11,
   "id": "9c5f882b",
   "metadata": {},
   "outputs": [],
   "source": [
    "#importing library for language detection\n",
    "from langdetect import detect"
   ]
  },
  {
   "cell_type": "code",
   "execution_count": 12,
   "id": "77065d7a",
   "metadata": {},
   "outputs": [
    {
     "name": "stderr",
     "output_type": "stream",
     "text": [
      "                                                                                \r"
     ]
    },
    {
     "data": {
      "text/plain": [
       "[Row(created_at=datetime.datetime(2012, 1, 4, 13, 37, 46), text='@IPIMCIMCIM  GMOs กับโคลนนิ่งพืชกับสัตว์ก๊ะ  55'),\n",
       " Row(created_at=datetime.datetime(2012, 1, 5, 2, 42, 31), text='@Kaybaebaeeee gmo u made a twitter today?'),\n",
       " Row(created_at=datetime.datetime(2012, 1, 5, 6, 10, 28), text='Apel ws. legislacji upraw GMO w Polsce: Apel do Prezydenta RP i prezesa PAN wystosowali naukowcy. http://t.co/GYs7wgba'),\n",
       " Row(created_at=datetime.datetime(2012, 1, 6, 6, 53, 27), text='maaaaaaaauuuuuu........npcyii ini gmo trdwnld,failed failed. damn!'),\n",
       " Row(created_at=datetime.datetime(2012, 1, 6, 9, 25, 14), text='GMO FREE! BEZ GMO! :) http://t.co/vhtcnEmd'),\n",
       " Row(created_at=datetime.datetime(2012, 1, 6, 12, 3, 41), text='Garden Deals: 60 VARIETIES! SKU60VA0001  NON HYBRID NON GMO HEIRLOOM SURVIVAL GARDEN SEED BANK: US $23.50 (0 Bid... http://t.co/Mk6LmAF2'),\n",
       " Row(created_at=datetime.datetime(2012, 1, 9, 23, 36, 51), text='gmo'),\n",
       " Row(created_at=datetime.datetime(2012, 1, 10, 9, 30, 36), text='ม่ายย!!!! จาเอาตอนเน้RT @babuababo http://t.co/J8VQyc1i โอ๊ยยยย จะยั่วไปถึงหนายยย O&lt;-&lt; OMG OMG GMO อยากอ่านนน'),\n",
       " Row(created_at=datetime.datetime(2012, 1, 10, 18, 12, 45), text='@_HandSomeBait Frankie rios me gmo dvon  porsha Blair big Reggie & krissy niggas had jokes !'),\n",
       " Row(created_at=datetime.datetime(2012, 1, 12, 2, 29, 6), text=\"9-간척지의 농업적 이용을 위한 법률제정(12.29.11)?..말은 '피해대잭금'인데 내용은 하나하나 폐업당할 일반 농민을 위함이 아닌 몬산토의 GMO 경작시설 육성을 위한 지원대책이었구먼.. RT @mosf... http://t.co/hN9xbkjE\"),\n",
       " Row(created_at=datetime.datetime(2012, 1, 15, 7, 33, 10), text='Bnr\" gmo kalah, pRT@detikcom Pangeran Arab Penggagas Menara 1000 Meter Jual Four Seasons Jakarta http://t.co/mCMz6pFn via @detikfinance'),\n",
       " Row(created_at=datetime.datetime(2012, 1, 17, 17, 53, 47), text='Francja utrzymuje zakaz  uprawy kukurydzy GMO firmy Monsanto » GMO - Wiadomości http://t.co/gSHu2t3b'),\n",
       " Row(created_at=datetime.datetime(2012, 1, 18, 12, 22, 2), text='@FridaSundkvist ska du odla majs i år? vilken grej. inte gmo hoppas jag. utesluter majs tills vidare i min kost. jag mkt skeptisk t majs.'),\n",
       " Row(created_at=datetime.datetime(2012, 1, 21, 1, 0, 3), text='http://t.co/yeQ7cDzm BASF smanjuje proizvodnju GMO hrane'),\n",
       " Row(created_at=datetime.datetime(2012, 1, 22, 3, 41, 15), text='BASF smanjuje proizvodnju GMO hrane'),\n",
       " Row(created_at=datetime.datetime(2012, 1, 22, 17, 2, 6), text='I just joined Label GMOs Temecula, will you join me? http://t.co/85LkCfoo'),\n",
       " Row(created_at=datetime.datetime(2012, 1, 23, 19, 58, 4), text='http://t.co/OWXb5qnQ BASF smanjuje proizvodnju GMO hrane'),\n",
       " Row(created_at=datetime.datetime(2012, 1, 24, 7, 21, 52), text='Matamu ga telat , aku telat tau dek wkwkwk :D :D \"@triasin: Asik, gak telat bay:D belajar yg bener ka :*\"@vannyMFC: Gmo'),\n",
       " Row(created_at=datetime.datetime(2012, 1, 28, 4, 23, 5), text='Easy come,easy go :D,tp bner\" lg gmo ngurusin yg bgtu dl yeee..;)'),\n",
       " Row(created_at=datetime.datetime(2012, 1, 28, 9, 41, 14), text='먹지마세요 GMO(유전자조작 식품).   농림수산식품부의 골든씨드(Golden Seed) 프로젝트와 GMO 그리고 한미FTA를 잘 생각해 봅시다. http://t.co/sbdA2YSc'),\n",
       " Row(created_at=datetime.datetime(2012, 1, 28, 12, 40, 33), text='Okey RT@sitataaa: Apa si jaaaaaL haha RT @rhizaLzRey: GMO .hehehe RT@sitataaa: OMG\"\"'),\n",
       " Row(created_at=datetime.datetime(2012, 1, 29, 5, 13, 20), text='요즘 새만금 GMO 문제가 수면 위로 조금씩 올라오고 있는데, 나쁜 사례 들자면, 인도에서 GMO가 농민을 구제해줄 것처럼 홍보를 하다가 나중에 땅이 썩고, 빚도 엄청 늘어서 속았다는 걸 알게 되어 자살한 농민이 부지기수였다는 것.'),\n",
       " Row(created_at=datetime.datetime(2012, 2, 1, 19, 4, 47), text='Lesson plans on gmos http://t.co/2pT0RXCK'),\n",
       " Row(created_at=datetime.datetime(2012, 2, 3, 1, 21, 40), text=\"gmo RW ah mo'a Lurah.hhaa :p RT @nonkQinonks: RW dong jangan RT terus :D RT @ORioORiO: RT nonkQinonks: RT @ORioORiO: I don't care !\\n;)\"),\n",
       " Row(created_at=datetime.datetime(2012, 2, 6, 11, 29, 59), text=\"@albertheijn: stop met die misleiding over 'verantwoorde' soja. GMOs zijn in alle opzichten dodelijk! http://t.co/ozyhtyoQ…  #GMO\"),\n",
       " Row(created_at=datetime.datetime(2012, 2, 6, 17, 49, 6), text='RT @8papyrus: @TheKFDA 대한민국 식약청이라는 곳이 국민들 건강이 망가지든 암에 걸리든 GMO 홍보하기에 바쁘다. 의무표기법를 더 유럽 수준으로 맞춰야 국민들이 건강해진다.누구 입김에 법 개정... http://t.co/OLhRGnJK'),\n",
       " Row(created_at=datetime.datetime(2012, 2, 10, 18, 17), text='Bountiful local non GMO papaya! http://t.co/HC6l3FsN'),\n",
       " Row(created_at=datetime.datetime(2012, 2, 11, 1, 46, 19), text='@RawbinWarfare gmo'),\n",
       " Row(created_at=datetime.datetime(2012, 2, 13, 17, 28, 4), text='Garden Deals: 85 VARIETIES-NON HYBRID NON GMO HEIRLOOM SURVIVAL GARDEN SEED BANK SKU85VFNIAVID: US $34.99 (0 Bid... http://t.co/T79hCziZ'),\n",
       " Row(created_at=datetime.datetime(2012, 2, 14, 9, 43, 25), text='gmo vcs ta? e qe ta rolando umas coisas ai eu to deixando de fik mto aki mais vo voltar amanha de manha'),\n",
       " Row(created_at=datetime.datetime(2012, 2, 15, 18, 58, 32), text='농산물 안전관리를 대폭 강화? 근데 그 긴글 어디에도 이미 쏟아져 들어오는 GMO 작물에 대한 언급은 커녕..현재 국내 시범생산과정에 이미 돌입되있는 GMO작물에 대한 언급이 한마디도 없는 이유가?? ... http://t.co/keZriZ6R --'),\n",
       " Row(created_at=datetime.datetime(2012, 2, 18, 19, 2, 33), text='uoy kcuf gmo'),\n",
       " Row(created_at=datetime.datetime(2012, 2, 19, 21, 9, 13), text='Gardening Stuff: 50 VARIETIES-NON HYBRID NON GMO HEIRLOOM SURVIVAL GARDEN SEED BANK SKU50VF0000M: US $15.99 (0 B... http://t.co/leAF0Qr3'),\n",
       " Row(created_at=datetime.datetime(2012, 2, 20, 13, 39, 11), text='東京iPhoneアプリ勉強会。マーケティングからプログラミングまで超充実の内容をご報告。: 2月18日（土）に行われた「iPhone アプリ勉強会 at GMO Yours」をご報告！ 「iPhone アプリ勉強会 at G... http://t.co/yrlyu547'),\n",
       " Row(created_at=datetime.datetime(2012, 2, 21, 15, 35, 2), text='Hier kan duo Rutte/Wilders nog iets van leren &gt; Frankrijk vraagt opnieuw om de toelating van de GMO mais te schrappen: http://t.co/qT4YXvNR'),\n",
       " Row(created_at=datetime.datetime(2012, 2, 22, 16, 49, 32), text='today is so funyn gmo'),\n",
       " Row(created_at=datetime.datetime(2012, 2, 24, 1, 18, 17), text='GMO RALLY Hawaii State Capitol 2012 http://t.co/wt6HIhw9'),\n",
       " Row(created_at=datetime.datetime(2012, 2, 24, 12, 55, 13), text='haha juga^^ RT: @muamar28: ☺ hahaha\"@ladymau7: -_____- RT: @muamar28: Gmo RT \"@ladymau7: omg\"\"'),\n",
       " Row(created_at=datetime.datetime(2012, 2, 24, 13, 58, 11), text='\"Jeżeli już zdecydujemy się unikać produktów GMO w naszej diecie, na jakie produkty należy zwrócić szczególną... http://t.co/Z0R4bKFb'),\n",
       " Row(created_at=datetime.datetime(2012, 2, 24, 14, 22, 31), text='pentinglahhh,gw gmo ad yg slh phm and benci sam gw cuma gr\" mslh spele mending ngomong lngsung ajah deh RT @RDjayy pentng ya emang ,! hah ?'),\n",
       " Row(created_at=datetime.datetime(2012, 2, 24, 19, 10, 24), text='MONSANTO CAFETERIA BANS GMO FOODS    http://t.co/SdRkXojW'),\n",
       " Row(created_at=datetime.datetime(2012, 2, 26, 21, 48, 19), text='Bulawayo24 NEWS | Zimbabwe to maintain ban on GMO imports http://t.co/xrmxWpUk'),\n",
       " Row(created_at=datetime.datetime(2012, 2, 28, 21, 31, 57), text='Piratpartiets forum om GMO  http://t.co/hlWcFMi8  #nejtack'),\n",
       " Row(created_at=datetime.datetime(2012, 2, 29, 9, 45, 22), text='GMOs'),\n",
       " Row(created_at=datetime.datetime(2012, 2, 29, 12, 34, 13), text='GMO -________-'),\n",
       " Row(created_at=datetime.datetime(2012, 3, 1, 9, 38, 30), text='@NandaErl @iqbaluz lucunya, bibit GMO gak boleh dipake, tapi produk GMO impor banjir di indonesia. cont: kedele.'),\n",
       " Row(created_at=datetime.datetime(2012, 3, 1, 15, 29, 54), text='@Jon_Lien GMO har potensiale til å bli en kombinasjon av det verste fra Copywrong, Patenttroll og Pharmasyindustrien. @anneviken'),\n",
       " Row(created_at=datetime.datetime(2012, 3, 1, 17, 37, 14), text='Wells Fargo Advantage Funds Offers GMO Absolute Return Strategy via New Fund: SAN FRANCISCO... http://t.co/oMdRgfLd http://t.co/1DUPtjXc'),\n",
       " Row(created_at=datetime.datetime(2012, 3, 2, 1, 33, 6), text='PiS przeciwko GMO http://t.co/K8NabENI'),\n",
       " Row(created_at=datetime.datetime(2012, 3, 2, 8, 49, 3), text='Gmo'),\n",
       " Row(created_at=datetime.datetime(2012, 3, 8, 15, 51, 31), text='Check out Secretaria Relaciones Exteriores (Marquez de Leon, Ramirez y Gmo Prieto, La Paz) on @foursquare: http://t.co/5YvhYWtB'),\n",
       " Row(created_at=datetime.datetime(2012, 3, 9, 3, 9, 29), text='@lhagvasuren harin tiimee, medeelel ih heregtei bn.deer ni huulindaa importiin baraand GMO gsn temdeglegeeg shaardah heregtei bna'),\n",
       " Row(created_at=datetime.datetime(2012, 3, 10, 18, 22, 7), text='#lindaogutu GMO nininini? #hipsdontlie'),\n",
       " Row(created_at=datetime.datetime(2012, 3, 12, 17, 50, 21), text=\"I'm at MONSANTO GMO (Evansville, Indiana) http://t.co/7vPIMswy\"),\n",
       " Row(created_at=datetime.datetime(2012, 3, 14, 16, 22, 12), text='Pliss smua bs koj dpassiiin ssuai porsinya jgn sampe yg gmpng jd susah yg susah jd gmo'),\n",
       " Row(created_at=datetime.datetime(2012, 3, 15, 18, 19, 39), text='\"Let\\'s at least get out facts right\" om att bönder använder GMO för att de ger nytta i jordbruket, inte för att vara suckup åt Monsanto.'),\n",
       " Row(created_at=datetime.datetime(2012, 3, 19, 11, 53, 47), text='Czy są wiarygodne badania na temat organizmów genetycznie modyfikowanych? Czy odrzucenie GMO nie odbierze nam... http://t.co/iTsNLOhJ'),\n",
       " Row(created_at=datetime.datetime(2012, 3, 19, 22, 31, 11), text='@swagdesu GMO'),\n",
       " Row(created_at=datetime.datetime(2012, 3, 20, 14, 4, 29), text='RT @we99korea: RT @mesies7: 몬산토가 새만금 GMO 준비중입니다. 장단 맞출 국내 재벌 많겠지요. 인도에선 몬산토 소송... http://t.co/Y7hYWqex'),\n",
       " Row(created_at=datetime.datetime(2012, 3, 21, 5, 42, 42), text='GMO NIKKO小林くんによるアド論エントリ｜アトリビューション思考の入門パート２～検索行動の強さを活かすには～ http://t.co/c5nf9WjV'),\n",
       " Row(created_at=datetime.datetime(2012, 3, 23, 11, 33, 29), text='RT @kukkikdukdik : Survival Fruit Seeds Only $21.99 Non Hybrid NO GMO Real Survival Seeds Each variety of our No... http://t.co/36rTkroi'),\n",
       " Row(created_at=datetime.datetime(2012, 3, 27, 19, 18, 44), text='@Trisbreezy22 😝¿oot anigav ym gmo ooooooooooafml'),\n",
       " Row(created_at=datetime.datetime(2012, 3, 29, 15, 22, 14), text='Yaudeeee -_- \"@AnistaLIA: tp hati ku kekunci be -- RT @KimYolund: Aku lg d\\'hatimu :D \"@AnistaLIA: km lg d.arab yaa be :o RT @KimYolund: Gmo'),\n",
       " Row(created_at=datetime.datetime(2012, 4, 1, 10, 39, 56), text='OVERHEARD: Eti wanaume wa Nyeri ni wa GMO #Kuwekelewa #BONOKO na mabibi zao. #laughtweet'),\n",
       " Row(created_at=datetime.datetime(2012, 4, 2, 2, 1, 26), text='ยูเครนกวดขันนโยบาย GMO http://t.co/R5csRJIf'),\n",
       " Row(created_at=datetime.datetime(2012, 4, 2, 10, 17, 27), text='FDA telt 900,000 handtekeningen voor 1 GMO labeling petitie slechts als 1 stem http://t.co/Hb1FswY7'),\n",
       " Row(created_at=datetime.datetime(2012, 4, 3, 17, 36, 54), text='GMOside: How GMOs Cause Farmer Suicide http://t.co/xJWOZ0Ln via @mercola'),\n",
       " Row(created_at=datetime.datetime(2012, 4, 4, 1, 28, 38), text='Gardening Stuff: 100 VARIETIES NON HYBRID NON GMO HEIRLOOM SURVIVAL GARDEN SEED BANK - PREPPERS !: US $54.99 (0 ... http://t.co/D7LpZKh5'),\n",
       " Row(created_at=datetime.datetime(2012, 4, 5, 6, 7, 36), text='Haha yeahh ! Gmo got us !'),\n",
       " Row(created_at=datetime.datetime(2012, 4, 6, 5, 19, 50), text='Survival Seeds Non-Hybrid 27 Varieties of Survival Vegetable Seeds Heirloom Seeds Non GMO Survival Seeds.Each va... http://t.co/8Ug8BsKw'),\n",
       " Row(created_at=datetime.datetime(2012, 4, 11, 23, 46, 26), text='Baru tau tampilan facebook yg baru bisa liat kenangan yg lalu jadi GMO deh *gagal move on* -,-\"'),\n",
       " Row(created_at=datetime.datetime(2012, 4, 13, 3, 34, 4), text='66 proc. Polaków nie wie, co oznacza termin GMO http://t.co/dWUaXt91'),\n",
       " Row(created_at=datetime.datetime(2012, 4, 13, 3, 34, 46), text='GMO Oil Booster Pecahkan Rekor Dunia: PT GMO Oil Booster memecahkan rekor dunia dan MURI dalam hal ketahanan mes... http://t.co/Dedvfrj9'),\n",
       " Row(created_at=datetime.datetime(2012, 4, 14, 5, 18, 49), text='Heeeh !!!! Rahasiaaa Щ(•̩̩͡Д•̩̩͡щ) RT @mellauliya: GAGAL MOVE ON \"@putriavena: Maaaak aku GMO tadi liat itu\"'),\n",
       " Row(created_at=datetime.datetime(2012, 4, 14, 21, 14, 23), text='Hhhmmm gmo plng\" ah..hahaa :D RT @mey_lunatic: Iia rawan (☉̴͡ ̯☉̴͡) RT @sahee_ea: Skbumi kna gempa mlu??ya ampuuunn \\u200e\\u200b(⌣́_⌣̀) (cont) http'),\n",
       " Row(created_at=datetime.datetime(2012, 4, 15, 2, 22, 19), text=\"Let's get all GMO foods labeled! http://t.co/atEDBpQM\"),\n",
       " Row(created_at=datetime.datetime(2012, 4, 17, 2, 37, 32), text='Virtual transgenic fly lad quiz answers: http://t.co/8gszkUEd'),\n",
       " Row(created_at=datetime.datetime(2012, 4, 17, 4, 52, 7), text='Američka agencija za zaštitu okoliša odobrila GMO insekticid ...'),\n",
       " Row(created_at=datetime.datetime(2012, 4, 17, 17, 14, 7), text='#green #ecofriendly GMO CTLs vs HIV [erv] http://t.co/HzWQoUIm'),\n",
       " Row(created_at=datetime.datetime(2012, 4, 20, 0, 37, 48), text='Gmo = get me outta here'),\n",
       " Row(created_at=datetime.datetime(2012, 4, 23, 7, 18, 51), text='Npa savern mak? @sarah_tjoa gmo susu ya?'),\n",
       " Row(created_at=datetime.datetime(2012, 4, 23, 22, 53, 45), text='GMO uberalis. http://t.co/lgyBOtHd'),\n",
       " Row(created_at=datetime.datetime(2012, 4, 24, 3, 0, 17), text='@mega_mot Jasoncaswellsmith@yahoo.com thanks Gmo haha'),\n",
       " Row(created_at=datetime.datetime(2012, 4, 27, 15, 30, 40), text='#naszdziennik Genetycznie modyfikowane obietnice: Temat GMO jest bardzo kontrowersyjny. Z jednej strony ... http://t.co/sS9pJ9KK #Polska'),\n",
       " Row(created_at=datetime.datetime(2012, 4, 27, 18, 50, 58), text=\"遺伝子組み換えの大豆をつかっていながら、それを隠していたナチュラル食品ブランドKashi（ケロッグ）消費者は怒っています。Kashi's GMO Controversy Rages On http://t.co/9U26da8q via @TakePart #遺伝子組み換え\"),\n",
       " Row(created_at=datetime.datetime(2012, 4, 30, 7, 7, 25), text='say no to GMO'),\n",
       " Row(created_at=datetime.datetime(2012, 5, 1, 20, 18, 37), text='Survival Seeds Non-Hybrid 27 Varieties of Survival Vegetable Seeds Heirloom Seeds Non GMO Survival Seeds.Each va... http://t.co/a1PI10h9'),\n",
       " Row(created_at=datetime.datetime(2012, 5, 2, 16, 38, 56), text='@supacchai นั่นมันคะน้า GMO หรอก #ความรักจะทำให้เธอนะระหน่อมนะแน้มไม่ได้เพราะเธอรักเขาข้างเดียว -เผ่น-'),\n",
       " Row(created_at=datetime.datetime(2012, 5, 3, 3, 56, 34), text='GMO means “God Move Over” - @drvandanashiva'),\n",
       " Row(created_at=datetime.datetime(2012, 5, 4, 3, 35, 53), text='@MYeLoxales uy joke lang masyadong sineryoso hahahahah galin gmo nga non heheheheheheheh yun nga yung gabi na tooooooooooooooooooooooooottt'),\n",
       " Row(created_at=datetime.datetime(2012, 5, 4, 6, 46, 42), text='@mimi_niezh kt mamah gw, klo gmo bdoa itu sombong.. naluuu.'),\n",
       " Row(created_at=datetime.datetime(2012, 5, 4, 11, 47, 6), text='【残り16時間13分15秒】134枚購入されています！55%OFF【1,780円】≪☆24名様まで予約可☆NEWOPEN☆特製ジャンボ餃子にスペアリブにデザートで大満足... - くまポン by GMO http://t.co/9p1mlKFK'),\n",
       " Row(created_at=datetime.datetime(2012, 5, 5, 23, 26, 49), text='http://t.co/Tl5lIYq3 VAROVÁNÍ PŘED GMO: 10 GMO POTRAVIN (A spojitost s ...'),\n",
       " Row(created_at=datetime.datetime(2012, 5, 6, 21, 13, 3), text='Survival Seeds Non-Hybrid 27 Varieties of Survival Vegetable Seeds Heirloom Seeds Non GMO Survival Seeds. Each v... http://t.co/elQ4GfZX'),\n",
       " Row(created_at=datetime.datetime(2012, 5, 8, 17, 16, 5), text='Jiah, yuki blang gtu, ntar jga GMO lg :pRT @yukiana: maaf, uangnya udah aku tabung untuk membeli hati yg baru ... http://t.co/UoRrzJmu'),\n",
       " Row(created_at=datetime.datetime(2012, 5, 11, 5, 46, 27), text='Aminn...hhaha emg nya uty gmo masuk surga hhaha RT @utygareta Tp masuk surga. Hha RT\"@pakwin_sikembar: Jgn Lah dek...ada\" ajja ya'),\n",
       " Row(created_at=datetime.datetime(2012, 5, 12, 6, 5, 38), text=\"ah gmo ah punya bapak kaya' km sblum di kasih duit, butuh ni bt beli sepatu  RT @RadenRatno sejak sukhoi kemarin ditemukan RT\"),\n",
       " Row(created_at=datetime.datetime(2012, 5, 14, 15, 48, 18), text='@JogjaUpdate SEMINAR BIOTEKNOLOGI 2012 \"OMG! its GMO ..@uajy | Sabtu 2 juni 2012 | Pendaftaran, cp : 081347685040. thx'),\n",
       " Row(created_at=datetime.datetime(2012, 5, 15, 23, 26, 17), text='GMO Labeling Panel Discussion http://t.co/SOlf12Nc via @mercola'),\n",
       " Row(created_at=datetime.datetime(2012, 5, 16, 21, 47, 22), text='@Consuelo_ZG Ah zatvorila sam se u kuću i pravim se da živim u seattlu u doba nakon pulsa i da sam transgenic human aka gledam Dark Angel xD'),\n",
       " Row(created_at=datetime.datetime(2012, 5, 16, 22, 42, 53), text='【残り05時間17分09秒】87枚購入されています！67%OFF【1,500円】≪☆送料込☆ダイエットに最適！着るだけでどんどん汗をかける、多機能Tシャツ☆吸水性と速... - くまポン by GMO http://t.co/MY1FoaPZ'),\n",
       " Row(created_at=datetime.datetime(2012, 5, 18, 8, 46, 53), text=\"Beekeepers Win Ban on Monsanto's GMOs in Poland http://t.co/xJ1mMWbM via @Defendfreedom07\"),\n",
       " Row(created_at=datetime.datetime(2012, 5, 18, 11, 10, 51), text='@whulland_jail haha gmo g betah gua beliin jamur , indomie+nasi . orange juice . haha'),\n",
       " Row(created_at=datetime.datetime(2012, 5, 19, 12, 0, 56), text='@georjjulian gmo :(( parang GM mo yung sinasabi nyeheheheh'),\n",
       " Row(created_at=datetime.datetime(2012, 5, 23, 17, 55, 3), text='Lol RT\"@Rahmidey:Lool,u wan make I open ur transgenic now Abi? @Baraq001:wetin b kush self no b name of dr dre\\'s track ft snoop dogg n akon?'),\n",
       " Row(created_at=datetime.datetime(2012, 5, 24, 18, 30, 26), text='GMOs are like playing Russian Roulette http://t.co/5GsvH0vx'),\n",
       " Row(created_at=datetime.datetime(2012, 5, 24, 19, 3, 11), text='Estou em GMO indústria e comércio - Pinhais - PR http://t.co/Ul5K2Mhw'),\n",
       " Row(created_at=datetime.datetime(2012, 5, 26, 17, 59, 35), text='@_FemaleProdigy im gettnn madder &amp;madder , like dont text me mann go hang with albert einstein &amp;her gmo that dnt like you. lmao'),\n",
       " Row(created_at=datetime.datetime(2012, 5, 28, 5, 21, 31), text='ม็อบผู้ดีต้านพืช GMO ชี้ส่งผลเสียอุตสาหกรรมการเกษตร http://t.co/IXBJstds via manager'),\n",
       " Row(created_at=datetime.datetime(2012, 5, 28, 5, 34, 14), text='Heirloom Non-Hybrid Garden Survival Seed 100 Varieties ~ 100 Heirloom Varieties ~ No GMO - No Hybrid - Carrot - ... http://t.co/wTmLtsyl'),\n",
       " Row(created_at=datetime.datetime(2012, 5, 28, 10, 28, 4), text='Kadako gyud aning gi GMO nga sweet corn ui! Gikutasan nakog kaon, wa pa nahurot! Phew.'),\n",
       " Row(created_at=datetime.datetime(2012, 5, 28, 10, 48, 51), text='GMO yours!のリーダーを @ayohata とチェンジ! http://t.co/5kbrBwSI'),\n",
       " Row(created_at=datetime.datetime(2012, 5, 30, 21, 37, 38), text='EU science panel dismisses French concerns about GMO - again. http://t.co/zK78eYVM @Calestous'),\n",
       " Row(created_at=datetime.datetime(2012, 6, 1, 15, 41, 12), text='Survival Seeds Non-Hybrid 27 Varieties of Survival Vegetable Seeds Heirloom Seeds Non GMO Survival Seeds.Each va... http://t.co/HfazP5W9'),\n",
       " Row(created_at=datetime.datetime(2012, 6, 2, 20, 42, 34), text='Ich habe ein Video zu einer @YouTube-Playlist hinzugefügt. http://t.co/18Z9QXCo GMO APPLES COMING SOON!'),\n",
       " Row(created_at=datetime.datetime(2012, 6, 4, 20, 50, 24), text='Gagal MOVE ON, udah 3000X gnti ava, ujung2nya ava yg itu lg. RT @Abi_Vaganza: Artinya?\"@DewiTR66: GMO (`▽´)-σ RT @Abi_Vaganza: Baru tau cara'),\n",
       " Row(created_at=datetime.datetime(2012, 6, 5, 3, 26, 22), text='Gmo , mike &amp; yeyo are making some kinda pasta.. I doubt it takes 3 .. Lol'),\n",
       " Row(created_at=datetime.datetime(2012, 6, 6, 0, 11, 24), text='@brittasw Vandaag heel toevallig om een heel andere reden nog even naar Just Say No To GMO geluisterd...'),\n",
       " Row(created_at=datetime.datetime(2012, 6, 7, 15, 11, 10), text='GMO oil booster RT @bicky_nata1: Oil booster apaan kus? Wkwkwk \"@_MarkusAnthony_: Oil booster bikin tarikan lbh ... http://t.co/eLPiUTtl'),\n",
       " Row(created_at=datetime.datetime(2012, 6, 9, 5, 8, 32), text='http://t.co/OV7NKS5S\\nNo proper studies done on GMOs'),\n",
       " Row(created_at=datetime.datetime(2012, 6, 9, 13, 40, 30), text='@YogaUnyuunyu ups mav kl ak cb dkt sm km,ak cm gmo dsbut prusak hub orang'),\n",
       " Row(created_at=datetime.datetime(2012, 6, 10, 16, 11, 35), text='Sekilas kayak germo germo dah sash -_- RT@SashAnss Gmo ya gmo @mirsaraib'),\n",
       " Row(created_at=datetime.datetime(2012, 6, 12, 2, 25, 29), text='GMo'),\n",
       " Row(created_at=datetime.datetime(2012, 6, 12, 12, 6, 32), text='dugra langsung atu ieu ma? haha ya gmn ya da hrsnya ma dilupain bro biar ga nysk RT @jojooojo: Watir pisan ga, gmo selalu ga urg ma'),\n",
       " Row(created_at=datetime.datetime(2012, 6, 12, 13, 53, 20), text='@ikaaalestari ka ikaa gmo nii jd kaka aq, ka ika jahat iih sama yg lain aja mauu *huuh :((( :D :D'),\n",
       " Row(created_at=datetime.datetime(2012, 6, 12, 14, 34, 23), text='@lalathaliaaa gmo apaan tuch maap aku bukan anak gaul :3'),\n",
       " Row(created_at=datetime.datetime(2012, 6, 19, 15, 28, 45), text='GMO Blog http://t.co/VGelj2gI'),\n",
       " Row(created_at=datetime.datetime(2012, 6, 20, 3, 47), text='Gamaudooong. Utoo ka:3RT @1Dellaw: Gamau ngalah ye._.hvancday:3RT @evatirx: Kek aku juga:$ gmorning too ka:3RT 1Dellaw: Unyu kyk aku:$ Gmo'),\n",
       " Row(created_at=datetime.datetime(2012, 6, 21, 18, 34, 3), text='Vt.Buzz: Sanders’ GMO amendment goes to vote, fails http://t.co/xM3AmHLA'),\n",
       " Row(created_at=datetime.datetime(2012, 6, 21, 23, 31, 30), text='GMO labeling cartoon: http://t.co/gni7p8Um'),\n",
       " Row(created_at=datetime.datetime(2012, 6, 22, 8, 44, 39), text='You is germo!!! (`▽´)-σ \"@rakka_ramadhan: What do you talking about ?RT @ruthshiltors Gmo \"@rakka_ramadhan: OmgRT'),\n",
       " Row(created_at=datetime.datetime(2012, 6, 22, 14, 34, 2), text=\"Pdhl mah seb'y gue tw klo tlp'y blm dmtiin,cm krn gue gmo aja gue dluan yg tu2p..,jd gue diemin deh hhaaa #pengakuandosa\"),\n",
       " Row(created_at=datetime.datetime(2012, 6, 23, 16, 35, 13), text='Rat Paul Votes NO on GMO Labeling http://t.co/tRTw0K9b'),\n",
       " Row(created_at=datetime.datetime(2012, 6, 26, 14, 54, 35), text='@Komentar_Dana U dokumentu stoji da se mora označavati GMO ako ima višeod 0.5%, s tim da proizvođač mora dokazati da nije mogao osigurati'),\n",
       " Row(created_at=datetime.datetime(2012, 6, 26, 16, 14, 36), text=\"ScienceDaily - Transgenic technique 'eliminates' a specific neural circuit in brain of primates. http://t.co/QG62oXha #neurosurgery #neuro\"),\n",
       " Row(created_at=datetime.datetime(2012, 6, 26, 17, 20, 26), text='Survival Seeds Non-Hybrid 27 Varieties of Survival Vegetable Seeds Heirloom Seeds Non GMO Survival Seeds. Each v... http://t.co/Rs735Jsw'),\n",
       " Row(created_at=datetime.datetime(2012, 6, 27, 10, 39, 53), text='@fumufufu gmo'),\n",
       " Row(created_at=datetime.datetime(2012, 6, 27, 23, 2, 55), text='MOG RT @bbnyoo29 @lucindamanda GMO'),\n",
       " Row(created_at=datetime.datetime(2012, 6, 28, 16, 35, 27), text=\"Tuh cici u kangen sama u win,,sabar ya la (  '́⌣'̀ )ʃ(´._.`) @chanstella Ohh jd gt, gmo balik jkt lg ... http://t.co/QTF6lpxx\"),\n",
       " Row(created_at=datetime.datetime(2012, 6, 30, 5, 55, 12), text='Say no to GMO mosquitoes! http://t.co/3X1Y8mn2 via @care2'),\n",
       " Row(created_at=datetime.datetime(2012, 7, 4, 9, 13, 28), text='bohong ah, tu masih da namanya \"bambang\" RT @RadenRatno uda kosong wleeeee RT himawarychan:  gmo ah serem garuk hati mah, pa lg hati km udah'),\n",
       " Row(created_at=datetime.datetime(2012, 7, 12, 7, 7, 23), text='Huhuhu\"@_ichrot15: Iya dadah :-) , iya selamat besok ya trktr loh ya recheese gmo tau RT @amelianaz: Ext. Dadah @_ichrot15 sampe bsk ya☺\"'),\n",
       " Row(created_at=datetime.datetime(2012, 7, 13, 13, 11, 40), text='GMO RT @ria_bjfitri: OMG RT @Kar_Linaaa: Jgn mau klo lo ga dianggp apa2,paling pelarian :D RT ria_bjfitri: Hahaha iya kak pasti,,'),\n",
       " Row(created_at=datetime.datetime(2012, 7, 16, 15, 20, 12), text='@Ton_JK ไม่รู้จักหรา? Gmo อ้ะ 5555555'),\n",
       " Row(created_at=datetime.datetime(2012, 7, 20, 22, 52, 5), text='Gmo gmo gmo *wuekkkk* RT@daniii2808 abah jang euy jang euy RT @egha_audina: Opo jang euy??? Hahahaaa RT@daniii2808 Nyiii @egha_audina'),\n",
       " Row(created_at=datetime.datetime(2012, 7, 20, 22, 56, 37), text='@TayTwerk_ Kamaran, Tiago, and Gmo'),\n",
       " Row(created_at=datetime.datetime(2012, 7, 23, 7, 6, 56), text='BAXTER INTERNATIONAL ONE OF LEADING GROUPS ON U.S. VACCINES ALSO W/MONSANTO GROUP GMO OUR FOOD SUPPLY TO MAKE US SICK.STEAL FARMERS FARMS.'),\n",
       " Row(created_at=datetime.datetime(2012, 7, 24, 18, 56, 51), text='Are GMOs Making You Fat? http://t.co/PdiUkmHZ #diet411'),\n",
       " Row(created_at=datetime.datetime(2012, 7, 25, 14, 40, 41), text='GMO sugar beets get the green light | Grist http://t.co/ozPmkx5s'),\n",
       " Row(created_at=datetime.datetime(2012, 7, 25, 18, 38, 45), text='GMO sugar beets get the green\\xa0light: http://t.co/5L9K0d9b via @grist'),\n",
       " Row(created_at=datetime.datetime(2012, 7, 26, 12, 3, 15), text='Criminal Monsanto ~ Codex Alimentarius and GMO Poison Food - http://t.co/JpP1udtW - #depression #fatigu... http://t.co/vrvk3MWo'),\n",
       " Row(created_at=datetime.datetime(2012, 7, 26, 18, 46, 41), text='GMO sugar beets get the green\\xa0light http://t.co/hfX1avka via @grist'),\n",
       " Row(created_at=datetime.datetime(2012, 7, 29, 12, 31, 10), text='GMO Seeds Clog Pipeline! http://t.co/17hggCo3 http://t.co/De3uFXec'),\n",
       " Row(created_at=datetime.datetime(2012, 7, 29, 14, 24, 4), text='Gmo anisa rahma mh apal \"@de_gmo: Apal k gmo pastrana ? RT UkitSarukit: @de_gmo teu apal nya uing drifter kit_block ghimkana ...\"\"'),\n",
       " Row(created_at=datetime.datetime(2012, 7, 31, 13, 38, 14), text='sorry gmo itu apa ya? “@IvanAlif_: Gue ivan lo nasta lo GMO wkwk \"@nasythatristie: siapa lo siapa gue? “@IvanAlif_:'),\n",
       " Row(created_at=datetime.datetime(2012, 8, 1, 17, 57, 33), text=\"I'm at GMO indústria e comércio - Pinhais - PR http://t.co/kaqUSJjE\"),\n",
       " Row(created_at=datetime.datetime(2012, 8, 2, 14, 4, 26), text='O tym, jak to jest naprawdę z tym głodem w Nigrze. Dlatego GMO nie rozwiąże tego problemu, a mówienie, że jest... http://t.co/DZwCqe64'),\n",
       " Row(created_at=datetime.datetime(2012, 8, 5, 19, 25, 55), text='Are GMOs making you fat? http://t.co/bkbvBwKp'),\n",
       " Row(created_at=datetime.datetime(2012, 8, 6, 10, 33, 14), text='Ushawahi try? RT @_swagi_: maze,GMO ni fake! RT @kvaati: Its GMO RT @_swagi_: The marijuana #KOT smoke..SMH!'),\n",
       " Row(created_at=datetime.datetime(2012, 8, 8, 7, 1, 17), text='@Sasha5169 @tinky105 Lol Bol Lmao ! Gmo Ewwwwwwwwww No !'),\n",
       " Row(created_at=datetime.datetime(2012, 8, 9, 2, 0, 52), text='Join A Twitter Chat to Help Get GMOs Labeled http://t.co/RPkyCc9g via @dietsinreview'),\n",
       " Row(created_at=datetime.datetime(2012, 8, 11, 3, 31, 2), text='Cesar y Sebastián parece que compraron gafas 2x1 en GMO @gabodelascasas'),\n",
       " Row(created_at=datetime.datetime(2012, 8, 13, 17, 6, 52), text='@AlexNeuman en Panamá afortunadamente todavia no. Pero dejar que entren a lo loco, puede hacer que la gran parte de verduras queden GMO'),\n",
       " Row(created_at=datetime.datetime(2012, 8, 13, 19, 18, 27), text='@canislibertatis θα συμφωνούσα μέχρι το κόκκαλο αν δεν είχα τις αμφιβολίες μου για το κατά πόσο το παράδειγμα των GMO θεωρείται προοδευτικό'),\n",
       " Row(created_at=datetime.datetime(2012, 8, 17, 21, 55, 20), text='Oh, kok gagal ul:\"RT @zulvhanisya25: Gagal Move On !!! RT @ellasyifalianii GMO apaan?'),\n",
       " Row(created_at=datetime.datetime(2012, 8, 17, 22, 31, 25), text='Keeping GMOs Hidden Costs Millions http://t.co/B6dF30KX'),\n",
       " Row(created_at=datetime.datetime(2012, 8, 19, 11, 45, 1), text='km jg wanita GMO na? :o RT @Rrisdiani: Haha eta pisannn -__-RT Indriaaaaw: gagal mup on -_____- hikzRT (cont) http://t.co/PPhPDUMf'),\n",
       " Row(created_at=datetime.datetime(2012, 8, 20, 15, 13, 32), text='GMO'),\n",
       " Row(created_at=datetime.datetime(2012, 8, 21, 15, 41, 42), text='#AyahMengapa temenku yg satu ini GMO trus.. :\"( *colek @AqilaMaretasya (‾⌣‾)♉'),\n",
       " Row(created_at=datetime.datetime(2012, 8, 22, 9, 9, 19), text='GMO'),\n",
       " Row(created_at=datetime.datetime(2012, 8, 22, 16, 23, 41), text='14คลิปแบบคัดแล้ว โฮกกกกกกกกกกก OMG GMO =[ ]='),\n",
       " Row(created_at=datetime.datetime(2012, 8, 23, 0, 31, 19), text='Brazilian Court Demands Nestle Label GMO Ingredients http://t.co/cNUlh4nn'),\n",
       " Row(created_at=datetime.datetime(2012, 8, 23, 13, 0, 16), text='GMO (Genetically Modified Organisms) คือ การตกแต่งสารพันธุกรรม โดยการเปลี่ยนรูปแบบ ของสิ่งมีชีวิตธรรมชาติ ให้เป็นสิ่งมีชีวิตชนิดใหม่'),\n",
       " Row(created_at=datetime.datetime(2012, 8, 23, 18, 36, 32), text='@paulorendain artistas d Tonala!Mi abuelo Gmo Hdez fue alfarero trabajo c/paco padilla para Paloma Picasso cuando el restaurant Picasso nGDL'),\n",
       " Row(created_at=datetime.datetime(2012, 8, 23, 23, 36, 54), text='hahaaRT @nindarninda kepoo~ RT: @Uzand7777: @wulanda97 @ikayuliaa pada ngapain sih -_- @nindarninda GMO apaan? -_-'),\n",
       " Row(created_at=datetime.datetime(2012, 8, 26, 4, 59, 18), text='@PamelaJuanita me equivoque fueron 8 cuando Lukas Tudor le marcó 7 goles, los 10 goles fueron a Gmo Rojas de Reg Atacama'),\n",
       " Row(created_at=datetime.datetime(2012, 8, 27, 15, 25, 26), text='Brazil court rules Nestle must label GMO ingredients http://t.co/csOlKJY8'),\n",
       " Row(created_at=datetime.datetime(2012, 8, 27, 16, 18, 34), text='Monsanto’s 10 most misleading talking points on GMO labeling http://t.co/QVkyUGYj\\n@grist'),\n",
       " Row(created_at=datetime.datetime(2012, 8, 28, 2, 0, 24), text='gmO'),\n",
       " Row(created_at=datetime.datetime(2012, 8, 28, 4, 14, 1), text='Monsanto’s 10 most misleading talking points on GMO labeling http://t.co/KKOXdrL7 #GMO'),\n",
       " Row(created_at=datetime.datetime(2012, 8, 30, 23, 26, 27), text='Carrot Hercules (Daucus carota var. sativus) 500 GMO Free Seeds per Package b.... http://t.co/zaCMJztK via @amazon'),\n",
       " Row(created_at=datetime.datetime(2012, 9, 1, 19, 40, 30), text='GMO .'),\n",
       " Row(created_at=datetime.datetime(2012, 9, 2, 9, 59, 41), text='minggu dpn lu k kls, gw gmo tao :p “@GabriellaSBiebs: @melo_keroppi yaah pntess”'),\n",
       " Row(created_at=datetime.datetime(2012, 9, 3, 7, 10, 23), text='kada posle deset dana u frizideru pronadjes paradajz u istom stanju u kojem si ga ostavio! GMO much?'),\n",
       " Row(created_at=datetime.datetime(2012, 9, 3, 18, 27, 48), text='GMO - JJ DOOM &gt;&gt;&gt;&gt;&gt;&gt;&gt;&gt;&gt;&gt;&gt;&gt;&gt;'),\n",
       " Row(created_at=datetime.datetime(2012, 9, 4, 1, 0, 12), text='GMO CLOUD K.K. http://t.co/qxPqeFbH.'),\n",
       " Row(created_at=datetime.datetime(2012, 9, 4, 14, 31, 55), text='@Indiraoktarini @Niar_Nhy : skrng pd GMO hadeeehhh, ktnya dah unfol eh kuliat muji2 ckckckkck'),\n",
       " Row(created_at=datetime.datetime(2012, 9, 5, 4, 19, 16), text='My transgenic plants &gt;&gt;&gt;&gt;&gt;&gt;&gt;&gt;&gt; any boo. Sad but true at the moment....'),\n",
       " Row(created_at=datetime.datetime(2012, 9, 5, 17, 5, 38), text='Wtf does GMO mean'),\n",
       " Row(created_at=datetime.datetime(2012, 9, 8, 8, 5, 26), text=\"@kasie305 gmo you've never seen jackass the movie?\"),\n",
       " Row(created_at=datetime.datetime(2012, 9, 9, 20, 15, 14), text='@travislouie damned GMO milk giving me linebacker shoulders.'),\n",
       " Row(created_at=datetime.datetime(2012, 9, 12, 15, 5), text='Que chuchis el taco en gmo gallardo!'),\n",
       " Row(created_at=datetime.datetime(2012, 9, 13, 10, 17, 23), text='นักวิจัยมังกรมึนตึ้บ ถูกอ้างชื่อในงานวิจัยข้าวสีทอง ฮือ! นร.6-8 ขวบ เป็นหนูทดลองข้าว GMO http://t.co/g9kh62sk :จีน'),\n",
       " Row(created_at=datetime.datetime(2012, 9, 13, 13, 1, 44), text='GMO Labeling Proposal in California - HELP   http://t.co/JFuTFQVe via @mercola'),\n",
       " Row(created_at=datetime.datetime(2012, 9, 13, 22, 50, 8), text='@Helen3737 카놀라유(채종유 유채)가 한식 샐러드드레싱으로도 많이 사용되고 비건베이킹에도 사용되는 향도 맛도 무난한 유용하고 좋은 기름인데 요즘은 그 원재료가 100프로 gmo 유채라 구입을 꺼리게 되는 기름이죠'),\n",
       " Row(created_at=datetime.datetime(2012, 9, 14, 0, 20, 30), text='Jb soktau ok-_-RT @Ridoesm: Germo yak\\'e *jb* RT @wisnuhilman: Gmo itu apa ?\"@aaptan: Lha apa ? Gmo wkwkRT @wisnuhilman: Apakamu\"@aaptan:'),\n",
       " Row(created_at=datetime.datetime(2012, 9, 14, 17, 17, 25), text='So Vonte begging gmo fah ha eggs an baken an he jus ate'),\n",
       " Row(created_at=datetime.datetime(2012, 9, 16, 6, 59, 38), text='@jasonmsaul A GNO GMO blog?'),\n",
       " Row(created_at=datetime.datetime(2012, 9, 17, 15, 51, 52), text='@EvelynJn_ Putri sopo? GMO apa ???'),\n",
       " Row(created_at=datetime.datetime(2012, 9, 17, 16, 36, 25), text='@jojoekung ช่ายๆ คืนนี้คงไม่ได้นอนอะ พรุ่งนี้เช้าพี่ฮิวต้องเอา GMO ไปพรีเซนต์  ToT'),\n",
       " Row(created_at=datetime.datetime(2012, 9, 18, 3, 11, 31), text='Firestorm Erupts Over Transgenic Rice Study in Chinese Children - ScienceInsider http://t.co/JEB5w77C'),\n",
       " Row(created_at=datetime.datetime(2012, 9, 19, 17, 57, 5), text='@BenR95 gmo hi u ok'),\n",
       " Row(created_at=datetime.datetime(2012, 9, 19, 21, 34, 3), text='De Stortplaats: gmo mais blijkt zeer effektief als rattengif!: In Frankrijk is in het diepste geheim 2 jaar lang... http://t.co/5XXPHkBh'),\n",
       " Row(created_at=datetime.datetime(2012, 9, 20, 0, 4, 38), text='Schokkende resultaten bij éérste langdurige studie van met GMO gevoerde ratten http://t.co/XcnfAMkO #nieuws'),\n",
       " Row(created_at=datetime.datetime(2012, 9, 20, 18, 13, 39), text='@LeePapabun gw mau makan ifu mie, mau makan bubur ayam, mau makan mpek2, mau makan sate ama gule kambing. HARUS! GMO TAU! (  ˘͡ -˘͡)'),\n",
       " Row(created_at=datetime.datetime(2012, 9, 21, 0, 3, 52), text='GMO NO!: http://t.co/zEqWwlW4 via @youtube'),\n",
       " Row(created_at=datetime.datetime(2012, 9, 21, 2, 28, 17), text='Kucinich Calls Out Monsanto: Americans Demand GMO Labeling\\nDennis Kucinich, Video Feature: Dennis Kucinich, Ohio... http://t.co/W1iB7rdy'),\n",
       " Row(created_at=datetime.datetime(2012, 9, 23, 19, 12, 37), text='carekan tah miminna! RT @Rorosiealibela: Balikna urang baseuh atuh min. Urang nebeng ka gmo -_- (cont) http://t.co/GAXdCtY6'),\n",
       " Row(created_at=datetime.datetime(2012, 9, 24, 2, 37, 3), text='Perutku brasa rame..kdang dia dikanan, trus geser kiri, kdang diatas kdang muter kbwh,klo lg gmo diganggu dielus aja lngsung nendang ☺♥'),\n",
       " Row(created_at=datetime.datetime(2012, 9, 25, 12, 5, 11), text='Dokazano: GMO hrana je veoma štetna za zdravlje! - Economy.rs nauka i kompanije http://t.co/ja7t9XWS GMO je zlo'),\n",
       " Row(created_at=datetime.datetime(2012, 9, 25, 22, 29, 36), text='@TeteMutete: @ajonyo: @tetemutete @jeanjames62 @macy_julian @ngungush  ths coconuts kwani ni ma GMO'),\n",
       " Row(created_at=datetime.datetime(2012, 9, 26, 2, 0, 55), text=\"Panjang mak :'( intinya GMO lagi--' @astriiaci: @IchaaIccho @siti_rise15 @PuputLestarii_ @RezaAzalea @PriscellaN_ cerita dong :(\"),\n",
       " Row(created_at=datetime.datetime(2012, 9, 26, 20, 28, 36), text='gmo 안쓰는 회사 - 풀무원, 샘표, 삼육식품, 매일유업, 웅진식품, 광동제약.동양푸드.마르코.매일유업.주식회사 면사랑'),\n",
       " Row(created_at=datetime.datetime(2012, 9, 27, 7, 29, 19), text='DOKAZANO: KANCEROGENA GMO HRANA!!! Konačno postoji i naučni dokaz!: http://t.co/nEp9b1yw via @youtube'),\n",
       " Row(created_at=datetime.datetime(2012, 9, 27, 18, 3, 56), text='GMO http://t.co/4n3jq1go'),\n",
       " Row(created_at=datetime.datetime(2012, 9, 28, 6, 30, 21), text='GMO and Monsanto http://t.co/vdnNzeAQ'),\n",
       " Row(created_at=datetime.datetime(2012, 9, 28, 14, 11, 15), text=\"'do you use GMO ingredients?' http://t.co/Iq1qQ4LO via @@McD_Canada\\n#MonsnatoKills #Label GMO\"),\n",
       " Row(created_at=datetime.datetime(2012, 9, 30, 9, 24, 47), text='@christiemelinda GMO'),\n",
       " Row(created_at=datetime.datetime(2012, 10, 3, 17, 5, 43), text='I miss gmos'),\n",
       " Row(created_at=datetime.datetime(2012, 10, 4, 2, 48, 52), text='\"@vcobb34: Omg\" gmo'),\n",
       " Row(created_at=datetime.datetime(2012, 10, 4, 21, 15, 56), text='Feldversuch: Eichhörnchen wählen zwischen GMO und Bio-Mais: http://t.co/s4qRvfkS via @johnd4020man'),\n",
       " Row(created_at=datetime.datetime(2012, 10, 4, 23, 27, 39), text='GMO crops actually require INCREASED pesticide use? Well surprise, surprise! http://t.co/dZDbDs4k @coopportunity'),\n",
       " Row(created_at=datetime.datetime(2012, 10, 5, 9, 59, 11), text=\"['탁구공만한 종양'... 프랑스 연구팀, GMO 유해성 밝혀]...그럴리가... 라면서 클릭했더니 출처가 오마이뉴스... 그래 오마이뉴스라면 이렇게 쓸법도 하지...\"),\n",
       " Row(created_at=datetime.datetime(2012, 10, 7, 13, 23, 31), text='GMO http://t.co/D1ZSc6b4'),\n",
       " Row(created_at=datetime.datetime(2012, 10, 9, 7, 3, 46), text='LIL CODY &amp;amp; GMO - FIRE (MOB).. http://t.co/yRBpaysS'),\n",
       " Row(created_at=datetime.datetime(2012, 10, 11, 9, 29, 53), text='Que sucede con el gobierno federal, en cuestion de la ¡SEC! porque permite que se vendan las plazas, Gmo Padres lo aprovo en Sonora'),\n",
       " Row(created_at=datetime.datetime(2012, 10, 11, 11, 33, 10), text='@onepiece_rayhan kok GMO sih.. BMO'),\n",
       " Row(created_at=datetime.datetime(2012, 10, 11, 13, 48, 11), text='#infolimit si @radenayupricele anak GMO yg gagak move on nya overdosis limit tuh! yg liat RT-_- awas aja gak RT beliin gue pulsa lu semua'),\n",
       " Row(created_at=datetime.datetime(2012, 10, 11, 23, 36, 32), text='GMO Film Project Sizzler http://t.co/dcLj650L'),\n",
       " Row(created_at=datetime.datetime(2012, 10, 12, 3, 32, 6), text='@Ray09Johnny HAHAHAHAHAH gmo'),\n",
       " Row(created_at=datetime.datetime(2012, 10, 12, 15, 2, 16), text='“@sebacarcamo: @adpingui gracias por la info, y las del mall las conoces ?”/ solo gmo y no tengo muy buena impresión'),\n",
       " Row(created_at=datetime.datetime(2012, 10, 16, 14, 47, 3), text='Ba: \"kolla, GMO är jättefarligt!\" Nej, den forskningen är kass. \"kolla, GMO-forskning är kass!!\"'),\n",
       " Row(created_at=datetime.datetime(2012, 10, 18, 3, 28, 58), text='Q3 80% OR MORE OF UR GROCERY STORE CONTAINS GMOS RIGHT NOW. WOULD U AVOID IF YOU KNEW WHERE? WHY? #YesOn37 #LabelGMOs'),\n",
       " Row(created_at=datetime.datetime(2012, 10, 18, 5, 7, 22), text='Hai hand too yaa;3 RT @mutiiaraayu: Hai morning,hand yaap;--)RT @hannyNM_: RT @.annisoooo: RT @.YASYOSS: Gmorning:-)\"mutiiaraayu: Ucapin gmo'),\n",
       " Row(created_at=datetime.datetime(2012, 10, 20, 12, 39, 28), text=\"@_zkhr sakit ya, dia aja gak ngucapin lho waktu aku, namanya juga gak ada rasa sih mau dipaksa juga gak bisa :') APA ?!? GMO ? CIEEEEE~~~\"),\n",
       " Row(created_at=datetime.datetime(2012, 10, 21, 9, 56, 25), text='Yg baca rawi siapa ? Pahaji nanyain gue ga ? RT @arie_alzzie: jana gmo nyanyi, kga tw gw juga acra apaan org di dpn'),\n",
       " Row(created_at=datetime.datetime(2012, 10, 22, 2, 29, 19), text='OMG GMO OGM'),\n",
       " Row(created_at=datetime.datetime(2012, 10, 22, 12, 58, 5), text='Hehe gagal move on maksutnya ,, ikutan dong bikin baju GMO ,, WKWKWKW RT @prtwanggun: Amasa? Tuh yg pengen (cont) http://t.co/WMUvDBUq'),\n",
       " Row(created_at=datetime.datetime(2012, 10, 22, 17, 24, 10), text='GMO makes me #gilaaaa'),\n",
       " Row(created_at=datetime.datetime(2012, 10, 24, 0, 56, 5), text='Gmo gmo gmo'),\n",
       " Row(created_at=datetime.datetime(2012, 10, 24, 5, 55, 34), text='GMOs Are Back \\nhttp://t.co/j4wz440Y'),\n",
       " Row(created_at=datetime.datetime(2012, 10, 27, 4, 36, 7), text='@grist GMO is Soilent Green!'),\n",
       " Row(created_at=datetime.datetime(2012, 10, 27, 19, 34, 20), text='@louisepatdxx gmo'),\n",
       " Row(created_at=datetime.datetime(2012, 10, 28, 10, 0, 19), text='Thats uRT @NatasyaJaneVM -_- busmulRT sheeniyaa: HuaammRT NatasyaJaneVM Kadang-kadang jiRT sheeniyaa: Gmo mmgkiRT (cont) http://t.co/25S68o'),\n",
       " Row(created_at=datetime.datetime(2012, 10, 29, 2, 5, 19), text='Eh cha, makasih yah kmren, sorry gra2 gw hape lo lowbad RT @IchaaIccho: Coba hr ni kyk kmaren,- ngumpul ama ank GMO u,u ktmu rio ktmu rfm --'),\n",
       " Row(created_at=datetime.datetime(2012, 10, 30, 12, 40, 12), text='@tasyaramaeta GMo ka wee T_T'),\n",
       " Row(created_at=datetime.datetime(2012, 10, 30, 23, 13, 59), text='Koen pisan \"@grey_agung: gagal move on --\" RT @dallypunklow Ga tau \"@grey_agung: tau artinya ga? RT @dallypunklow GMO \"@grey_agung: dasar G'),\n",
       " Row(created_at=datetime.datetime(2012, 11, 3, 7, 0, 51), text='GMO DO NOT BUY LIST http://t.co/Ev0mxugI http://t.co/CyBkN6E8'),\n",
       " Row(created_at=datetime.datetime(2012, 11, 5, 6, 0, 50), text='o..kirain,ni gmo lunch kmu de?RT @Ardians_AViCq: Noegroez Wahahhaha :D kemarin pulsa aku nya habis kak :p Lagi apa ?'),\n",
       " Row(created_at=datetime.datetime(2012, 11, 5, 13, 29, 33), text='JJ DOOM- Gmo'),\n",
       " Row(created_at=datetime.datetime(2012, 11, 5, 15, 7, 17), text='Entrada Livre com Inscrição Obrigatória até 19 de Novembro.\\n\\n2nd Forest Genomics Meeting:\\nTransgenic Forest... http://t.co/UedNnNDO'),\n",
       " Row(created_at=datetime.datetime(2012, 11, 6, 5, 20, 11), text='Game Huyết Chiến: Long Tinh Truyền Thuyết 2: Sự trở lại của GMO Long Tinh 2 đánh dấu một thời kỳ mới cho game nh... http://t.co/eUMO7tRm'),\n",
       " Row(created_at=datetime.datetime(2012, 11, 7, 5, 7, 11), text=\"Prop 37 requiring labels on GMO foods doesn't look like it's going to pass smh\"),\n",
       " Row(created_at=datetime.datetime(2012, 11, 7, 13, 21, 39), text='Glasači u Kaliforniji na referendumu odbili označavanje GMO proizvoda. Njima i tako više ne mogu naštetiti, dovoljno su mutirali...'),\n",
       " Row(created_at=datetime.datetime(2012, 11, 8, 1, 20, 14), text='No gmos'),\n",
       " Row(created_at=datetime.datetime(2012, 11, 9, 4, 44, 8), text='@RezaAzalea @NidAnalya @IchaaIccho @siti_rise15 @astriiaci @widyakrna @nitajulio_ gw jg ga GMO :p'),\n",
       " Row(created_at=datetime.datetime(2012, 11, 9, 5, 0, 56), text='no GMO'),\n",
       " Row(created_at=datetime.datetime(2012, 11, 9, 7, 22, 53), text='PRIJEDLOG 37: Zakon o označavanju GMO hrane – PROPAO ! http://t.co/UUm9eI7A'),\n",
       " Row(created_at=datetime.datetime(2012, 11, 10, 10, 33, 56), text='@kaleidochord @HardhatJelon gmo ym niarb struh'),\n",
       " Row(created_at=datetime.datetime(2012, 11, 12, 6, 20, 47), text='กล้วย GMO มีด่าง, ไส้คัสตาร์ด, อร่อย, ของฝาก @ สำนักหอสมุด มจธ. (KMUTT Library) http://t.co/MiYZetSf'),\n",
       " Row(created_at=datetime.datetime(2012, 11, 13, 11, 7, 48), text='@zelenisrbije organik čips i pivo zbog holesterola su ubili ili osakatili više ljudi nego GMO soja'),\n",
       " Row(created_at=datetime.datetime(2012, 11, 13, 14, 20, 14), text='Setiba tiba nya dia mnta jadi sarjana dan gmo skola lagi..ontel onteeell..-.-'),\n",
       " Row(created_at=datetime.datetime(2012, 11, 14, 0, 56, 46), text='@aprilhera Ini pagi2 br melek uda dikirimin capture yg gazeboooo,mau bikin aku GMO yah ga mempansss :D'),\n",
       " Row(created_at=datetime.datetime(2012, 11, 14, 8, 59, 19), text='@ZMGalindo go to gmo'),\n",
       " Row(created_at=datetime.datetime(2012, 11, 17, 7, 1, 47), text='GMOs anyone via Nutiva http://t.co/XMGqeUMn'),\n",
       " Row(created_at=datetime.datetime(2012, 11, 17, 13, 8, 47), text='GMO w Polsce - przegłosowano cichaczem 8 listopada - ewa.pióro: \"antyaging\" - Salon24 http://t.co/6YZ5ojqn'),\n",
       " Row(created_at=datetime.datetime(2012, 11, 17, 16, 8, 3), text='Gmo u a liar'),\n",
       " Row(created_at=datetime.datetime(2012, 11, 18, 15, 43, 23), text='\"Wah, jadi GMO itu apa sih?\" mau tau jawabannya?? http://t.co/o8pkivoh'),\n",
       " Row(created_at=datetime.datetime(2012, 11, 19, 1, 46, 55), text='non gmo http://t.co/WTsiDrKE'),\n",
       " Row(created_at=datetime.datetime(2012, 11, 21, 6, 17, 42), text='GMO RUNSYSTEM、ベトナムのドメイン“.vn”の公認レジストラの認定取得 http://t.co/MA78Ic4Z'),\n",
       " Row(created_at=datetime.datetime(2012, 11, 22, 11, 40, 10), text='Největší zdravotní pojišťovna v USA varuje před nebezpečím GMO - Dolezite.sk http://t.co/VaPR6R1b'),\n",
       " Row(created_at=datetime.datetime(2012, 11, 23, 4, 40, 1), text='Gucci Milk Oreo GMO'),\n",
       " Row(created_at=datetime.datetime(2012, 11, 23, 14, 26, 43), text='Peru promulgates GMO moratorium law http://t.co/rpFZjvd9'),\n",
       " Row(created_at=datetime.datetime(2012, 11, 23, 21, 15, 29), text='Google gmos before you die'),\n",
       " Row(created_at=datetime.datetime(2012, 11, 23, 23, 52, 54), text='Emg ya ap ?? Loe mah buka aib sel \"@RCshella: Selalu aja si nugi nebeng wkwkwk RT \"@IDnoegie: Numpang ah ,, morning vana :D. \"@RCshella: Gmo'),\n",
       " Row(created_at=datetime.datetime(2012, 11, 24, 16, 47, 53), text='Ako prase koristi GMO da li ce se pretvoriti u jagnje?'),\n",
       " Row(created_at=datetime.datetime(2012, 11, 25, 19, 44, 1), text='@m_arandjelovic to je jako tesko posto i ako ne pise da je nesto GMO ono sigurno jeste, ili je hrana za stoku GMO i ne kazu ili je neki deo'),\n",
       " Row(created_at=datetime.datetime(2012, 11, 26, 2, 50, 36), text='@JessAnDess omg me too! omg omg omg omg gmo omg omg omg oh...my...gosh. OMG'),\n",
       " Row(created_at=datetime.datetime(2012, 11, 28, 3, 34, 55), text='I 522 Label GMO petition  did you sign yet? http://t.co/yngUctKp'),\n",
       " Row(created_at=datetime.datetime(2012, 11, 28, 10, 22, 46), text='GMO ! Buat si rusuh ! Wkwk yang sabar yaaaa ({})'),\n",
       " Row(created_at=datetime.datetime(2012, 11, 28, 12, 5, 25), text='Przez GMO stracimy suwerenność http://t.co/brkfT8FN'),\n",
       " Row(created_at=datetime.datetime(2012, 11, 28, 13, 29, 17), text='GMO 전문가 김은진은, 이정희를 지지하면 어떤 꼬리표가 붙을지 알고 있지만 이정희 펀드에 가입했다고 한다. 옳은 정책을 말하는 이정희, 추진 과정까지 다 밝힌 이정희이지만 아무렇게나 밀쳐내는 사람들도 많다. 그들의 삶은 팍팍하지 않아서일까?'),\n",
       " Row(created_at=datetime.datetime(2012, 11, 28, 16, 55, 26), text='hodujemy z GMO https://t.co/y8Kuo2jC'),\n",
       " Row(created_at=datetime.datetime(2012, 11, 29, 23, 1, 29), text='HONOLULU BLOCKS GMO LABELING MOVEMENT NOV 27 2012 http://t.co/ry3VJKea'),\n",
       " Row(created_at=datetime.datetime(2012, 11, 30, 3, 28, 38), text='RT @GanaderiaMex: Organic farmers condemn US report, claim it favors GMO http://t.co/NYGiC7fz'),\n",
       " Row(created_at=datetime.datetime(2012, 12, 2, 5, 37, 58), text='“@_Livestrongg: “@myrtyyy: “@_Livestrongg: I ssim uoy.” gmo yllear” kcus em” tnod tpmet em ;)'),\n",
       " Row(created_at=datetime.datetime(2012, 12, 3, 3, 48, 35), text='Na koe neshto wikat GMO ? — da ti prili4am na re4nik :D http://t.co/BqzOdeVX'),\n",
       " Row(created_at=datetime.datetime(2012, 12, 3, 16, 32, 47), text='@GoldenLauren_ GMO I JUST FOUND IT..'),\n",
       " Row(created_at=datetime.datetime(2012, 12, 4, 17, 46, 48), text='GMO Dangers &amp; Home Farming - 11-15-2012\\nhttp://t.co/tvOHBlXw'),\n",
       " Row(created_at=datetime.datetime(2012, 12, 9, 7, 37, 4), text='@JacobFullerton1 gmo'),\n",
       " Row(created_at=datetime.datetime(2012, 12, 10, 15, 43, 36), text=\"(˘̩̩̩⌣˘̩̩̩)\\\\('́⌣'̀ ) RT @megasabella23: @novaliachow : emg serem tau kaya sakau gigit2 ._. gua gmo lg\"),\n",
       " Row(created_at=datetime.datetime(2012, 12, 11, 5, 37, 17), text='Gmos mixtape&gt; matt cs mixtape&gt;'),\n",
       " Row(created_at=datetime.datetime(2012, 12, 11, 20, 58), text='GMO Awareness. http://t.co/OG9BiWj2'),\n",
       " Row(created_at=datetime.datetime(2012, 12, 12, 3, 0, 22), text='Just say NO! to GMO Salmon - http://t.co/Er79wChB http://t.co/4fWs5kPc'),\n",
       " Row(created_at=datetime.datetime(2012, 12, 12, 9, 35, 12), text='Rada2 ngantuk, tp gmo ninggalin die :|'),\n",
       " Row(created_at=datetime.datetime(2012, 12, 13, 8, 40, 1), text=\"@sarirahmida tp w gmo klo pke banin.. y' serius.\"),\n",
       " Row(created_at=datetime.datetime(2012, 12, 13, 10, 31, 35), text='@vidosavaa GMO FOOD +++'),\n",
       " Row(created_at=datetime.datetime(2012, 12, 14, 11, 58), text='Priča se: Mišković se zamerio Koletu Monsantu jer neće da uzgaja GMO na svojim njivama. Posledice znate...'),\n",
       " Row(created_at=datetime.datetime(2012, 12, 20, 22, 17, 11), text='@namerna11 @mbmojsilovic Mislim da kapiram razmere pogubnosti GMO dovoljno da bih glasno gundjao. Nesto mi je promaklo u nasoj komunikaciji?'),\n",
       " Row(created_at=datetime.datetime(2012, 12, 22, 12, 11, 30), text='Vladan Jovanović o GMO #TEDxBelgrade'),\n",
       " Row(created_at=datetime.datetime(2012, 12, 23, 2, 59, 27), text='NON HYBRID NON GMO HEIRLOOM VEGETABLE GARDEN SEEDS SEED KIT SHIP FREE http://t.co/eZnshhxx'),\n",
       " Row(created_at=datetime.datetime(2012, 12, 24, 6, 50, 59), text='GMO ---&gt; GMC ----&gt; GMF'),\n",
       " Row(created_at=datetime.datetime(2012, 12, 24, 18, 41, 37), text='Makasih ya mbak GMO :p RT @yastyust: Selamat Natal @alexfebrian @MonicaAmeliana GBU ~~~(/´▽`)/'),\n",
       " Row(created_at=datetime.datetime(2012, 12, 26, 5, 29, 46), text='Udah juga:) lagi apa ka? \"@tiaranoviaa: haha udah koks. kamu udah makan siang? RT suciiii_: Iya gpp ko☺ udah sarapan ka? \"tiaranoviaa: Gmo'),\n",
       " Row(created_at=datetime.datetime(2012, 12, 26, 13, 20, 15), text='@jmw2407 gmo sma siapa lu?'),\n",
       " Row(created_at=datetime.datetime(2013, 1, 2, 1, 34, 46), text='GMO :)))))) http://t.co/hvYeOKwc'),\n",
       " Row(created_at=datetime.datetime(2013, 1, 4, 4, 30, 10), text='Aku? Engga dong\"@pptriis: Iya dong, km ya?RT @WardaAzzahra: Km mh engga put\"@pptriis: Hoam RT @WardaAzzahra: Segitu kamu gmo hen\"@hnheni:'),\n",
       " Row(created_at=datetime.datetime(2013, 1, 4, 10, 0, 46), text='@irenarakic ne koristi se u svim državama, najviše se koristi u SAD, a dok Francuska recimo traži od EU da se zabrani GMO skroz!'),\n",
       " Row(created_at=datetime.datetime(2013, 1, 4, 20, 3, 32), text='@112BL Skjønner ikke å bruke GMO som transgen GM, og nesten all GM som omtales (i dagligtale) som GM er vel transgen? @Rotevatn'),\n",
       " Row(created_at=datetime.datetime(2013, 1, 5, 9, 35, 35), text='@chiinkiegee gmO'),\n",
       " Row(created_at=datetime.datetime(2013, 1, 5, 13, 50, 35), text='@eryzcha rasah buka aib weee -__-\" aku ra gmo yo X_X'),\n",
       " Row(created_at=datetime.datetime(2013, 1, 6, 9, 22, 52), text='Vandana Shiva Compares GMOs to Rape http://t.co/X4AbPLLg'),\n",
       " Row(created_at=datetime.datetime(2013, 1, 6, 11, 16, 59), text='ngayon ko lang tatapusin GMO namin... hahaha k'),\n",
       " Row(created_at=datetime.datetime(2013, 1, 6, 15, 3, 41), text='@estyMinnie @Ableeehh @denotdeny GMO'),\n",
       " Row(created_at=datetime.datetime(2013, 1, 7, 13, 28, 2), text='\"MEKDONALDS\" U EVROPI NE KORISTI GMO\\nhttp://t.co/KswHkPU1\\nOdolevaju pritiscima Amerike.'),\n",
       " Row(created_at=datetime.datetime(2013, 1, 8, 8, 3, 36), text='@DPVdorothea GMO dari ww ke 1 -_-\" wkwk'),\n",
       " Row(created_at=datetime.datetime(2013, 1, 9, 8, 58, 4), text='Rekordna dobit \"Monsanta\" glavnog proizvođača GMO hrane http://t.co/49dmDYD7'),\n",
       " Row(created_at=datetime.datetime(2013, 1, 10, 15, 44, 16), text='India Signs Mandatory GMO Labeling into Law\\nhttp://t.co/HSg1Scip'),\n",
       " Row(created_at=datetime.datetime(2013, 1, 11, 6, 57, 42), text='@Mr_Rezki gmo cium bkas sikat wese'),\n",
       " Row(created_at=datetime.datetime(2013, 1, 12, 0, 32, 32), text='India Signs Mandatory GMO Labeling into Law http://t.co/d58ockE9'),\n",
       " Row(created_at=datetime.datetime(2013, 1, 13, 10, 44, 3), text='@_Ndev11 baru nyampe,, abis dari apotik aku tadi :)) semoga gak GMO yah... hahhaha'),\n",
       " Row(created_at=datetime.datetime(2013, 1, 14, 20, 19, 44), text='fa6 gmo'),\n",
       " Row(created_at=datetime.datetime(2013, 1, 15, 18, 1, 55), text='Label GMOs in Iowa?! http://t.co/U83qCAP6'),\n",
       " Row(created_at=datetime.datetime(2013, 1, 16, 6, 57, 42), text='A mozda na nas ovako nenormalne-taj GMO dâ baš neke iznenađujuće pozitivne rezultate.'),\n",
       " Row(created_at=datetime.datetime(2013, 1, 16, 15, 39, 34), text='@biebtiful gmo'),\n",
       " Row(created_at=datetime.datetime(2013, 1, 16, 22, 0, 7), text='Help make it happen for GMO FREE HAWAII movement on @indiegogo http://t.co/PCdUnThe'),\n",
       " Row(created_at=datetime.datetime(2013, 1, 17, 19, 55, 30), text='Hybrid Seeds vs. GMOs - Ask Our Experts Blog - MOTHER EARTH NEWS http://t.co/1JUc0wYE'),\n",
       " Row(created_at=datetime.datetime(2013, 1, 19, 2, 57, 55), text='Apa itu gmo kak? Nma mall ya wkwk RT\"@enni678: Kali aja km GMO jg kyk gw wkwkk RT @ayemiss1: Emmm jomblo ini kak mna ad tbc sgala wkwk'),\n",
       " Row(created_at=datetime.datetime(2013, 1, 19, 3, 32, 16), text='#IdleNoMore Hawaiʻi, Label GMO &amp; Pounding Kalo http://t.co/rIiY2wL4'),\n",
       " Row(created_at=datetime.datetime(2013, 1, 20, 14, 12, 25), text='Brjo qta , qta ttap mo GMO smpe lulus :p wkwk RT @Okkygan Ng tree beb :p \"@YuniSantika: Awass eeh GMO ulg , ta nmau kmg RT @Okkygan BMO beb'),\n",
       " Row(created_at=datetime.datetime(2013, 1, 24, 16, 55, 8), text=\"@EngdahlFW 's \\n파괴의 씨앗 GMO\\n- 미국 식량제국주의의 역사와 실체 윌리엄 엥달 (지은이) | 김홍옥 (옮긴이) \\nhttp://t.co/b1hjyPBw\"),\n",
       " Row(created_at=datetime.datetime(2013, 1, 25, 10, 34, 37), text='@HilmarMulder Fructose van GMO (monsanto)Corn? Beter doorspoelen in dat geval'),\n",
       " Row(created_at=datetime.datetime(2013, 1, 26, 1, 5, 49), text='@nitasyamsafitri ciyusannn iniiii........... apaan GMO wooooo'),\n",
       " Row(created_at=datetime.datetime(2013, 1, 27, 14, 17, 20), text='*cekrek, nyalahin lampu* terang :D RT: @fifiiiiiiy: Say good bye to GMO and say hello to move on. Ini titik terang haha *apaan deh gue*'),\n",
       " Row(created_at=datetime.datetime(2013, 1, 28, 1, 37, 24), text='@GOOD  \"NO TO MONSANTO\" ANTI GMO ANTHEM  http://t.co/kkIy5rg0'),\n",
       " Row(created_at=datetime.datetime(2013, 1, 28, 7, 33, 12), text='@BudjenjeRadio Da. Ali bi trebalo da se malo prestane sa paranojom u vezi sa GMO, posto apsolutno nije tacno da je GMO nema dobre strane.'),\n",
       " Row(created_at=datetime.datetime(2013, 1, 28, 17, 1, 42), text='EU GMO Freeze ~ http://t.co/WIMZGtcn ~ tx http://t.co/VWKFLuof, @SlowFoodUSA  #GMO #EU'),\n",
       " Row(created_at=datetime.datetime(2013, 1, 28, 17, 11, 21), text='Nikola Aleksić: Bambi u keks za decu stavlja GMO sastojke http://t.co/TJMh5dPD'),\n",
       " Row(created_at=datetime.datetime(2013, 1, 30, 4, 21, 16), text='@Kalifornia__ GMO'),\n",
       " Row(created_at=datetime.datetime(2013, 1, 30, 6, 51, 9), text=\"@TinyT_na as long as it wasn't a GMO made Monsanto\"),\n",
       " Row(created_at=datetime.datetime(2013, 1, 31, 20, 41, 56), text='B92 - Biz - Vesti - Čačak prvi zabranio GMO http://t.co/e8H1wVtF'),\n",
       " Row(created_at=datetime.datetime(2013, 1, 31, 23, 49, 30), text='@dilayeser offf hiç iyi halin yok öptüm kib aeo gmo ahahah :D'),\n",
       " Row(created_at=datetime.datetime(2013, 2, 1, 8, 26, 32), text='GMO A Go Go! http://t.co/D4B1KWzH'),\n",
       " Row(created_at=datetime.datetime(2013, 2, 1, 9, 0, 5), text='-&gt; Anti GMO Foods and Fluoride Water &lt;- http://t.co/mOpk4R8e'),\n",
       " Row(created_at=datetime.datetime(2013, 2, 2, 21, 20, 57), text='GMO OMG WTF! / ARE WE EATING? o_O'),\n",
       " Row(created_at=datetime.datetime(2013, 2, 3, 0, 46, 9), text='Iyaiya RT @fhiit_fhiit: Shoegi_R_Basae gmo nglyat yg kya kmren i2. sminggu gg nongol, hrus dblangn dulu baru nongol.'),\n",
       " Row(created_at=datetime.datetime(2013, 2, 3, 23, 0, 34), text='Say No To GMOs !'),\n",
       " Row(created_at=datetime.datetime(2013, 2, 4, 8, 32, 38), text='#poljoprivreda Zatvorena vrata za GMO http://t.co/W76yKCwN'),\n",
       " Row(created_at=datetime.datetime(2013, 2, 4, 13, 44, 5), text='Ik zet hem er nog eens op. Dit is je kans om te laten horen hoe je over biologische landbouw en GMO denkt.... http://t.co/MZVfBZYA'),\n",
       " Row(created_at=datetime.datetime(2013, 2, 5, 21, 19, 55), text='Konferencja na temat GMO na Uniwersytecie Przyrodniczym we Wrocławiu.\\nhttp://t.co/03l0PXU5 http://t.co/D6NOJfZE'),\n",
       " Row(created_at=datetime.datetime(2013, 2, 5, 21, 37, 13), text='Aterrado con el pésimo servicio de Opticas GMO son un asco !'),\n",
       " Row(created_at=datetime.datetime(2013, 2, 6, 13, 15, 52), text='Preziveli smo Inflaciju ratove bonbardovanje tranziciju ali GMO lobi nemozemo.Naj gore zlo stize na kraju'),\n",
       " Row(created_at=datetime.datetime(2013, 2, 7, 14, 21, 6), text='GMO? Apaan mb? (┎_⌣̩̩̀) gtw \"@ArdhelynaW: GMO yah? :D RT @NoviaAyueL: Emong :D \"@ArdhelynaW: Lupain aku ;)\"\"'),\n",
       " Row(created_at=datetime.datetime(2013, 2, 7, 18, 18, 33), text='Stop GMO salmon today: http://t.co/u6MUMqs1'),\n",
       " Row(created_at=datetime.datetime(2013, 2, 8, 13, 55, 24), text='Aku maeng GMO ndelok arek latian basket'),\n",
       " Row(created_at=datetime.datetime(2013, 2, 8, 23, 26, 37), text='@wolfjumper_ hguoht gmo'),\n",
       " Row(created_at=datetime.datetime(2013, 2, 10, 22, 11, 30), text='GoodieEnt Gmo http://t.co/NU7a21Ll'),\n",
       " Row(created_at=datetime.datetime(2013, 2, 11, 11, 12, 2), text='Någon som vet om GMO reda har fått några dåliga konsekvenser? Någon? Nehepp.'),\n",
       " Row(created_at=datetime.datetime(2013, 2, 12, 15, 50, 30), text='@_aimeToi some people stay gmo babies.'),\n",
       " Row(created_at=datetime.datetime(2013, 2, 13, 2, 29, 23), text='@AyooBigPoppaa I KNEW THERE WAS SOMETHING DIFFERENT ABOUT YOU !!!! YOU DIED YOUR HAIR ALL BLACK !!!! 😱😱😱😱😱😱 omg gmo ^.^'),\n",
       " Row(created_at=datetime.datetime(2013, 2, 13, 11, 52, 58), text='zes maand cel voor woordvoerdster van GMO protestactie waar een agentenpink en wat aardappelen sneuvelden? http://t.co/gRA8dA4L #zorgelijk'),\n",
       " Row(created_at=datetime.datetime(2013, 2, 13, 14, 44, 11), text='@shidanidae haha, x boleh nnty aku kena transgenic dgn big boss. Memandai buat meeting tergempar *nmpk sgt nak jwtan pengerusi..haha'),\n",
       " Row(created_at=datetime.datetime(2013, 2, 14, 5, 0, 13), text='@lexusss_3 gmo'),\n",
       " Row(created_at=datetime.datetime(2013, 2, 14, 6, 6, 8), text='@albertHOE wow gmo'),\n",
       " Row(created_at=datetime.datetime(2013, 2, 14, 17, 58, 34), text='GMO A Go Go! #GMOaGoGo http://t.co/50AzKTEq'),\n",
       " Row(created_at=datetime.datetime(2013, 2, 14, 22, 21, 30), text='@rajmax63 Ma boli me više briga i za taj GMO hoću samo  da jedem ono što mi  je lepo u ukusno..ali kako vidim moraću na dijetu doživotnu:D'),\n",
       " Row(created_at=datetime.datetime(2013, 2, 14, 22, 51, 45), text='GMO A Go Go http://t.co/hjYdVDge'),\n",
       " Row(created_at=datetime.datetime(2013, 2, 16, 17, 17, 27), text='@morgenfray @omgjuli0 GMO SO HD WHAT KIND'),\n",
       " Row(created_at=datetime.datetime(2013, 2, 17, 9, 33, 18), text='Do not use: gmo potatoes http://t.co/7TsH5nUW via @pinterest'),\n",
       " Row(created_at=datetime.datetime(2013, 2, 17, 19, 35, 31), text='=&gt; Anti GMO Foods and Fluoride Water &lt;= http://t.co/Gfc3M04Z'),\n",
       " Row(created_at=datetime.datetime(2013, 2, 18, 5, 35, 12), text='\"@BasedNigger: GMO SNAPPIN TONIGHT BRUH\"'),\n",
       " Row(created_at=datetime.datetime(2013, 2, 18, 12, 52, 22), text='malapit na ko matapos sa gmo &lt;3'),\n",
       " Row(created_at=datetime.datetime(2013, 2, 18, 22, 8, 28), text='Kucinich on GMOs http://t.co/ZgQQ6jOF'),\n",
       " Row(created_at=datetime.datetime(2013, 2, 19, 12, 42, 23), text='posle ove kampanje,cena mleka nece porasti,a trebalo je,ajd sad dosta vise,jasno mi je sta radite,upozoravajte narod na gmo koji uvozite.'),\n",
       " Row(created_at=datetime.datetime(2013, 2, 19, 16, 55, 8), text='@omgjuli0 GMO AHAHA'),\n",
       " Row(created_at=datetime.datetime(2013, 2, 19, 16, 57, 12), text='Kad krava jede GMO kukuruz onda daje otrovno mleko. To razumem. Kako je meso u redu? Da mi se objasni, molim! Hvala!'),\n",
       " Row(created_at=datetime.datetime(2013, 2, 20, 0, 59, 49), text='mainly gmo'),\n",
       " Row(created_at=datetime.datetime(2013, 2, 20, 15, 54, 53), text='Dasar cewek cewek gmo sehati semua wkwk:\")'),\n",
       " Row(created_at=datetime.datetime(2013, 2, 23, 6, 33, 1), text=\"Ganda!!! ;) KO ayy, hahaha joke :) youre so pretty like omg like gmo :') loveyou both :** =))))… http://t.co/tCdGJi7lht\"),\n",
       " Row(created_at=datetime.datetime(2013, 2, 24, 20, 4, 29), text=\"Kupio sam jutros glavicu GMO kupusa. Kako znam? Gledala me je prezrivo ''ispod oka'' dok sam je stavljao u korpu. #hrana #kupus\"),\n",
       " Row(created_at=datetime.datetime(2013, 2, 24, 21, 45, 41), text='GMO Aleksandar Šapić #Utisak'),\n",
       " Row(created_at=datetime.datetime(2013, 2, 25, 7, 49, 37), text='GMO loh:3 RT @Chaaan26: Moveon o mbakyuu;3 RT indahpnm: Lucu nemen -- RT Chaaan26: HHILR:D RT indahpnm:'),\n",
       " Row(created_at=datetime.datetime(2013, 2, 26, 13, 16, 5), text='“Phát cuồng” vì nữ game thủ trong gMO Tình Kiếm: \\nTình Kiếm\\xa0- Tựa game kiếm hiệp online dành riêng cho iPhone,... http://t.co/eYUoiTjS95'),\n",
       " Row(created_at=datetime.datetime(2013, 2, 28, 13, 31, 50), text='@NabilaaahAhmad gmo stahp 💔✋✋✋✋')]"
      ]
     },
     "execution_count": 12,
     "metadata": {},
     "output_type": "execute_result"
    }
   ],
   "source": [
    "# function to check tweets not in English\n",
    "def notEnglish(tweet):\n",
    "    \n",
    "        lang = detect(tweet) #detect method from langdetect\n",
    "        return lang != 'en'\n",
    "    \n",
    "nonEnglishTweets = tweetsRdd.filter(lambda row: notEnglish(row.text)).collect()\n",
    "nonEnglishTweets"
   ]
  },
  {
   "cell_type": "code",
   "execution_count": 13,
   "id": "705b4733",
   "metadata": {},
   "outputs": [
    {
     "data": {
      "text/plain": [
       "384"
      ]
     },
     "execution_count": 13,
     "metadata": {},
     "output_type": "execute_result"
    }
   ],
   "source": [
    "len(nonEnglishTweets)"
   ]
  },
  {
   "cell_type": "code",
   "execution_count": 14,
   "id": "c0931d08",
   "metadata": {},
   "outputs": [],
   "source": [
    "#updating rdd, filtering out not-in-English ones with function above\n",
    "tweetsRdd= tweetsRdd.filter(lambda row: not notEnglish(row.text))"
   ]
  },
  {
   "cell_type": "code",
   "execution_count": 15,
   "id": "0b20bfe4",
   "metadata": {},
   "outputs": [
    {
     "name": "stderr",
     "output_type": "stream",
     "text": [
      "                                                                                \r"
     ]
    },
    {
     "data": {
      "text/plain": [
       "3601"
      ]
     },
     "execution_count": 15,
     "metadata": {},
     "output_type": "execute_result"
    }
   ],
   "source": [
    "#confirming rdd shrank\n",
    "tweetsRdd.count()"
   ]
  },
  {
   "cell_type": "code",
   "execution_count": 16,
   "id": "9f250117",
   "metadata": {
    "scrolled": true
   },
   "outputs": [
    {
     "name": "stdout",
     "output_type": "stream",
     "text": [
      "Row(created_at=datetime.datetime(2012, 1, 2, 20, 9, 42), text='USDA has settled upon a superb solution: let the GMO industry conduct its own environmental impact tests. http://t.co/Ed5BbDRb') \n",
      "\n",
      " 2012-01-02 20:09:42 \n",
      " USDA has settled upon a superb solution: let the GMO industry conduct its own environmental impact tests. http://t.co/Ed5BbDRb\n"
     ]
    }
   ],
   "source": [
    "#first row of the RDD, then printing timestamp and text separate so that the timestamp is diplayed properly\n",
    "print(tweetsRdd.first(),'\\n\\n',tweetsRdd.first()[0],'\\n',tweetsRdd.first()[1])"
   ]
  },
  {
   "cell_type": "code",
   "execution_count": 17,
   "id": "b9d45a19",
   "metadata": {},
   "outputs": [
    {
     "name": "stderr",
     "output_type": "stream",
     "text": [
      "                                                                                \r"
     ]
    },
    {
     "data": {
      "text/plain": [
       "107.17208785098693"
      ]
     },
     "execution_count": 17,
     "metadata": {},
     "output_type": "execute_result"
    }
   ],
   "source": [
    "#counting number of characters in text field of each row. Values stored in a list\n",
    "charCounts= tweetsRdd.map(lambda row: len(row.text)).collect()\n",
    "sum(charCounts) / len(charCounts)"
   ]
  },
  {
   "cell_type": "code",
   "execution_count": 18,
   "id": "7ab35ff1",
   "metadata": {
    "scrolled": true
   },
   "outputs": [
    {
     "name": "stderr",
     "output_type": "stream",
     "text": [
      "                                                                                \r"
     ]
    }
   ],
   "source": [
    "#counting the number of words in each tweet by splitting text. List created\n",
    "wordCounts= tweetsRdd.map(lambda row: len(row.text.split())).collect()"
   ]
  },
  {
   "cell_type": "code",
   "execution_count": 19,
   "id": "4dac7202",
   "metadata": {},
   "outputs": [
    {
     "data": {
      "text/plain": [
       "55934"
      ]
     },
     "execution_count": 19,
     "metadata": {},
     "output_type": "execute_result"
    }
   ],
   "source": [
    "#number of words\n",
    "sum(wordCounts)"
   ]
  },
  {
   "cell_type": "code",
   "execution_count": 20,
   "id": "5c1683b7",
   "metadata": {},
   "outputs": [
    {
     "data": {
      "text/plain": [
       "15.532907525687309"
      ]
     },
     "execution_count": 20,
     "metadata": {},
     "output_type": "execute_result"
    }
   ],
   "source": [
    "#average number of words per tweet\n",
    "sum(wordCounts)/len(wordCounts)"
   ]
  },
  {
   "cell_type": "code",
   "execution_count": 21,
   "id": "c4b13852",
   "metadata": {},
   "outputs": [
    {
     "data": {
      "text/plain": [
       "4.9137620064340775"
      ]
     },
     "execution_count": 21,
     "metadata": {},
     "output_type": "execute_result"
    }
   ],
   "source": [
    "#standar deviation\n",
    "np.std(wordCounts)"
   ]
  },
  {
   "cell_type": "code",
   "execution_count": 22,
   "id": "c1e06d8e",
   "metadata": {},
   "outputs": [
    {
     "data": {
      "image/png": "[encoded data removed]",
      "text/plain": [
       "<Figure size 432x288 with 1 Axes>"
      ]
     },
     "metadata": {
      "needs_background": "light"
     },
     "output_type": "display_data"
    }
   ],
   "source": [
    "#plotting the histogram\n",
    "plt.hist(wordCounts, bins=15, edgecolor='white')\n",
    "plt.xlabel('Number of words')\n",
    "plt.ylabel('Frequency')\n",
    "plt.title('Fig. 1 - Word Count Histogram')\n",
    "plt.show()"
   ]
  },
  {
   "cell_type": "code",
   "execution_count": 23,
   "id": "811cfff3",
   "metadata": {},
   "outputs": [
    {
     "name": "stderr",
     "output_type": "stream",
     "text": [
      "                                                                                \r"
     ]
    },
    {
     "data": {
      "text/plain": [
       "0.09397857538852228"
      ]
     },
     "execution_count": 23,
     "metadata": {},
     "output_type": "execute_result"
    }
   ],
   "source": [
    "#Checking % of upper case words\n",
    "allWords= tweetsRdd.flatMap(lambda row: row.text.split())\n",
    "uppercaseWords= allWords.filter(lambda word: word.isupper())\n",
    "\n",
    "#proportion\n",
    "uppercaseWords.count() / allWords.count()"
   ]
  },
  {
   "cell_type": "markdown",
   "id": "720c9a4f",
   "metadata": {},
   "source": [
    "### checking most common words"
   ]
  },
  {
   "cell_type": "code",
   "execution_count": 24,
   "id": "c146ea09",
   "metadata": {},
   "outputs": [],
   "source": [
    "#extracting all words from the tweets, splitting text with a single space\n",
    "words= tweetsRdd.flatMap(lambda tweet: tweet[1].split(\" \")) # flatMap flattens the RDD after applying the function\n",
    "\n",
    "#Filtering words with >3 characters\n",
    "filteredWords= words.filter(lambda word: len(word) > 4)\n",
    "\n",
    "\n",
    "\n",
    "#counting totals per word, case insensitive\n",
    "wordCounts = filteredWords.map(lambda word: (word.lower(), 1)).reduceByKey(lambda a, b: a + b) # reduceByKey merges the values for each key using an associative and commutative reduce function"
   ]
  },
  {
   "cell_type": "code",
   "execution_count": 25,
   "id": "a7ea6d40",
   "metadata": {
    "scrolled": false
   },
   "outputs": [
    {
     "name": "stderr",
     "output_type": "stream",
     "text": [
      "\r",
      "[Stage 25:>                                                         (0 + 1) / 1]\r"
     ]
    },
    {
     "name": "stdout",
     "output_type": "stream",
     "text": [
      "labeling  -  440\n",
      "monsanto  -  287\n",
      "foods  -  266\n",
      "label  -  209\n",
      "about  -  205\n",
      "&amp;  -  168\n",
      "organic  -  139\n",
      "crops  -  126\n",
      "california  -  115\n",
      "campaign  -  106\n",
      "health  -  102\n",
      "monsanto's  -  99\n",
      "transgenic  -  98\n",
      "@healthranger  -  96\n",
      "against  -  86\n",
      "reject  -  85\n",
      "please  -  84\n",
      "study  -  79\n",
      "support  -  78\n",
      "seeds  -  77\n",
      "don't  -  75\n",
      "@credomobile  -  75\n",
      "right  -  70\n",
      "@youtube  -  70\n",
      "safety  -  68\n",
      "modified  -  68\n",
      "genetically  -  66\n",
      "their  -  63\n",
      "@signon  -  63\n",
      "consumer  -  62\n"
     ]
    },
    {
     "name": "stderr",
     "output_type": "stream",
     "text": [
      "\r",
      "                                                                                \r"
     ]
    }
   ],
   "source": [
    "# sorting in descending order\n",
    "sortedWordCounts= wordCounts.sortBy(lambda x: x[1], ascending=False)\n",
    "\n",
    "# Taking the top 30 words with the highest counts\n",
    "topWords= sortedWordCounts.take(30)\n",
    "\n",
    "# Printing the top words\n",
    "for word, count in topWords:\n",
    "    print(word,' - ',count)"
   ]
  },
  {
   "cell_type": "code",
   "execution_count": 26,
   "id": "b43abb3b",
   "metadata": {},
   "outputs": [
    {
     "data": {
      "text/plain": [
       "['labeling', 'monsanto', 'foods', 'label', 'about', '&amp;']"
      ]
     },
     "execution_count": 26,
     "metadata": {},
     "output_type": "execute_result"
    }
   ],
   "source": [
    "# Selecting the first 6 most common words\n",
    "wordsToRemove=[i[0] for i in topWords][0:6]\n",
    "wordsToRemove"
   ]
  },
  {
   "cell_type": "code",
   "execution_count": 27,
   "id": "22f8f5b4",
   "metadata": {
    "scrolled": false
   },
   "outputs": [
    {
     "name": "stdout",
     "output_type": "stream",
     "text": [
      "settled  -  1\n",
      "superb  -  1\n",
      "solution:  -  1\n",
      "conduct  -  1\n",
      "tests.  -  1\n",
      "insane.  -  1\n",
      "florida??  -  1\n",
      "implies  -  1\n",
      "over?\"  -  1\n",
      "pacific,...  -  1\n",
      "t1c-19  -  1\n",
      "sprague–dawley  -  1\n",
      "metabonomics  -  1\n",
      "insulin-dependant  -  1\n",
      "diabetics  -  1\n",
      "crops\n",
      "  -  1\n",
      "#wikileaks  -  1\n",
      "natural’  -  1\n",
      "@harjxo  -  1\n",
      "excoexcoexco!  -  1\n"
     ]
    }
   ],
   "source": [
    "#checking rare words, excluding URLs as there are many and they will be removed anyway\n",
    "rareWords= sortedWordCounts.top(20, key=lambda x: -x[1] if not x[0].startswith(\"http://\") else float(\"-inf\"))\n",
    "\n",
    "# Printing the top words\n",
    "for word, count in rareWords:\n",
    "    print(word,' - ',count)"
   ]
  },
  {
   "cell_type": "code",
   "execution_count": null,
   "id": "7355b083",
   "metadata": {},
   "outputs": [],
   "source": []
  },
  {
   "cell_type": "code",
   "execution_count": null,
   "id": "e8e7bdbf",
   "metadata": {},
   "outputs": [],
   "source": []
  },
  {
   "cell_type": "code",
   "execution_count": 28,
   "id": "c9c84d44",
   "metadata": {},
   "outputs": [
    {
     "name": "stderr",
     "output_type": "stream",
     "text": [
      "                                                                                \r"
     ]
    },
    {
     "data": {
      "text/plain": [
       "6065"
      ]
     },
     "execution_count": 28,
     "metadata": {},
     "output_type": "execute_result"
    }
   ],
   "source": [
    "#Checking the number of numerics. flatMap applys a function to all elements and creates a new rdd\n",
    "tweetsRdd.flatMap(lambda row: list(filter(lambda char: char.isdigit(), row.text))).count() # filterring out numeric characters"
   ]
  },
  {
   "cell_type": "code",
   "execution_count": 29,
   "id": "f1753bf4",
   "metadata": {},
   "outputs": [
    {
     "name": "stderr",
     "output_type": "stream",
     "text": [
      "                                                                                \r"
     ]
    },
    {
     "data": {
      "text/plain": [
       "0.09446341419811574"
      ]
     },
     "execution_count": 29,
     "metadata": {},
     "output_type": "execute_result"
    }
   ],
   "source": [
    "#Proportion of upper case words\n",
    "totalWords= tweetsRdd.flatMap(lambda row: row.text.split()) #splitting words from all tweets\n",
    "uppercaseWords= totalWords.filter(lambda word: word.isupper()) #filterring upper case only\n",
    "uppercaseWords.count() / totalWords.count()"
   ]
  },
  {
   "cell_type": "markdown",
   "id": "13f6a775",
   "metadata": {},
   "source": [
    "#### Number of stopwords"
   ]
  },
  {
   "cell_type": "code",
   "execution_count": 30,
   "id": "dc1e3e94",
   "metadata": {},
   "outputs": [],
   "source": [
    "import nltk\n",
    "from nltk.corpus import stopwords\n",
    "#nltk.download('stopwords')"
   ]
  },
  {
   "cell_type": "code",
   "execution_count": 31,
   "id": "a3980712",
   "metadata": {},
   "outputs": [
    {
     "name": "stderr",
     "output_type": "stream",
     "text": [
      "                                                                                \r"
     ]
    },
    {
     "data": {
      "text/plain": [
       "14230"
      ]
     },
     "execution_count": 31,
     "metadata": {},
     "output_type": "execute_result"
    }
   ],
   "source": [
    "#getting stopwords for English language\n",
    "stopwordsBag= set(stopwords.words('english'))\n",
    "\n",
    "#splitting text field to single words, filterring stopwords only and counting them\n",
    "tweetsRdd.flatMap(lambda row: row.text.lower().split()).filter(lambda word: word in stopwordsBag).count()"
   ]
  },
  {
   "cell_type": "code",
   "execution_count": 32,
   "id": "989f6079",
   "metadata": {},
   "outputs": [
    {
     "name": "stderr",
     "output_type": "stream",
     "text": [
      "                                                                                \r"
     ]
    },
    {
     "data": {
      "text/plain": [
       "82354"
      ]
     },
     "execution_count": 32,
     "metadata": {},
     "output_type": "execute_result"
    }
   ],
   "source": [
    "#number of special characters\n",
    "#filterring out non-alphanumeric characters. isalnum() returns True if all characters in the string are alphanumeric. Creating a new list convert them into a list.\n",
    "tweetsRdd.flatMap(lambda row: list(filter(lambda char: not char.isalnum(), row.text))).count()"
   ]
  },
  {
   "cell_type": "markdown",
   "id": "cfa4d52e",
   "metadata": {},
   "source": [
    "### checking hashtags"
   ]
  },
  {
   "cell_type": "code",
   "execution_count": 33,
   "id": "60dac932",
   "metadata": {},
   "outputs": [],
   "source": [
    "#extracting hashtags from the tweets, splitting text with single space, considering words which start with #\n",
    "hashtagsRdd = tweetsRdd.flatMap(lambda tweet: tweet[1].split(\" \")).filter(lambda word: word.startswith(\"#\"))\n",
    "\n",
    "# counting totals per hashtag, case insensitive with .lower()\n",
    "hashtagsTotal= hashtagsRdd.map(lambda hashtag: (hashtag.lower(), 1)).reduceByKey(lambda a, b: a + b)"
   ]
  },
  {
   "cell_type": "code",
   "execution_count": null,
   "id": "9d6e577e",
   "metadata": {},
   "outputs": [],
   "source": []
  },
  {
   "cell_type": "code",
   "execution_count": 34,
   "id": "f7c4b7b2",
   "metadata": {},
   "outputs": [
    {
     "name": "stderr",
     "output_type": "stream",
     "text": [
      "                                                                                \r"
     ]
    }
   ],
   "source": [
    "#top 20 hashtags\n",
    "topHashtags= hashtagsTotal.takeOrdered(20, key=lambda x: -x[1])"
   ]
  },
  {
   "cell_type": "code",
   "execution_count": 35,
   "id": "0d5af8e3",
   "metadata": {},
   "outputs": [
    {
     "data": {
      "image/png": "[encoded data removed]",
      "text/plain": [
       "<Figure size 432x288 with 1 Axes>"
      ]
     },
     "metadata": {
      "needs_background": "light"
     },
     "output_type": "display_data"
    }
   ],
   "source": [
    "# extracting values to plot\n",
    "hashtags= [hashtag for (hashtag, count) in topHashtags]\n",
    "counts= [count for (hashtag, count) in topHashtags]\n",
    "\n",
    "# Plot the top hashtags\n",
    "plt.barh(hashtags, counts)\n",
    "plt.xlabel('Count')\n",
    "plt.ylabel('Hashtag')\n",
    "plt.title('Fig. 2 - Top 20 Hashtags')\n",
    "#plt.figure(figsize=(20, 20))#setting size of plot\n",
    "plt.gca().invert_yaxis()\n",
    "plt.show()"
   ]
  },
  {
   "cell_type": "markdown",
   "id": "6975b1a6",
   "metadata": {},
   "source": [
    "#### checking double spaces"
   ]
  },
  {
   "cell_type": "code",
   "execution_count": 36,
   "id": "c1d41d1a",
   "metadata": {},
   "outputs": [
    {
     "name": "stderr",
     "output_type": "stream",
     "text": [
      "                                                                                \r"
     ]
    },
    {
     "data": {
      "text/plain": [
       "316"
      ]
     },
     "execution_count": 36,
     "metadata": {},
     "output_type": "execute_result"
    }
   ],
   "source": [
    "#fileterring tweets with two consecutive white spaces, row per row, and adding up the counts\n",
    "tweetsRdd.filter(lambda row: \"  \" in row[1]).count()"
   ]
  },
  {
   "cell_type": "code",
   "execution_count": 37,
   "id": "9cd03cd0",
   "metadata": {},
   "outputs": [
    {
     "name": "stderr",
     "output_type": "stream",
     "text": [
      "                                                                                \r"
     ]
    },
    {
     "data": {
      "text/plain": [
       "20"
      ]
     },
     "execution_count": 37,
     "metadata": {},
     "output_type": "execute_result"
    }
   ],
   "source": [
    "#triple spaces\n",
    "tweetsRdd.filter(lambda row: \"   \" in row[1]).count()"
   ]
  },
  {
   "cell_type": "code",
   "execution_count": 38,
   "id": "66183697",
   "metadata": {},
   "outputs": [
    {
     "name": "stderr",
     "output_type": "stream",
     "text": [
      "                                                                                \r"
     ]
    },
    {
     "data": {
      "text/plain": [
       "5"
      ]
     },
     "execution_count": 38,
     "metadata": {},
     "output_type": "execute_result"
    }
   ],
   "source": [
    "# 4 spaces\n",
    "tweetsRdd.filter(lambda row: \"    \" in row[1]).count()"
   ]
  },
  {
   "cell_type": "code",
   "execution_count": 39,
   "id": "562f7391",
   "metadata": {},
   "outputs": [
    {
     "name": "stderr",
     "output_type": "stream",
     "text": [
      "                                                                                \r"
     ]
    },
    {
     "data": {
      "text/plain": [
       "1"
      ]
     },
     "execution_count": 39,
     "metadata": {},
     "output_type": "execute_result"
    }
   ],
   "source": [
    "#9 spaces\n",
    "tweetsRdd.filter(lambda row: \"         \" in row[1]).count()"
   ]
  },
  {
   "cell_type": "markdown",
   "id": "a546a427",
   "metadata": {},
   "source": [
    "Removing extra white spaces"
   ]
  },
  {
   "cell_type": "code",
   "execution_count": 40,
   "id": "adf2117b",
   "metadata": {},
   "outputs": [],
   "source": [
    "from pyspark.sql import Row"
   ]
  },
  {
   "cell_type": "code",
   "execution_count": 41,
   "id": "aed475f8",
   "metadata": {},
   "outputs": [],
   "source": [
    "#function to replace consecutive white spaces with a single space\n",
    "def singleWspace(row):\n",
    "    return Row(created_at=row.created_at, text=' '.join(row.text.split()))"
   ]
  },
  {
   "cell_type": "code",
   "execution_count": 42,
   "id": "c635cce0",
   "metadata": {},
   "outputs": [],
   "source": [
    "# mapping function\n",
    "tweetsRdd= tweetsRdd.map(singleWspace)"
   ]
  },
  {
   "cell_type": "code",
   "execution_count": 43,
   "id": "1e330e5c",
   "metadata": {},
   "outputs": [
    {
     "name": "stderr",
     "output_type": "stream",
     "text": [
      "                                                                                \r"
     ]
    },
    {
     "data": {
      "text/plain": [
       "0"
      ]
     },
     "execution_count": 43,
     "metadata": {},
     "output_type": "execute_result"
    }
   ],
   "source": [
    "#confirmation\n",
    "tweetsRdd.filter(lambda row: \"  \" in row[1]).count()"
   ]
  },
  {
   "cell_type": "code",
   "execution_count": 44,
   "id": "35cf0973",
   "metadata": {},
   "outputs": [
    {
     "name": "stderr",
     "output_type": "stream",
     "text": [
      "                                                                                \r"
     ]
    },
    {
     "data": {
      "text/plain": [
       "0"
      ]
     },
     "execution_count": 44,
     "metadata": {},
     "output_type": "execute_result"
    }
   ],
   "source": [
    "tweetsRdd.filter(lambda row: \"   \" in row[1]).count()"
   ]
  },
  {
   "cell_type": "code",
   "execution_count": 45,
   "id": "c7da3f98",
   "metadata": {},
   "outputs": [
    {
     "data": {
      "text/plain": [
       "Row(created_at=datetime.datetime(2012, 1, 2, 20, 9, 42), text='USDA has settled upon a superb solution: let the GMO industry conduct its own environmental impact tests. http://t.co/Ed5BbDRb')"
      ]
     },
     "execution_count": 45,
     "metadata": {},
     "output_type": "execute_result"
    }
   ],
   "source": [
    "tweetsRdd.first()"
   ]
  },
  {
   "cell_type": "markdown",
   "id": "6b599698",
   "metadata": {},
   "source": [
    "#### Duplicates\n",
    "\n",
    "Switching to spark data frames"
   ]
  },
  {
   "cell_type": "code",
   "execution_count": 46,
   "id": "831c7b3c",
   "metadata": {},
   "outputs": [],
   "source": [
    "#Updating data frame from rdd after removing non-English tweets\n",
    "tweetsDf = tweetsRdd.toDF([\"created_at\", \"text\"])"
   ]
  },
  {
   "cell_type": "code",
   "execution_count": 47,
   "id": "5987e3d9",
   "metadata": {},
   "outputs": [
    {
     "name": "stderr",
     "output_type": "stream",
     "text": [
      "\r",
      "[Stage 60:>                                                         (0 + 1) / 1]\r"
     ]
    },
    {
     "name": "stdout",
     "output_type": "stream",
     "text": [
      "+-------------------+--------------------+\n",
      "|         created_at|                text|\n",
      "+-------------------+--------------------+\n",
      "|2012-01-02 20:09:42|USDA has settled ...|\n",
      "+-------------------+--------------------+\n",
      "only showing top 1 row\n",
      "\n"
     ]
    },
    {
     "name": "stderr",
     "output_type": "stream",
     "text": [
      "\r",
      "                                                                                \r"
     ]
    }
   ],
   "source": [
    "tweetsDf.show(n=1)"
   ]
  },
  {
   "cell_type": "code",
   "execution_count": 48,
   "id": "81355822",
   "metadata": {},
   "outputs": [
    {
     "name": "stdout",
     "output_type": "stream",
     "text": [
      "root\n",
      " |-- created_at: timestamp (nullable = true)\n",
      " |-- text: string (nullable = true)\n",
      "\n"
     ]
    }
   ],
   "source": [
    "tweetsDf.printSchema()"
   ]
  },
  {
   "cell_type": "code",
   "execution_count": 49,
   "id": "01ce1774",
   "metadata": {},
   "outputs": [
    {
     "name": "stderr",
     "output_type": "stream",
     "text": [
      "                                                                                \r"
     ]
    },
    {
     "data": {
      "text/plain": [
       "3594"
      ]
     },
     "execution_count": 49,
     "metadata": {},
     "output_type": "execute_result"
    }
   ],
   "source": [
    "tweetsDf.count()"
   ]
  },
  {
   "cell_type": "code",
   "execution_count": 50,
   "id": "aaeeed31",
   "metadata": {
    "scrolled": true
   },
   "outputs": [
    {
     "name": "stderr",
     "output_type": "stream",
     "text": [
      "\r",
      "[Stage 67:>                                                         (0 + 1) / 1]\r"
     ]
    },
    {
     "name": "stdout",
     "output_type": "stream",
     "text": [
      "+--------------------+-----+\n",
      "|                text|count|\n",
      "+--------------------+-----+\n",
      "|People power caus...|    2|\n",
      "|We are helping cu...|    2|\n",
      "|Healthy Budget: G...|    5|\n",
      "|At Disney World's...|    2|\n",
      "|#USDA to Give #Mo...|    2|\n",
      "|Pesticide Use Ram...|    2|\n",
      "|good going Boulde...|    2|\n",
      "|STOP MONSANTO FRO...|    2|\n",
      "|#Hungary Destroys...|    2|\n",
      "|Just played: GMO ...|    3|\n",
      "|Mommy, what does ...|    2|\n",
      "|Tell .@BarackObam...|    2|\n",
      "|GMO updates,Femal...|    2|\n",
      "|Healthy Budget: G...|    4|\n",
      "+--------------------+-----+\n",
      "\n"
     ]
    },
    {
     "name": "stderr",
     "output_type": "stream",
     "text": [
      "\r",
      "                                                                                \r"
     ]
    }
   ],
   "source": [
    "#grouping by text and counting them\n",
    "duplicates= tweetsDf.groupBy('text').count()\n",
    "\n",
    "# filtering the rows with count >= 2 \n",
    "duplicates= duplicates.filter(duplicates['count'] > 1)\n",
    "\n",
    "duplicates.show()"
   ]
  },
  {
   "cell_type": "code",
   "execution_count": 51,
   "id": "7be71f63",
   "metadata": {
    "scrolled": true
   },
   "outputs": [
    {
     "name": "stderr",
     "output_type": "stream",
     "text": [
      "\r",
      "[Stage 72:>                                                         (0 + 1) / 1]\r"
     ]
    },
    {
     "name": "stdout",
     "output_type": "stream",
     "text": [
      "+--------------------------------------------------------------------------------------------------------------------------------------------+\n",
      "|text                                                                                                                                        |\n",
      "+--------------------------------------------------------------------------------------------------------------------------------------------+\n",
      "|People power causes GMO firm to move from Europe to the US. http://t.co/TSaxGffw #GMOs #geneticallymodified #health                         |\n",
      "|We are helping customers and team members get informed about GMOs via our in-store info centers. Visit one in our stores today.             |\n",
      "|Healthy Budget: Growing with Non GMO Seed for Home Garden http://t.co/eJXmLWMt #Organic                                                     |\n",
      "|At Disney World's exhibit, teaching children about GMO agriculture is a \"fun activity\" http://t.co/EOKSqbGh @TrueFoodAust @TransitionSyd    |\n",
      "|#USDA to Give #Monsanto’s New GMO Crops Special ‘Speed Approval’: If you thought Monsanto’s lack of testing on their... http://t.co/OzPr4jmL|\n",
      "|Pesticide Use Ramps Up As GMO Crop Tech Starts Backfiring .http://t.co/QTMTq5tD                                                             |\n",
      "|good going Boulder! “@farminthehood: Boulder, Colorado Bans Growing of GMO Crops http://t.co/oalyk8kT”                                      |\n",
      "|STOP MONSANTO FROM POISONING HAWAI'I: ~HAWAII GMO JUSTICE COALITION PRESENTS: http://t.co/BcZXU6oC Kamehameha Schools Evict...              |\n",
      "|#Hungary Destroys All #Monsanto GMO Corn Fields | True Activist http://t.co/9ClvFcjz Good!                                                  |\n",
      "|Just played: GMO Feat Beth Gibbons - JJ DOOM - KEY TO THE KUFFS - CLEAN(unknown)                                                            |\n",
      "|Mommy, what does GMO mean? Coming soon, Happy's Greenhouse! Trailer at: http://t.co/P7EEhQO6                                                |\n",
      "|Tell .@BarackObama and the FDA to ban GMO salmon http//bit.ly/noGMOsalmon @food_democracy Please RT #stopFrankenfish                        |\n",
      "|GMO updates,Female Endocrine/Hormone Seminar, +NEW CNHP class - Greetings ! We are getting closer to the... http://t.co/gsKw2J8G            |\n",
      "|Healthy Budget: Growing with Non GMO Seed for Home Garden http://t.co/eJXrjwVD                                                              |\n",
      "+--------------------------------------------------------------------------------------------------------------------------------------------+\n",
      "\n"
     ]
    },
    {
     "name": "stderr",
     "output_type": "stream",
     "text": [
      "\r",
      "                                                                                \r"
     ]
    }
   ],
   "source": [
    "#viewing duplicates fully\n",
    "duplicates.select('text').show(truncate=False)"
   ]
  },
  {
   "cell_type": "code",
   "execution_count": 52,
   "id": "1366bfc5",
   "metadata": {},
   "outputs": [],
   "source": [
    "# #dropping duplicates, keeping the oldest only\n",
    "# tweetsDf= tweetsDf.dropDuplicates(subset=['text'])"
   ]
  },
  {
   "cell_type": "code",
   "execution_count": 53,
   "id": "1c708c37",
   "metadata": {
    "scrolled": true
   },
   "outputs": [
    {
     "name": "stderr",
     "output_type": "stream",
     "text": [
      "[Stage 82:>                                                         (0 + 1) / 1]\r"
     ]
    },
    {
     "name": "stdout",
     "output_type": "stream",
     "text": [
      " Between\n",
      " 2012-01-02 \n",
      " and\n",
      " 2013-03-01 \n",
      "\n"
     ]
    },
    {
     "name": "stderr",
     "output_type": "stream",
     "text": [
      "\r",
      "                                                                                \r"
     ]
    }
   ],
   "source": [
    "# oldest and latest dates in df\n",
    "oldestDate= tweetsDf.select(min('created_at')).first()[0].date()\n",
    "latestDate= tweetsDf.select(max('created_at')).first()[0].date()\n",
    "\n",
    "print(' Between\\n',oldestDate,'\\n and\\n',latestDate,'\\n')"
   ]
  },
  {
   "cell_type": "code",
   "execution_count": 54,
   "id": "10068c42",
   "metadata": {},
   "outputs": [
    {
     "name": "stderr",
     "output_type": "stream",
     "text": [
      "\r",
      "[Stage 87:>                                                         (0 + 1) / 1]\r"
     ]
    },
    {
     "name": "stdout",
     "output_type": "stream",
     "text": [
      "+-------------------+-----+\n",
      "|         created_at|count|\n",
      "+-------------------+-----+\n",
      "|2012-11-15 04:15:07|    3|\n",
      "|2012-05-14 23:18:35|    2|\n",
      "|2012-01-09 15:11:39|    2|\n",
      "|2012-11-05 07:56:09|    2|\n",
      "|2012-05-12 14:49:03|    2|\n",
      "|2012-09-25 03:20:02|    2|\n",
      "|2012-02-17 01:11:07|    2|\n",
      "|2012-02-19 15:47:42|    2|\n",
      "|2012-10-11 07:00:16|    2|\n",
      "|2013-01-30 00:36:15|    2|\n",
      "|2012-03-02 02:43:23|    2|\n",
      "|2012-01-21 00:31:13|    1|\n",
      "|2012-09-19 18:04:04|    1|\n",
      "|2012-02-09 16:52:34|    1|\n",
      "|2012-10-04 16:30:34|    1|\n",
      "|2012-11-10 15:17:56|    1|\n",
      "|2012-06-02 05:22:09|    1|\n",
      "|2012-10-07 18:37:40|    1|\n",
      "|2012-11-26 18:55:10|    1|\n",
      "|2012-07-06 13:15:52|    1|\n",
      "+-------------------+-----+\n",
      "only showing top 20 rows\n",
      "\n"
     ]
    },
    {
     "name": "stderr",
     "output_type": "stream",
     "text": [
      "\r",
      "                                                                                \r"
     ]
    }
   ],
   "source": [
    "#timestamps with greatest count of tweets. Extracting timestamps with module 'functions' and aggregating counts, which are shown in a new column, descendent ordered  \n",
    "tweetsDf.groupBy('created_at').agg(F.count('*').alias('count')).orderBy(F.desc('count')).show()"
   ]
  },
  {
   "cell_type": "code",
   "execution_count": 55,
   "id": "917efbd6",
   "metadata": {
    "scrolled": true
   },
   "outputs": [
    {
     "name": "stderr",
     "output_type": "stream",
     "text": [
      "\r",
      "[Stage 92:>                                                         (0 + 1) / 1]\r"
     ]
    },
    {
     "name": "stdout",
     "output_type": "stream",
     "text": [
      "+----------+----+------+-----+\n",
      "|      date|hour|minute|count|\n",
      "+----------+----+------+-----+\n",
      "|2012-11-07|  14|    11|    7|\n",
      "|2012-11-06|  19|    11|    6|\n",
      "|2012-11-06|  16|    11|    6|\n",
      "|2012-08-23|  19|    08|    6|\n",
      "|2013-02-16|  16|    02|    6|\n",
      "|2012-09-15|  22|    09|    6|\n",
      "|2012-09-13|  03|    09|    6|\n",
      "|2012-10-03|  19|    10|    5|\n",
      "|2012-09-23|  17|    09|    5|\n",
      "|2012-09-28|  15|    09|    5|\n",
      "|2012-09-29|  17|    09|    5|\n",
      "|2012-04-03|  04|    04|    5|\n",
      "|2012-09-28|  17|    09|    5|\n",
      "|2013-01-08|  17|    01|    4|\n",
      "|2012-12-03|  19|    12|    4|\n",
      "|2012-11-08|  16|    11|    4|\n",
      "|2012-09-21|  11|    09|    4|\n",
      "|2012-11-07|  17|    11|    4|\n",
      "|2012-10-06|  15|    10|    4|\n",
      "|2012-02-16|  22|    02|    4|\n",
      "+----------+----+------+-----+\n",
      "only showing top 20 rows\n",
      "\n"
     ]
    },
    {
     "name": "stderr",
     "output_type": "stream",
     "text": [
      "\r",
      "                                                                                \r"
     ]
    }
   ],
   "source": [
    "#same as above but excluding seconds, using date_format and extracting date, hours and minutes only\n",
    "tweetsDf.groupBy(\n",
    "    F.date_format('created_at', 'yyyy-MM-dd').alias('date'),\n",
    "    F.date_format('created_at', 'HH').alias('hour'),\n",
    "    F.date_format('created_at', 'MM').alias('minute')\n",
    ").agg(F.count('*').alias('count')).orderBy(F.desc('count')).show() #aggregating counts of timestamps (tweets) producing a new column"
   ]
  },
  {
   "cell_type": "code",
   "execution_count": 56,
   "id": "20d8ac47",
   "metadata": {
    "scrolled": true
   },
   "outputs": [
    {
     "name": "stderr",
     "output_type": "stream",
     "text": [
      "\r",
      "[Stage 97:>                                                         (0 + 1) / 1]\r"
     ]
    },
    {
     "name": "stdout",
     "output_type": "stream",
     "text": [
      "+----------+----+-----+\n",
      "|      date|hour|count|\n",
      "+----------+----+-----+\n",
      "|2012-11-07|  14|    7|\n",
      "|2012-09-13|  03|    6|\n",
      "|2012-08-23|  19|    6|\n",
      "|2012-11-06|  19|    6|\n",
      "|2012-11-06|  16|    6|\n",
      "|2012-09-15|  22|    6|\n",
      "|2013-02-16|  16|    6|\n",
      "|2012-10-03|  19|    5|\n",
      "|2012-09-28|  17|    5|\n",
      "|2012-04-03|  04|    5|\n",
      "|2012-09-28|  15|    5|\n",
      "|2012-09-29|  17|    5|\n",
      "|2012-09-23|  17|    5|\n",
      "|2012-02-16|  22|    4|\n",
      "|2012-04-05|  22|    4|\n",
      "|2012-11-07|  05|    4|\n",
      "|2013-02-28|  01|    4|\n",
      "|2012-09-29|  01|    4|\n",
      "|2012-11-05|  17|    4|\n",
      "|2012-10-11|  18|    4|\n",
      "+----------+----+-----+\n",
      "only showing top 20 rows\n",
      "\n"
     ]
    },
    {
     "name": "stderr",
     "output_type": "stream",
     "text": [
      "\r",
      "                                                                                \r"
     ]
    }
   ],
   "source": [
    "#same as above but also excluding minutes, using date_format and extracting date and hours only\n",
    "tweetsDf.groupBy(\n",
    "    F.date_format('created_at', 'yyyy-MM-dd').alias('date'),\n",
    "    F.date_format('created_at', 'HH').alias('hour')\n",
    ").agg(F.count('*').alias('count')).orderBy(F.desc('count')).show() #aggregating counts of timestamps (tweets) producing a new column"
   ]
  },
  {
   "cell_type": "markdown",
   "id": "c0d6b297",
   "metadata": {},
   "source": [
    "### Dates without tweets (~missing dates)"
   ]
  },
  {
   "cell_type": "code",
   "execution_count": 57,
   "id": "7c7329e9",
   "metadata": {
    "scrolled": true
   },
   "outputs": [
    {
     "name": "stdout",
     "output_type": "stream",
     "text": [
      " Between\n",
      " 2012-01-02 \n",
      " and\n",
      " 2013-03-01 \n",
      "\n"
     ]
    },
    {
     "name": "stderr",
     "output_type": "stream",
     "text": [
      "                                                                                \r"
     ]
    },
    {
     "name": "stdout",
     "output_type": "stream",
     "text": [
      " there are missing dates-> 6\n"
     ]
    },
    {
     "name": "stderr",
     "output_type": "stream",
     "text": [
      "\r",
      "[Stage 114:>                                                        (0 + 1) / 1]\r"
     ]
    },
    {
     "name": "stdout",
     "output_type": "stream",
     "text": [
      "+----------+\n",
      "|      date|\n",
      "+----------+\n",
      "|2012-12-28|\n",
      "|2012-12-27|\n",
      "|2012-12-30|\n",
      "|2012-02-05|\n",
      "|2012-12-31|\n",
      "|2012-12-29|\n",
      "+----------+\n",
      "\n"
     ]
    },
    {
     "name": "stderr",
     "output_type": "stream",
     "text": [
      "\r",
      "                                                                                \r"
     ]
    }
   ],
   "source": [
    "print(' Between\\n',oldestDate,'\\n and\\n',latestDate,'\\n')\n",
    "\n",
    "#converting dates to Unix timestamps -> int() cannot be datetime.date\n",
    "oldestDate= int(oldestDate.strftime(\"%s\"))\n",
    "latestDate= int(latestDate.strftime(\"%s\"))\n",
    "\n",
    "#generating the list of dates. 86400 s/day\n",
    "timeRange= spark.range(start=oldestDate, end=latestDate, step=86400).selectExpr(\"to_date(from_unixtime(id)) as date\")\n",
    "\n",
    "\n",
    "\n",
    "#Listing missing dates with anti-join between the date range and the 'created_at' column. \n",
    "missingDates= timeRange.join(tweetsDf, timeRange.date == tweetsDf.created_at.cast(DateType()), 'leftanti') # leftanti selects the rows from the left df that do not have a matching key from the right df\n",
    "\n",
    "\n",
    "print(\" there are missing dates->\",missingDates.count());missingDates.show()"
   ]
  },
  {
   "cell_type": "markdown",
   "id": "e57801f6",
   "metadata": {},
   "source": [
    "#### Checking number of natural hours per day that hold tweets"
   ]
  },
  {
   "cell_type": "code",
   "execution_count": 58,
   "id": "a1b9b93d",
   "metadata": {},
   "outputs": [
    {
     "name": "stderr",
     "output_type": "stream",
     "text": [
      "\r",
      "[Stage 121:>                                                        (0 + 1) / 1]\r"
     ]
    },
    {
     "name": "stdout",
     "output_type": "stream",
     "text": [
      "+----------+---------------+\n",
      "|      date|uniqueHourCount|\n",
      "+----------+---------------+\n",
      "|2012-09-24|             18|\n",
      "|2012-09-26|             18|\n",
      "|2012-09-20|             17|\n",
      "|2012-10-03|             17|\n",
      "|2012-09-28|             17|\n",
      "|2012-10-05|             16|\n",
      "|2012-09-27|             16|\n",
      "|2012-11-07|             16|\n",
      "|2012-10-21|             15|\n",
      "|2012-10-27|             15|\n",
      "|2012-11-06|             15|\n",
      "|2012-09-21|             14|\n",
      "|2012-10-24|             14|\n",
      "|2012-06-24|             14|\n",
      "|2012-09-23|             14|\n",
      "|2012-02-29|             14|\n",
      "|2012-10-09|             14|\n",
      "|2012-11-03|             13|\n",
      "|2012-11-14|             13|\n",
      "|2012-10-08|             13|\n",
      "+----------+---------------+\n",
      "only showing top 20 rows\n",
      "\n"
     ]
    },
    {
     "name": "stderr",
     "output_type": "stream",
     "text": [
      "\r",
      "                                                                                \r"
     ]
    }
   ],
   "source": [
    "#grouping by date and count unique hours. Extranting features with module 'functions'. Counts the unique hours per day and aggregates the totals in a new column\n",
    "hourlyPerDay = tweetsDf.groupBy(F.to_date('created_at').alias('date')).agg(F.countDistinct(F.hour('created_at')).alias('uniqueHourCount'))\n",
    "\n",
    "hourlyPerDay.orderBy(desc('uniqueHourCount')).show() # ORDENADOS DESCENDENTEMENTE PARA VER LO Q SERIA LA MEJOR PARTE, QUE EN REALIDAD EVIDENCIA QUE NO ES BUENA, AUNQ EL NUMERO DE TWEETS NO ES ALTO DE PRIMERAS"
   ]
  },
  {
   "cell_type": "code",
   "execution_count": 59,
   "id": "9b884e18",
   "metadata": {
    "scrolled": true
   },
   "outputs": [
    {
     "name": "stderr",
     "output_type": "stream",
     "text": [
      "                                                                                \r"
     ]
    },
    {
     "data": {
      "text/html": [
       "<div>\n",
       "<style scoped>\n",
       "    .dataframe tbody tr th:only-of-type {\n",
       "        vertical-align: middle;\n",
       "    }\n",
       "\n",
       "    .dataframe tbody tr th {\n",
       "        vertical-align: top;\n",
       "    }\n",
       "\n",
       "    .dataframe thead th {\n",
       "        text-align: right;\n",
       "    }\n",
       "</style>\n",
       "<table border=\"1\" class=\"dataframe\">\n",
       "  <thead>\n",
       "    <tr style=\"text-align: right;\">\n",
       "      <th></th>\n",
       "      <th>uniqueHourCount</th>\n",
       "    </tr>\n",
       "  </thead>\n",
       "  <tbody>\n",
       "    <tr>\n",
       "      <th>count</th>\n",
       "      <td>420.000000</td>\n",
       "    </tr>\n",
       "    <tr>\n",
       "      <th>mean</th>\n",
       "      <td>6.573810</td>\n",
       "    </tr>\n",
       "    <tr>\n",
       "      <th>std</th>\n",
       "      <td>3.322273</td>\n",
       "    </tr>\n",
       "    <tr>\n",
       "      <th>min</th>\n",
       "      <td>1.000000</td>\n",
       "    </tr>\n",
       "    <tr>\n",
       "      <th>25%</th>\n",
       "      <td>4.000000</td>\n",
       "    </tr>\n",
       "    <tr>\n",
       "      <th>50%</th>\n",
       "      <td>6.000000</td>\n",
       "    </tr>\n",
       "    <tr>\n",
       "      <th>75%</th>\n",
       "      <td>8.000000</td>\n",
       "    </tr>\n",
       "    <tr>\n",
       "      <th>max</th>\n",
       "      <td>18.000000</td>\n",
       "    </tr>\n",
       "  </tbody>\n",
       "</table>\n",
       "</div>"
      ],
      "text/plain": [
       "       uniqueHourCount\n",
       "count       420.000000\n",
       "mean          6.573810\n",
       "std           3.322273\n",
       "min           1.000000\n",
       "25%           4.000000\n",
       "50%           6.000000\n",
       "75%           8.000000\n",
       "max          18.000000"
      ]
     },
     "execution_count": 59,
     "metadata": {},
     "output_type": "execute_result"
    }
   ],
   "source": [
    "#checking percentiles\n",
    "hourlyPerDay.toPandas().describe(percentiles=[0.25, 0.5, 0.75])"
   ]
  },
  {
   "cell_type": "code",
   "execution_count": 60,
   "id": "e57479bd",
   "metadata": {},
   "outputs": [
    {
     "data": {
      "image/png": "[encoded data removed]",
      "text/plain": [
       "<Figure size 432x288 with 1 Axes>"
      ]
     },
     "metadata": {
      "needs_background": "light"
     },
     "output_type": "display_data"
    }
   ],
   "source": [
    "#transforming to pandas for the histogram \n",
    "plt.hist(hourlyPerDay.toPandas()['uniqueHourCount'], bins=10, edgecolor='white')\n",
    "\n",
    "#Arranging axis labels, ticks, title\n",
    "plt.xlabel('Number of natural hours per day contaning tweets')\n",
    "plt.ylabel('Frequency')\n",
    "plt.xticks(np.arange(2,21,2))\n",
    "plt.title('Fig. 3 - Histogram of counts of unique hours with tweets per day')\n",
    "\n",
    "plt.show()"
   ]
  },
  {
   "cell_type": "markdown",
   "id": "98718c61",
   "metadata": {},
   "source": [
    "## Basic plots"
   ]
  },
  {
   "cell_type": "code",
   "execution_count": 61,
   "id": "f22feb2b",
   "metadata": {},
   "outputs": [
    {
     "name": "stderr",
     "output_type": "stream",
     "text": [
      "                                                                                \r"
     ]
    },
    {
     "data": {
      "image/png": "[encoded data removed]",
      "text/plain": [
       "<Figure size 504x288 with 1 Axes>"
      ]
     },
     "metadata": {
      "needs_background": "light"
     },
     "output_type": "display_data"
    }
   ],
   "source": [
    "from pyspark.sql.functions import count\n",
    "\n",
    "#extracting each of the days of the week\n",
    "tweetsDf= tweetsDf.withColumn('day_of_week', dayofweek('created_at'))\n",
    "\n",
    "# counting number of tweets by day of the week by adding a new column\n",
    "tweetCounts= tweetsDf.groupBy('day_of_week').agg(count('*').alias('count'))\n",
    "\n",
    "\n",
    "dayLabels= ['Monday', 'Tuesday', 'Wednesday', 'Thursday', 'Friday', 'Saturday', 'Sunday']\n",
    "\n",
    "plt.figure(figsize=(7, 4))#setting size of plot\n",
    "plt.bar(tweetCounts.toPandas()['day_of_week'], tweetCounts.toPandas()['count'])#need to convert to pandas\n",
    "\n",
    "#Arranging axis labels, ticks, title\n",
    "plt.xlabel('Day of the week')\n",
    "plt.ylabel('Count of tweets')\n",
    "plt.title('Fig. 4 - Histogram of tweets per day of the week')\n",
    "plt.xticks(range(1, 8), dayLabels, rotation=45)\n",
    "plt.show()"
   ]
  },
  {
   "cell_type": "code",
   "execution_count": 62,
   "id": "cd521f14",
   "metadata": {},
   "outputs": [
    {
     "data": {
      "text/plain": [
       "DataFrame[day_of_week: int, count: bigint]"
      ]
     },
     "execution_count": 62,
     "metadata": {},
     "output_type": "execute_result"
    }
   ],
   "source": [
    "tweetCounts"
   ]
  },
  {
   "cell_type": "code",
   "execution_count": 63,
   "id": "c858c719",
   "metadata": {},
   "outputs": [
    {
     "name": "stderr",
     "output_type": "stream",
     "text": [
      "                                                                                \r"
     ]
    },
    {
     "data": {
      "image/png": "[encoded data removed]",
      "text/plain": [
       "<Figure size 648x360 with 1 Axes>"
      ]
     },
     "metadata": {
      "needs_background": "light"
     },
     "output_type": "display_data"
    }
   ],
   "source": [
    "# extracting months\n",
    "tweetsDf= tweetsDf.withColumn('month', month('created_at'))\n",
    "\n",
    "#same as before adding a new column with counts\n",
    "tweetCounts= tweetsDf.groupBy('month').agg(count('*').alias('count'))\n",
    "\n",
    "\n",
    "\n",
    "monthLabels= ['January', 'February', 'March', 'April', 'May', 'June', 'July', 'August', 'September', 'October', 'November', 'December']\n",
    "\n",
    "\n",
    "plt.figure(figsize=(9, 5))\n",
    "plt.bar(tweetCounts.toPandas()['month'], tweetCounts.toPandas()['count'])\n",
    "plt.xlabel('Month')\n",
    "plt.ylabel('Count of tweets')\n",
    "plt.title('Fig. 5 - Histogram per month')\n",
    "plt.xticks(range(1, 13), monthLabels,rotation=45)\n",
    "plt.tight_layout()\n",
    "plt.show()"
   ]
  },
  {
   "cell_type": "code",
   "execution_count": 64,
   "id": "988eb351",
   "metadata": {
    "scrolled": false
   },
   "outputs": [
    {
     "name": "stderr",
     "output_type": "stream",
     "text": [
      "                                                                                \r"
     ]
    },
    {
     "data": {
      "image/png": "[encoded data removed]",
      "text/plain": [
       "<Figure size 1080x432 with 1 Axes>"
      ]
     },
     "metadata": {
      "needs_background": "light"
     },
     "output_type": "display_data"
    }
   ],
   "source": [
    "#extracting each of the 24 hours of a day\n",
    "tweetsDf= tweetsDf.withColumn('hour_of_day', hour('created_at'))\n",
    "\n",
    "#adding column with counts\n",
    "tweetCounts= tweetsDf.groupBy('hour_of_day').agg(count('*').alias('count'))\n",
    "\n",
    "\n",
    "plt.figure(figsize=(15, 6))\n",
    "plt.bar(tweetCounts.toPandas()['hour_of_day'], tweetCounts.toPandas()['count'])\n",
    "plt.xlabel('Hour of the day')\n",
    "plt.ylabel('Count of tweets')\n",
    "plt.title('Fig. 6 - Histogram per hour of the day')\n",
    "plt.xticks(range(24))\n",
    "plt.tight_layout()\n",
    "plt.show()"
   ]
  },
  {
   "cell_type": "markdown",
   "id": "52166802",
   "metadata": {},
   "source": [
    "## cleaning RDD "
   ]
  },
  {
   "cell_type": "markdown",
   "id": "5773233c",
   "metadata": {},
   "source": [
    "Before removing hashtags, assigning -1 to tweets including '#stopmonsanto' or '#nogmo' or '#stopfrankenfish'"
   ]
  },
  {
   "cell_type": "code",
   "execution_count": 65,
   "id": "6fb77a3b",
   "metadata": {},
   "outputs": [],
   "source": [
    "from pyspark.sql import Row"
   ]
  },
  {
   "cell_type": "code",
   "execution_count": 66,
   "id": "5241c4ce",
   "metadata": {},
   "outputs": [],
   "source": [
    "#creating function to assign -1 sentiment score to certain tweets. Else 'None'\n",
    "def addNegativeSentScore(row):\n",
    "    \n",
    "    #selecting text field for each row, making it lower case to match the strings below\n",
    "    text = row.text.lower()\n",
    "    \n",
    "    if '#stopmonsanto' in text or '#nogmo' in text or '#stopfrankenfish' in text:\n",
    "        sentiment_score = -1\n",
    "        \n",
    "    else:\n",
    "        sentiment_score = None\n",
    "    \n",
    "    return Row(created_at=row.created_at, text=row.text, sentimentScore=sentiment_score)\n",
    "\n",
    "#applying function\n",
    "tweetsRddScore = tweetsRdd.map(addNegativeSentScore)"
   ]
  },
  {
   "cell_type": "code",
   "execution_count": 67,
   "id": "8fe93244",
   "metadata": {},
   "outputs": [
    {
     "name": "stderr",
     "output_type": "stream",
     "text": [
      "                                                                                \r"
     ]
    },
    {
     "data": {
      "text/plain": [
       "47"
      ]
     },
     "execution_count": 67,
     "metadata": {},
     "output_type": "execute_result"
    }
   ],
   "source": [
    "#checking number of sentimentScore assigned\n",
    "tweetsRddScore.filter(lambda row: row.sentimentScore == -1).count()"
   ]
  },
  {
   "cell_type": "markdown",
   "id": "ae3e3f63",
   "metadata": {},
   "source": [
    "##### data cleaning"
   ]
  },
  {
   "cell_type": "code",
   "execution_count": 68,
   "id": "c471450c",
   "metadata": {},
   "outputs": [
    {
     "name": "stderr",
     "output_type": "stream",
     "text": [
      "[nltk_data] Downloading package stopwords to /home/hduser/nltk_data...\n",
      "[nltk_data]   Package stopwords is already up-to-date!\n",
      "[nltk_data] Downloading package punkt to /home/hduser/nltk_data...\n",
      "[nltk_data]   Package punkt is already up-to-date!\n",
      "[nltk_data] Downloading package wordnet to /home/hduser/nltk_data...\n",
      "[nltk_data]   Package wordnet is already up-to-date!\n"
     ]
    },
    {
     "data": {
      "text/plain": [
       "True"
      ]
     },
     "execution_count": 68,
     "metadata": {},
     "output_type": "execute_result"
    }
   ],
   "source": [
    "import re # regular expressions\n",
    "from pyspark.ml.feature import StopWordsRemover\n",
    "from nltk.tokenize import word_tokenize\n",
    "from nltk.stem import WordNetLemmatizer\n",
    "from textblob import TextBlob\n",
    "nltk.download('stopwords')\n",
    "nltk.download('punkt')\n",
    "nltk.download('wordnet')"
   ]
  },
  {
   "cell_type": "code",
   "execution_count": 69,
   "id": "10bd1994",
   "metadata": {},
   "outputs": [],
   "source": [
    "# stopwords for English\n",
    "stopwords = set(stopwords.words('english'))"
   ]
  },
  {
   "cell_type": "code",
   "execution_count": 70,
   "id": "9babf2e6",
   "metadata": {},
   "outputs": [],
   "source": [
    "# Cleaning up tweets\n",
    "def clean_text(row):\n",
    "    text = row.text\n",
    "\n",
    "    # removing links\n",
    "    text = re.sub(r'http\\S+', '', text)\n",
    "\n",
    "    # hashtags\n",
    "    text = re.sub(r'#\\w+', '', text)\n",
    "    \n",
    "    # user mentions -starting with @-\n",
    "    text = re.sub(r'@\\w+', '', text)\n",
    "\n",
    "    # special characters \n",
    "    text = re.sub(r'[^a-zA-Z0-9]', ' ', text)\n",
    "    \n",
    "    # in case there are single characters\n",
    "    text = re.sub(r'\\b\\w\\b', '', text)\n",
    "\n",
    "    \n",
    "    #tokenizing text into words\n",
    "    tokens = word_tokenize(text)\n",
    "\n",
    "    # removing stopwords, common words and making it lower case\n",
    "    woTokens = [token.lower() for token in tokens if token.lower() not in stopwords and token.lower() not in wordsToRemove]\n",
    "\n",
    "    \n",
    "    # spelling correction\n",
    "    corrected_tokens = [str(TextBlob(token).correct()) for token in woTokens]\n",
    "\n",
    "    # lemmatizing words\n",
    "    lemmatizer = WordNetLemmatizer()\n",
    "    lemmatized_tokens = [lemmatizer.lemmatize(token) for token in corrected_tokens]\n",
    "\n",
    "    # joining tokens back\n",
    "    cleaned_text = ' '.join(lemmatized_tokens)\n",
    "\n",
    "    return Row(created_at=row.created_at, text=cleaned_text, sentimentScore=row.sentimentScore)"
   ]
  },
  {
   "cell_type": "code",
   "execution_count": 73,
   "id": "91ea5150",
   "metadata": {},
   "outputs": [],
   "source": [
    "# applying function to the RDD\n",
    "cleanedRdd = tweetsRddScore.map(clean_text)"
   ]
  },
  {
   "cell_type": "code",
   "execution_count": 74,
   "id": "3c0860db",
   "metadata": {
    "scrolled": true
   },
   "outputs": [
    {
     "name": "stderr",
     "output_type": "stream",
     "text": [
      "                                                                                \r"
     ]
    },
    {
     "data": {
      "text/plain": [
       "Row(created_at=datetime.datetime(2012, 1, 2, 20, 9, 42), text='u settled upon superb solution let go industry conduct environmental impact test', sentimentScore=None)"
      ]
     },
     "execution_count": 74,
     "metadata": {},
     "output_type": "execute_result"
    }
   ],
   "source": [
    "cleanedRdd.first()"
   ]
  },
  {
   "cell_type": "code",
   "execution_count": 75,
   "id": "9d046930",
   "metadata": {},
   "outputs": [
    {
     "name": "stderr",
     "output_type": "stream",
     "text": [
      "                                                                                \r"
     ]
    },
    {
     "data": {
      "text/plain": [
       "3597"
      ]
     },
     "execution_count": 75,
     "metadata": {},
     "output_type": "execute_result"
    }
   ],
   "source": [
    "cleanedRdd.count()"
   ]
  },
  {
   "cell_type": "markdown",
   "id": "a440c46f",
   "metadata": {},
   "source": [
    "### Assigning a sentiment score"
   ]
  },
  {
   "cell_type": "code",
   "execution_count": 77,
   "id": "c4a3671a",
   "metadata": {},
   "outputs": [],
   "source": [
    "#!pip install textblob"
   ]
  },
  {
   "cell_type": "code",
   "execution_count": null,
   "id": "cddfca97",
   "metadata": {},
   "outputs": [],
   "source": []
  },
  {
   "cell_type": "code",
   "execution_count": 78,
   "id": "b9e33cce",
   "metadata": {},
   "outputs": [],
   "source": [
    "def sentimentScore(row):\n",
    "    text = row.text\n",
    "    \n",
    "    # Check if sentimentScore is already assigned\n",
    "    if row.sentimentScore is None:\n",
    "        # Creating TextBlob object\n",
    "        blob = TextBlob(text)\n",
    "\n",
    "        # Getting polarity score\n",
    "        polarity = blob.sentiment.polarity\n",
    "\n",
    "        # Updating row with sentiment score\n",
    "        return Row(created_at=row.created_at, text=row.text, sentimentScore=polarity)\n",
    "    \n",
    "    # Return the row as it is if sentimentScore is already assigned\n",
    "    return row"
   ]
  },
  {
   "cell_type": "code",
   "execution_count": 79,
   "id": "a617da29",
   "metadata": {},
   "outputs": [],
   "source": [
    "#applying function\n",
    "sentimentRdd = cleanedRdd.map(sentimentScore)"
   ]
  },
  {
   "cell_type": "code",
   "execution_count": 84,
   "id": "afdb767e",
   "metadata": {
    "scrolled": true
   },
   "outputs": [
    {
     "name": "stderr",
     "output_type": "stream",
     "text": [
      "                                                                                \r"
     ]
    },
    {
     "data": {
      "text/plain": [
       "Row(created_at=datetime.datetime(2012, 1, 2, 20, 9, 42), text='u settled upon superb solution let go industry conduct environmental impact test', sentimentScore=1.0)"
      ]
     },
     "execution_count": 84,
     "metadata": {},
     "output_type": "execute_result"
    }
   ],
   "source": [
    "sentimentRdd.first()"
   ]
  },
  {
   "cell_type": "code",
   "execution_count": 82,
   "id": "f04a8fab",
   "metadata": {},
   "outputs": [
    {
     "name": "stderr",
     "output_type": "stream",
     "text": [
      "                                                                                \r"
     ]
    }
   ],
   "source": [
    "# number of tweets\n",
    "tweetsNumber = sentimentRdd.count()\n",
    "\n",
    "\n",
    "#tweets with score > 0.3 (+ sentiment)\n",
    "positiveTweets = sentimentRdd.filter(lambda row: row.sentimentScore > 0.33).count()\n",
    "\n",
    "# tweets with score < -0.3 (- sentiment)\n",
    "negativeTweets = sentimentRdd.filter(lambda row: row.sentimentScore < -0.33).count()\n",
    "\n",
    "\n",
    "# proportions\n",
    "positivePercent = (positiveTweets / tweetsNumber)*100\n",
    "negativePercent = (negativeTweets / tweetsNumber)*100"
   ]
  },
  {
   "cell_type": "code",
   "execution_count": 83,
   "id": "b9333078",
   "metadata": {
    "scrolled": true
   },
   "outputs": [
    {
     "name": "stdout",
     "output_type": "stream",
     "text": [
      "14.3 % of tweets with positive sentiment\n",
      "6.4 % of tweets with negative sentiment\n",
      "79.3 % of tweets with neutral sentiment\n"
     ]
    }
   ],
   "source": [
    "print(round(positivePercent,1),'% of tweets with positive sentiment')\n",
    "print(round(negativePercent,1),'% of tweets with negative sentiment')\n",
    "print(round(100-positivePercent-negativePercent,1),'% of tweets with neutral sentiment')"
   ]
  },
  {
   "cell_type": "code",
   "execution_count": 85,
   "id": "6322884f",
   "metadata": {},
   "outputs": [],
   "source": [
    "from pyspark.sql.functions import to_date, avg, format_number"
   ]
  },
  {
   "cell_type": "code",
   "execution_count": 86,
   "id": "bc892026",
   "metadata": {},
   "outputs": [
    {
     "name": "stderr",
     "output_type": "stream",
     "text": [
      "[Stage 189:>                                                        (0 + 1) / 1]\r"
     ]
    },
    {
     "name": "stdout",
     "output_type": "stream",
     "text": [
      "+----------+------------+\n",
      "|      date|averageScore|\n",
      "+----------+------------+\n",
      "|2012-01-02|        1.00|\n",
      "|2012-01-03|       -0.04|\n",
      "|2012-01-04|        0.00|\n",
      "|2012-01-05|       -0.00|\n",
      "|2012-01-06|        0.13|\n",
      "|2012-01-07|       -0.06|\n",
      "|2012-01-08|       -0.10|\n",
      "|2012-01-09|        0.09|\n",
      "|2012-01-10|        0.05|\n",
      "|2012-01-11|       -0.15|\n",
      "|2012-01-12|       -0.17|\n",
      "|2012-01-13|       -0.04|\n",
      "|2012-01-14|       -0.15|\n",
      "|2012-01-15|       -0.03|\n",
      "|2012-01-16|        0.11|\n",
      "|2012-01-17|       -0.04|\n",
      "|2012-01-18|       -0.05|\n",
      "|2012-01-19|       -0.03|\n",
      "|2012-01-20|        0.16|\n",
      "|2012-01-21|       -0.07|\n",
      "+----------+------------+\n",
      "only showing top 20 rows\n",
      "\n"
     ]
    },
    {
     "name": "stderr",
     "output_type": "stream",
     "text": [
      "\r",
      "                                                                                \r"
     ]
    }
   ],
   "source": [
    "sentimentDf = spark.createDataFrame(sentimentRdd, ['created_at', 'text'])\n",
    "\n",
    "#grouping df by date. Get average score per day and sort by date\n",
    "averageScores = sentimentDf.groupBy(to_date('created_at').alias('date')).agg(format_number(avg('sentimentScore'),2).alias('averageScore')).orderBy(F.asc('date'))\n",
    "\n",
    "averageScores.show()"
   ]
  },
  {
   "cell_type": "code",
   "execution_count": 87,
   "id": "464c300a",
   "metadata": {},
   "outputs": [
    {
     "name": "stderr",
     "output_type": "stream",
     "text": [
      "                                                                                \r"
     ]
    },
    {
     "data": {
      "text/html": [
       "<div>\n",
       "<style scoped>\n",
       "    .dataframe tbody tr th:only-of-type {\n",
       "        vertical-align: middle;\n",
       "    }\n",
       "\n",
       "    .dataframe tbody tr th {\n",
       "        vertical-align: top;\n",
       "    }\n",
       "\n",
       "    .dataframe thead th {\n",
       "        text-align: right;\n",
       "    }\n",
       "</style>\n",
       "<table border=\"1\" class=\"dataframe\">\n",
       "  <thead>\n",
       "    <tr style=\"text-align: right;\">\n",
       "      <th></th>\n",
       "      <th>date</th>\n",
       "      <th>averageScore</th>\n",
       "    </tr>\n",
       "  </thead>\n",
       "  <tbody>\n",
       "    <tr>\n",
       "      <th>0</th>\n",
       "      <td>2012-01-02</td>\n",
       "      <td>1.00</td>\n",
       "    </tr>\n",
       "    <tr>\n",
       "      <th>1</th>\n",
       "      <td>2012-01-03</td>\n",
       "      <td>-0.04</td>\n",
       "    </tr>\n",
       "    <tr>\n",
       "      <th>2</th>\n",
       "      <td>2012-01-04</td>\n",
       "      <td>0.00</td>\n",
       "    </tr>\n",
       "    <tr>\n",
       "      <th>3</th>\n",
       "      <td>2012-01-05</td>\n",
       "      <td>-0.00</td>\n",
       "    </tr>\n",
       "    <tr>\n",
       "      <th>4</th>\n",
       "      <td>2012-01-06</td>\n",
       "      <td>0.13</td>\n",
       "    </tr>\n",
       "    <tr>\n",
       "      <th>...</th>\n",
       "      <td>...</td>\n",
       "      <td>...</td>\n",
       "    </tr>\n",
       "    <tr>\n",
       "      <th>415</th>\n",
       "      <td>2013-02-25</td>\n",
       "      <td>0.06</td>\n",
       "    </tr>\n",
       "    <tr>\n",
       "      <th>416</th>\n",
       "      <td>2013-02-26</td>\n",
       "      <td>0.00</td>\n",
       "    </tr>\n",
       "    <tr>\n",
       "      <th>417</th>\n",
       "      <td>2013-02-27</td>\n",
       "      <td>-0.03</td>\n",
       "    </tr>\n",
       "    <tr>\n",
       "      <th>418</th>\n",
       "      <td>2013-02-28</td>\n",
       "      <td>0.19</td>\n",
       "    </tr>\n",
       "    <tr>\n",
       "      <th>419</th>\n",
       "      <td>2013-03-01</td>\n",
       "      <td>-0.20</td>\n",
       "    </tr>\n",
       "  </tbody>\n",
       "</table>\n",
       "<p>420 rows × 2 columns</p>\n",
       "</div>"
      ],
      "text/plain": [
       "           date  averageScore\n",
       "0    2012-01-02          1.00\n",
       "1    2012-01-03         -0.04\n",
       "2    2012-01-04          0.00\n",
       "3    2012-01-05         -0.00\n",
       "4    2012-01-06          0.13\n",
       "..          ...           ...\n",
       "415  2013-02-25          0.06\n",
       "416  2013-02-26          0.00\n",
       "417  2013-02-27         -0.03\n",
       "418  2013-02-28          0.19\n",
       "419  2013-03-01         -0.20\n",
       "\n",
       "[420 rows x 2 columns]"
      ]
     },
     "execution_count": 87,
     "metadata": {},
     "output_type": "execute_result"
    }
   ],
   "source": [
    "#converting to pandas\n",
    "averageScoresPd = averageScores.toPandas()\n",
    "averageScoresPd['averageScore']= averageScoresPd['averageScore'].astype(float).round(decimals=2) #averageScore needs to be reconverted as float so that it is ordered in the y axis\n",
    "averageScoresPd"
   ]
  },
  {
   "cell_type": "code",
   "execution_count": 88,
   "id": "37d4aee4",
   "metadata": {},
   "outputs": [
    {
     "data": {
      "text/html": [
       "<div>\n",
       "<style scoped>\n",
       "    .dataframe tbody tr th:only-of-type {\n",
       "        vertical-align: middle;\n",
       "    }\n",
       "\n",
       "    .dataframe tbody tr th {\n",
       "        vertical-align: top;\n",
       "    }\n",
       "\n",
       "    .dataframe thead th {\n",
       "        text-align: right;\n",
       "    }\n",
       "</style>\n",
       "<table border=\"1\" class=\"dataframe\">\n",
       "  <thead>\n",
       "    <tr style=\"text-align: right;\">\n",
       "      <th></th>\n",
       "      <th>averageScore</th>\n",
       "    </tr>\n",
       "  </thead>\n",
       "  <tbody>\n",
       "    <tr>\n",
       "      <th>count</th>\n",
       "      <td>419.000000</td>\n",
       "    </tr>\n",
       "    <tr>\n",
       "      <th>mean</th>\n",
       "      <td>0.067613</td>\n",
       "    </tr>\n",
       "    <tr>\n",
       "      <th>std</th>\n",
       "      <td>0.118366</td>\n",
       "    </tr>\n",
       "    <tr>\n",
       "      <th>min</th>\n",
       "      <td>-0.280000</td>\n",
       "    </tr>\n",
       "    <tr>\n",
       "      <th>25%</th>\n",
       "      <td>0.000000</td>\n",
       "    </tr>\n",
       "    <tr>\n",
       "      <th>50%</th>\n",
       "      <td>0.060000</td>\n",
       "    </tr>\n",
       "    <tr>\n",
       "      <th>75%</th>\n",
       "      <td>0.130000</td>\n",
       "    </tr>\n",
       "    <tr>\n",
       "      <th>max</th>\n",
       "      <td>1.000000</td>\n",
       "    </tr>\n",
       "  </tbody>\n",
       "</table>\n",
       "</div>"
      ],
      "text/plain": [
       "       averageScore\n",
       "count    419.000000\n",
       "mean       0.067613\n",
       "std        0.118366\n",
       "min       -0.280000\n",
       "25%        0.000000\n",
       "50%        0.060000\n",
       "75%        0.130000\n",
       "max        1.000000"
      ]
     },
     "execution_count": 88,
     "metadata": {},
     "output_type": "execute_result"
    }
   ],
   "source": [
    "averageScoresPd.describe()"
   ]
  },
  {
   "cell_type": "code",
   "execution_count": 89,
   "id": "ef1987f2",
   "metadata": {},
   "outputs": [
    {
     "data": {
      "image/png": "[encoded data removed]",
      "text/plain": [
       "<Figure size 1440x432 with 1 Axes>"
      ]
     },
     "metadata": {
      "needs_background": "light"
     },
     "output_type": "display_data"
    }
   ],
   "source": [
    "# Plot the average score per day\n",
    "plt.figure(figsize=(20, 6))  # Set the figure size\n",
    "\n",
    "# Plotting scores\n",
    "plt.plot(averageScoresPd['date'], averageScoresPd['averageScore']) \n",
    "\n",
    "# Formatting the plot\n",
    "plt.xlabel('Date')\n",
    "plt.ylabel('Average score')\n",
    "plt.title('Fig. 7 - Daily average score')\n",
    "plt.show()"
   ]
  },
  {
   "cell_type": "markdown",
   "id": "1949ec3c",
   "metadata": {},
   "source": [
    "Adding missing dates and filling scores with NaNs"
   ]
  },
  {
   "cell_type": "code",
   "execution_count": 90,
   "id": "faf00407",
   "metadata": {},
   "outputs": [
    {
     "data": {
      "text/plain": [
       "420"
      ]
     },
     "execution_count": 90,
     "metadata": {},
     "output_type": "execute_result"
    }
   ],
   "source": [
    "len(averageScoresPd)"
   ]
  },
  {
   "cell_type": "code",
   "execution_count": 91,
   "id": "c68470d8",
   "metadata": {},
   "outputs": [],
   "source": [
    "#setting date column as index\n",
    "averageScoresPd.set_index('date', inplace=True)"
   ]
  },
  {
   "cell_type": "code",
   "execution_count": 92,
   "id": "e8fd5e86",
   "metadata": {},
   "outputs": [],
   "source": [
    "# generating a date range \n",
    "dateRange= pd.date_range(start=averageScoresPd.index.min(), end=averageScoresPd.index.max(), freq='D')#daily frequence\n",
    "\n",
    "# reindexing df with the date range. Missing scores filled with NaN\n",
    "averageScoresPd= averageScoresPd.reindex(dateRange)\n",
    "\n",
    "\n",
    "\n",
    "#reseting index to include the 'date' column\n",
    "averageScoresPd.reset_index(inplace=True)\n",
    "averageScoresPd.rename(columns={'index': 'date'}, inplace=True)\n",
    "\n",
    "# Sort the DataFrame by date\n",
    "averageScoresPd.sort_values('date', inplace=True)\n",
    "\n"
   ]
  },
  {
   "cell_type": "code",
   "execution_count": 93,
   "id": "6eec7962",
   "metadata": {},
   "outputs": [
    {
     "data": {
      "text/plain": [
       "date            0\n",
       "averageScore    6\n",
       "dtype: int64"
      ]
     },
     "execution_count": 93,
     "metadata": {},
     "output_type": "execute_result"
    }
   ],
   "source": [
    "averageScoresPd.isnull().sum()"
   ]
  },
  {
   "cell_type": "code",
   "execution_count": 94,
   "id": "cfebe12f",
   "metadata": {
    "scrolled": false
   },
   "outputs": [
    {
     "name": "stdout",
     "output_type": "stream",
     "text": [
      "<class 'pandas.core.frame.DataFrame'>\n",
      "Int64Index: 425 entries, 0 to 424\n",
      "Data columns (total 2 columns):\n",
      " #   Column        Non-Null Count  Dtype         \n",
      "---  ------        --------------  -----         \n",
      " 0   date          425 non-null    datetime64[ns]\n",
      " 1   averageScore  419 non-null    float64       \n",
      "dtypes: datetime64[ns](1), float64(1)\n",
      "memory usage: 10.0 KB\n"
     ]
    }
   ],
   "source": [
    "averageScoresPd.info()"
   ]
  },
  {
   "cell_type": "code",
   "execution_count": null,
   "id": "c104f7f4",
   "metadata": {},
   "outputs": [],
   "source": []
  },
  {
   "cell_type": "code",
   "execution_count": 95,
   "id": "958b00a4",
   "metadata": {},
   "outputs": [
    {
     "data": {
      "image/png": "[encoded data removed]",
      "text/plain": [
       "<Figure size 1440x432 with 1 Axes>"
      ]
     },
     "metadata": {
      "needs_background": "light"
     },
     "output_type": "display_data"
    }
   ],
   "source": [
    "# Plot the average score per day\n",
    "plt.figure(figsize=(20, 6))  # Set the figure size\n",
    "\n",
    "# Plotting scores\n",
    "plt.plot(averageScoresPd['date'], averageScoresPd['averageScore']) \n",
    "\n",
    "# Formatting the plot\n",
    "plt.xlabel('Date')\n",
    "plt.ylabel('Average Score')\n",
    "plt.title('Average Score per Day')\n",
    "plt.show()"
   ]
  },
  {
   "cell_type": "code",
   "execution_count": null,
   "id": "2656ec06",
   "metadata": {},
   "outputs": [],
   "source": []
  },
  {
   "cell_type": "code",
   "execution_count": 96,
   "id": "efb08426",
   "metadata": {},
   "outputs": [
    {
     "name": "stderr",
     "output_type": "stream",
     "text": [
      "                                                                                \r"
     ]
    }
   ],
   "source": [
    "oldestDate= sentimentDf.select(min('created_at')).first()[0].date()\n",
    "latestDate= sentimentDf.select(max('created_at')).first()[0].date()"
   ]
  },
  {
   "cell_type": "code",
   "execution_count": 97,
   "id": "3e942b70",
   "metadata": {
    "scrolled": true
   },
   "outputs": [
    {
     "name": "stdout",
     "output_type": "stream",
     "text": [
      " Between\n",
      " 2012-01-02 \n",
      " and\n",
      " 2013-03-01 \n",
      "\n"
     ]
    },
    {
     "name": "stderr",
     "output_type": "stream",
     "text": [
      "                                                                                \r"
     ]
    },
    {
     "name": "stdout",
     "output_type": "stream",
     "text": [
      " there are missing dates-> 5\n"
     ]
    },
    {
     "name": "stderr",
     "output_type": "stream",
     "text": [
      "[Stage 228:>                                                        (0 + 1) / 1]\r"
     ]
    },
    {
     "name": "stdout",
     "output_type": "stream",
     "text": [
      "+----------+\n",
      "|      date|\n",
      "+----------+\n",
      "|2012-12-28|\n",
      "|2012-12-30|\n",
      "|2012-02-05|\n",
      "|2012-12-31|\n",
      "|2012-12-29|\n",
      "+----------+\n",
      "\n"
     ]
    },
    {
     "name": "stderr",
     "output_type": "stream",
     "text": [
      "\r",
      "                                                                                \r"
     ]
    }
   ],
   "source": [
    "print(' Between\\n',oldestDate,'\\n and\\n',latestDate,'\\n')\n",
    "\n",
    "#converting dates to Unix timestamps -> int() cannot be datetime.date\n",
    "oldestDate= int(oldestDate.strftime(\"%s\"))\n",
    "latestDate= int(latestDate.strftime(\"%s\"))\n",
    "\n",
    "#generating the list of dates. 86400 s/day\n",
    "timeRange= spark.range(start=oldestDate, end=latestDate, step=86400).selectExpr(\"to_date(from_unixtime(id)) as date\")\n",
    "\n",
    "\n",
    "\n",
    "#Listing missing dates with anti-join between the date range and the 'created_at' column. \n",
    "missingDates= timeRange.join(sentimentDf, timeRange.date == sentimentDf.created_at.cast(DateType()), 'leftanti') # leftanti selects the rows from the left df that do not have a matching key from the right df\n",
    "\n",
    "\n",
    "print(\" there are missing dates->\",missingDates.count());missingDates.show()"
   ]
  },
  {
   "cell_type": "code",
   "execution_count": null,
   "id": "09425f76",
   "metadata": {},
   "outputs": [],
   "source": []
  }
 ],
 "metadata": {
  "kernelspec": {
   "display_name": "Python 3 (ipykernel)",
   "language": "python",
   "name": "python3"
  },
  "language_info": {
   "codemirror_mode": {
    "name": "ipython",
    "version": 3
   },
   "file_extension": ".py",
   "mimetype": "text/x-python",
   "name": "python",
   "nbconvert_exporter": "python",
   "pygments_lexer": "ipython3",
   "version": "3.10.6"
  }
 },
 "nbformat": 4,
 "nbformat_minor": 5
}
